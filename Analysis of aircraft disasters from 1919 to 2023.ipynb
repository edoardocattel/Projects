Analisi dei disastri aerei dal 1919 al 2023
La neonata IASS (International Alliance for Safe Skies) ti ha incaricato di svolgere un'accurata analisi di tutti gli incidenti aerei che si sono verificati dal 1919 al 2023.

A tale scopo ti mette a disposizione un set di dati in cui sono registrati quasi 25.000 incidenti con le seguenti informazioni:

date: data dell'incidente
type: tipo del velivolo
registration: codice di registrazione del velivolo
operator: operatore del velivolo
fatalities: numero di morti
location: luogo dell'incidente
country: nazione dell'incidente
cat: categoria dell'incidente come descritto dal ASN
Utilizza i dati per portare alla luce, anche tramite grafici e visualizzazioni, utili insight.

Esempi di Insight
Questi sono esempi di domande alla quale puoi trovare risposta tramite i dati, ma non limitarti a queste: svolgi un'analisi approfondita ponendoti ulteriori domande che pensi possano fornire insight utili:

In quale nazione si sono verificati più incidenti?
Gli incidenti avvengono più di frequente durante determinati giorni della settimana?
Quali sono gli operatori più sicuri?
Quale tipo di velivolo ha causato più morti?
Come si sono evoluti gli incidenti dopo l'11 Settembre?



{
  "nbformat": 4,
  "nbformat_minor": 0,
  "metadata": {
    "colab": {
      "provenance": [],
      "authorship_tag": "ABX9TyMEis2LVJKUss/vwwR8Td5y"
    },
    "kernelspec": {
      "name": "python3",
      "display_name": "Python 3"
    },
    "language_info": {
      "name": "python"
    }
  },
  "cells": [
    {
      "cell_type": "markdown",
      "source": [
        "#Analisi dei disastri aerei dal 1919 al 2023"
      ],
      "metadata": {
        "id": "7s4M_FMHfqSv"
      }
    },
    {
      "cell_type": "code",
      "source": [
        "import pandas as pd\n",
        "import numpy as np\n",
        "import matplotlib.pyplot as plt\n",
        "url = 'https://proai-datasets.s3.eu-west-3.amazonaws.com/aviation-accidents.csv'\n",
        "dataset = pd.read_csv(url)\n",
        "dataset.head()"
      ],
      "metadata": {
        "colab": {
          "base_uri": "https://localhost:8080/",
          "height": 206
        },
        "id": "g1xCYA3mf93B",
        "outputId": "0536c153-10e4-436b-e737-3212e6484e48"
      },
      "execution_count": 1,
      "outputs": [
        {
          "output_type": "execute_result",
          "data": {
            "text/plain": [
              "        date             type registration       operator fatalities  \\\n",
              "0  date unk.   Antonov An-12B       T-1206  Indonesian AF        NaN   \n",
              "1  date unk.   Antonov An-12B       T-1204  Indonesian AF        NaN   \n",
              "2  date unk.   Antonov An-12B       T-1201  Indonesian AF        NaN   \n",
              "3  date unk.  Antonov An-12BK          NaN      Soviet AF        NaN   \n",
              "4  date unk.  Antonov An-12BP   CCCP-11815      Soviet AF          0   \n",
              "\n",
              "              location          country cat     year  \n",
              "0                  NaN  Unknown country  U1  unknown  \n",
              "1                  NaN  Unknown country  U1  unknown  \n",
              "2                  NaN  Unknown country  U1  unknown  \n",
              "3  Tiksi Airport (IKS)           Russia  A1  unknown  \n",
              "4  Massawa Airport ...          Eritrea  A1  unknown  "
            ],
            "text/html": [
              "\n",
              "  <div id=\"df-66e6457e-180b-444f-8577-91b55e5a07bf\" class=\"colab-df-container\">\n",
              "    <div>\n",
              "<style scoped>\n",
              "    .dataframe tbody tr th:only-of-type {\n",
              "        vertical-align: middle;\n",
              "    }\n",
              "\n",
              "    .dataframe tbody tr th {\n",
              "        vertical-align: top;\n",
              "    }\n",
              "\n",
              "    .dataframe thead th {\n",
              "        text-align: right;\n",
              "    }\n",
              "</style>\n",
              "<table border=\"1\" class=\"dataframe\">\n",
              "  <thead>\n",
              "    <tr style=\"text-align: right;\">\n",
              "      <th></th>\n",
              "      <th>date</th>\n",
              "      <th>type</th>\n",
              "      <th>registration</th>\n",
              "      <th>operator</th>\n",
              "      <th>fatalities</th>\n",
              "      <th>location</th>\n",
              "      <th>country</th>\n",
              "      <th>cat</th>\n",
              "      <th>year</th>\n",
              "    </tr>\n",
              "  </thead>\n",
              "  <tbody>\n",
              "    <tr>\n",
              "      <th>0</th>\n",
              "      <td>date unk.</td>\n",
              "      <td>Antonov An-12B</td>\n",
              "      <td>T-1206</td>\n",
              "      <td>Indonesian AF</td>\n",
              "      <td>NaN</td>\n",
              "      <td>NaN</td>\n",
              "      <td>Unknown country</td>\n",
              "      <td>U1</td>\n",
              "      <td>unknown</td>\n",
              "    </tr>\n",
              "    <tr>\n",
              "      <th>1</th>\n",
              "      <td>date unk.</td>\n",
              "      <td>Antonov An-12B</td>\n",
              "      <td>T-1204</td>\n",
              "      <td>Indonesian AF</td>\n",
              "      <td>NaN</td>\n",
              "      <td>NaN</td>\n",
              "      <td>Unknown country</td>\n",
              "      <td>U1</td>\n",
              "      <td>unknown</td>\n",
              "    </tr>\n",
              "    <tr>\n",
              "      <th>2</th>\n",
              "      <td>date unk.</td>\n",
              "      <td>Antonov An-12B</td>\n",
              "      <td>T-1201</td>\n",
              "      <td>Indonesian AF</td>\n",
              "      <td>NaN</td>\n",
              "      <td>NaN</td>\n",
              "      <td>Unknown country</td>\n",
              "      <td>U1</td>\n",
              "      <td>unknown</td>\n",
              "    </tr>\n",
              "    <tr>\n",
              "      <th>3</th>\n",
              "      <td>date unk.</td>\n",
              "      <td>Antonov An-12BK</td>\n",
              "      <td>NaN</td>\n",
              "      <td>Soviet AF</td>\n",
              "      <td>NaN</td>\n",
              "      <td>Tiksi Airport (IKS)</td>\n",
              "      <td>Russia</td>\n",
              "      <td>A1</td>\n",
              "      <td>unknown</td>\n",
              "    </tr>\n",
              "    <tr>\n",
              "      <th>4</th>\n",
              "      <td>date unk.</td>\n",
              "      <td>Antonov An-12BP</td>\n",
              "      <td>CCCP-11815</td>\n",
              "      <td>Soviet AF</td>\n",
              "      <td>0</td>\n",
              "      <td>Massawa Airport ...</td>\n",
              "      <td>Eritrea</td>\n",
              "      <td>A1</td>\n",
              "      <td>unknown</td>\n",
              "    </tr>\n",
              "  </tbody>\n",
              "</table>\n",
              "</div>\n",
              "    <div class=\"colab-df-buttons\">\n",
              "\n",
              "  <div class=\"colab-df-container\">\n",
              "    <button class=\"colab-df-convert\" onclick=\"convertToInteractive('df-66e6457e-180b-444f-8577-91b55e5a07bf')\"\n",
              "            title=\"Convert this dataframe to an interactive table.\"\n",
              "            style=\"display:none;\">\n",
              "\n",
              "  <svg xmlns=\"http://www.w3.org/2000/svg\" height=\"24px\" viewBox=\"0 -960 960 960\">\n",
              "    <path d=\"M120-120v-720h720v720H120Zm60-500h600v-160H180v160Zm220 220h160v-160H400v160Zm0 220h160v-160H400v160ZM180-400h160v-160H180v160Zm440 0h160v-160H620v160ZM180-180h160v-160H180v160Zm440 0h160v-160H620v160Z\"/>\n",
              "  </svg>\n",
              "    </button>\n",
              "\n",
              "  <style>\n",
              "    .colab-df-container {\n",
              "      display:flex;\n",
              "      gap: 12px;\n",
              "    }\n",
              "\n",
              "    .colab-df-convert {\n",
              "      background-color: #E8F0FE;\n",
              "      border: none;\n",
              "      border-radius: 50%;\n",
              "      cursor: pointer;\n",
              "      display: none;\n",
              "      fill: #1967D2;\n",
              "      height: 32px;\n",
              "      padding: 0 0 0 0;\n",
              "      width: 32px;\n",
              "    }\n",
              "\n",
              "    .colab-df-convert:hover {\n",
              "      background-color: #E2EBFA;\n",
              "      box-shadow: 0px 1px 2px rgba(60, 64, 67, 0.3), 0px 1px 3px 1px rgba(60, 64, 67, 0.15);\n",
              "      fill: #174EA6;\n",
              "    }\n",
              "\n",
              "    .colab-df-buttons div {\n",
              "      margin-bottom: 4px;\n",
              "    }\n",
              "\n",
              "    [theme=dark] .colab-df-convert {\n",
              "      background-color: #3B4455;\n",
              "      fill: #D2E3FC;\n",
              "    }\n",
              "\n",
              "    [theme=dark] .colab-df-convert:hover {\n",
              "      background-color: #434B5C;\n",
              "      box-shadow: 0px 1px 3px 1px rgba(0, 0, 0, 0.15);\n",
              "      filter: drop-shadow(0px 1px 2px rgba(0, 0, 0, 0.3));\n",
              "      fill: #FFFFFF;\n",
              "    }\n",
              "  </style>\n",
              "\n",
              "    <script>\n",
              "      const buttonEl =\n",
              "        document.querySelector('#df-66e6457e-180b-444f-8577-91b55e5a07bf button.colab-df-convert');\n",
              "      buttonEl.style.display =\n",
              "        google.colab.kernel.accessAllowed ? 'block' : 'none';\n",
              "\n",
              "      async function convertToInteractive(key) {\n",
              "        const element = document.querySelector('#df-66e6457e-180b-444f-8577-91b55e5a07bf');\n",
              "        const dataTable =\n",
              "          await google.colab.kernel.invokeFunction('convertToInteractive',\n",
              "                                                    [key], {});\n",
              "        if (!dataTable) return;\n",
              "\n",
              "        const docLinkHtml = 'Like what you see? Visit the ' +\n",
              "          '<a target=\"_blank\" href=https://colab.research.google.com/notebooks/data_table.ipynb>data table notebook</a>'\n",
              "          + ' to learn more about interactive tables.';\n",
              "        element.innerHTML = '';\n",
              "        dataTable['output_type'] = 'display_data';\n",
              "        await google.colab.output.renderOutput(dataTable, element);\n",
              "        const docLink = document.createElement('div');\n",
              "        docLink.innerHTML = docLinkHtml;\n",
              "        element.appendChild(docLink);\n",
              "      }\n",
              "    </script>\n",
              "  </div>\n",
              "\n",
              "\n",
              "    <div id=\"df-b703b38b-f1c4-489b-b531-418826d1a982\">\n",
              "      <button class=\"colab-df-quickchart\" onclick=\"quickchart('df-b703b38b-f1c4-489b-b531-418826d1a982')\"\n",
              "                title=\"Suggest charts\"\n",
              "                style=\"display:none;\">\n",
              "\n",
              "<svg xmlns=\"http://www.w3.org/2000/svg\" height=\"24px\"viewBox=\"0 0 24 24\"\n",
              "     width=\"24px\">\n",
              "    <g>\n",
              "        <path d=\"M19 3H5c-1.1 0-2 .9-2 2v14c0 1.1.9 2 2 2h14c1.1 0 2-.9 2-2V5c0-1.1-.9-2-2-2zM9 17H7v-7h2v7zm4 0h-2V7h2v10zm4 0h-2v-4h2v4z\"/>\n",
              "    </g>\n",
              "</svg>\n",
              "      </button>\n",
              "\n",
              "<style>\n",
              "  .colab-df-quickchart {\n",
              "      --bg-color: #E8F0FE;\n",
              "      --fill-color: #1967D2;\n",
              "      --hover-bg-color: #E2EBFA;\n",
              "      --hover-fill-color: #174EA6;\n",
              "      --disabled-fill-color: #AAA;\n",
              "      --disabled-bg-color: #DDD;\n",
              "  }\n",
              "\n",
              "  [theme=dark] .colab-df-quickchart {\n",
              "      --bg-color: #3B4455;\n",
              "      --fill-color: #D2E3FC;\n",
              "      --hover-bg-color: #434B5C;\n",
              "      --hover-fill-color: #FFFFFF;\n",
              "      --disabled-bg-color: #3B4455;\n",
              "      --disabled-fill-color: #666;\n",
              "  }\n",
              "\n",
              "  .colab-df-quickchart {\n",
              "    background-color: var(--bg-color);\n",
              "    border: none;\n",
              "    border-radius: 50%;\n",
              "    cursor: pointer;\n",
              "    display: none;\n",
              "    fill: var(--fill-color);\n",
              "    height: 32px;\n",
              "    padding: 0;\n",
              "    width: 32px;\n",
              "  }\n",
              "\n",
              "  .colab-df-quickchart:hover {\n",
              "    background-color: var(--hover-bg-color);\n",
              "    box-shadow: 0 1px 2px rgba(60, 64, 67, 0.3), 0 1px 3px 1px rgba(60, 64, 67, 0.15);\n",
              "    fill: var(--button-hover-fill-color);\n",
              "  }\n",
              "\n",
              "  .colab-df-quickchart-complete:disabled,\n",
              "  .colab-df-quickchart-complete:disabled:hover {\n",
              "    background-color: var(--disabled-bg-color);\n",
              "    fill: var(--disabled-fill-color);\n",
              "    box-shadow: none;\n",
              "  }\n",
              "\n",
              "  .colab-df-spinner {\n",
              "    border: 2px solid var(--fill-color);\n",
              "    border-color: transparent;\n",
              "    border-bottom-color: var(--fill-color);\n",
              "    animation:\n",
              "      spin 1s steps(1) infinite;\n",
              "  }\n",
              "\n",
              "  @keyframes spin {\n",
              "    0% {\n",
              "      border-color: transparent;\n",
              "      border-bottom-color: var(--fill-color);\n",
              "      border-left-color: var(--fill-color);\n",
              "    }\n",
              "    20% {\n",
              "      border-color: transparent;\n",
              "      border-left-color: var(--fill-color);\n",
              "      border-top-color: var(--fill-color);\n",
              "    }\n",
              "    30% {\n",
              "      border-color: transparent;\n",
              "      border-left-color: var(--fill-color);\n",
              "      border-top-color: var(--fill-color);\n",
              "      border-right-color: var(--fill-color);\n",
              "    }\n",
              "    40% {\n",
              "      border-color: transparent;\n",
              "      border-right-color: var(--fill-color);\n",
              "      border-top-color: var(--fill-color);\n",
              "    }\n",
              "    60% {\n",
              "      border-color: transparent;\n",
              "      border-right-color: var(--fill-color);\n",
              "    }\n",
              "    80% {\n",
              "      border-color: transparent;\n",
              "      border-right-color: var(--fill-color);\n",
              "      border-bottom-color: var(--fill-color);\n",
              "    }\n",
              "    90% {\n",
              "      border-color: transparent;\n",
              "      border-bottom-color: var(--fill-color);\n",
              "    }\n",
              "  }\n",
              "</style>\n",
              "\n",
              "      <script>\n",
              "        async function quickchart(key) {\n",
              "          const quickchartButtonEl =\n",
              "            document.querySelector('#' + key + ' button');\n",
              "          quickchartButtonEl.disabled = true;  // To prevent multiple clicks.\n",
              "          quickchartButtonEl.classList.add('colab-df-spinner');\n",
              "          try {\n",
              "            const charts = await google.colab.kernel.invokeFunction(\n",
              "                'suggestCharts', [key], {});\n",
              "          } catch (error) {\n",
              "            console.error('Error during call to suggestCharts:', error);\n",
              "          }\n",
              "          quickchartButtonEl.classList.remove('colab-df-spinner');\n",
              "          quickchartButtonEl.classList.add('colab-df-quickchart-complete');\n",
              "        }\n",
              "        (() => {\n",
              "          let quickchartButtonEl =\n",
              "            document.querySelector('#df-b703b38b-f1c4-489b-b531-418826d1a982 button');\n",
              "          quickchartButtonEl.style.display =\n",
              "            google.colab.kernel.accessAllowed ? 'block' : 'none';\n",
              "        })();\n",
              "      </script>\n",
              "    </div>\n",
              "\n",
              "    </div>\n",
              "  </div>\n"
            ],
            "application/vnd.google.colaboratory.intrinsic+json": {
              "type": "dataframe",
              "variable_name": "dataset",
              "summary": "{\n  \"name\": \"dataset\",\n  \"rows\": 23967,\n  \"fields\": [\n    {\n      \"column\": \"date\",\n      \"properties\": {\n        \"dtype\": \"string\",\n        \"num_unique_values\": 15079,\n        \"samples\": [\n          \"02-FEB-1966\",\n          \"03-MAR-1955\",\n          \"30-DEC-2003\"\n        ],\n        \"semantic_type\": \"\",\n        \"description\": \"\"\n      }\n    },\n    {\n      \"column\": \"type\",\n      \"properties\": {\n        \"dtype\": \"category\",\n        \"num_unique_values\": 3201,\n        \"samples\": [\n          \"Learjet 25B\",\n          \"Ilyushin Il-18E\",\n          \"Lockheed NC-130F Hercules\"\n        ],\n        \"semantic_type\": \"\",\n        \"description\": \"\"\n      }\n    },\n    {\n      \"column\": \"registration\",\n      \"properties\": {\n        \"dtype\": \"string\",\n        \"num_unique_values\": 21962,\n        \"samples\": [\n          \"CC-CNW\",\n          \"G-ARLF\",\n          \"9N-ADA\"\n        ],\n        \"semantic_type\": \"\",\n        \"description\": \"\"\n      }\n    },\n    {\n      \"column\": \"operator\",\n      \"properties\": {\n        \"dtype\": \"category\",\n        \"num_unique_values\": 6017,\n        \"samples\": [\n          \"Luxair\",\n          \"Viva Aerobus\",\n          \"Hansa Jet Corp.\"\n        ],\n        \"semantic_type\": \"\",\n        \"description\": \"\"\n      }\n    },\n    {\n      \"column\": \"fatalities\",\n      \"properties\": {\n        \"dtype\": \"category\",\n        \"num_unique_values\": 369,\n        \"samples\": [\n          \"145\",\n          \"26\",\n          \"14+ 1\"\n        ],\n        \"semantic_type\": \"\",\n        \"description\": \"\"\n      }\n    },\n    {\n      \"column\": \"location\",\n      \"properties\": {\n        \"dtype\": \"string\",\n        \"num_unique_values\": 14608,\n        \"samples\": [\n          \"West Deering, NH\",\n          \"Panchkhal\",\n          \"Chicago, New Yor...\"\n        ],\n        \"semantic_type\": \"\",\n        \"description\": \"\"\n      }\n    },\n    {\n      \"column\": \"country\",\n      \"properties\": {\n        \"dtype\": \"category\",\n        \"num_unique_values\": 232,\n        \"samples\": [\n          \"Rwanda\",\n          \"Hungary\",\n          \"Zimbabwe\"\n        ],\n        \"semantic_type\": \"\",\n        \"description\": \"\"\n      }\n    },\n    {\n      \"column\": \"cat\",\n      \"properties\": {\n        \"dtype\": \"category\",\n        \"num_unique_values\": 11,\n        \"samples\": [\n          \"C1\",\n          \"U1\",\n          \"I2\"\n        ],\n        \"semantic_type\": \"\",\n        \"description\": \"\"\n      }\n    },\n    {\n      \"column\": \"year\",\n      \"properties\": {\n        \"dtype\": \"category\",\n        \"num_unique_values\": 106,\n        \"samples\": [\n          \"2018\",\n          \"1928\",\n          \"1922\"\n        ],\n        \"semantic_type\": \"\",\n        \"description\": \"\"\n      }\n    }\n  ]\n}"
            }
          },
          "metadata": {},
          "execution_count": 1
        }
      ]
    },
    {
      "cell_type": "code",
      "source": [
        "dataset.dtypes"
      ],
      "metadata": {
        "colab": {
          "base_uri": "https://localhost:8080/",
          "height": 366
        },
        "id": "-eXeq6O04bEJ",
        "outputId": "6d3d0be6-8913-469a-8783-5df2e3a02b91"
      },
      "execution_count": null,
      "outputs": [
        {
          "output_type": "execute_result",
          "data": {
            "text/plain": [
              "date            object\n",
              "type            object\n",
              "registration    object\n",
              "operator        object\n",
              "fatalities      object\n",
              "location        object\n",
              "country         object\n",
              "cat             object\n",
              "year            object\n",
              "dtype: object"
            ],
            "text/html": [
              "<div>\n",
              "<style scoped>\n",
              "    .dataframe tbody tr th:only-of-type {\n",
              "        vertical-align: middle;\n",
              "    }\n",
              "\n",
              "    .dataframe tbody tr th {\n",
              "        vertical-align: top;\n",
              "    }\n",
              "\n",
              "    .dataframe thead th {\n",
              "        text-align: right;\n",
              "    }\n",
              "</style>\n",
              "<table border=\"1\" class=\"dataframe\">\n",
              "  <thead>\n",
              "    <tr style=\"text-align: right;\">\n",
              "      <th></th>\n",
              "      <th>0</th>\n",
              "    </tr>\n",
              "  </thead>\n",
              "  <tbody>\n",
              "    <tr>\n",
              "      <th>date</th>\n",
              "      <td>object</td>\n",
              "    </tr>\n",
              "    <tr>\n",
              "      <th>type</th>\n",
              "      <td>object</td>\n",
              "    </tr>\n",
              "    <tr>\n",
              "      <th>registration</th>\n",
              "      <td>object</td>\n",
              "    </tr>\n",
              "    <tr>\n",
              "      <th>operator</th>\n",
              "      <td>object</td>\n",
              "    </tr>\n",
              "    <tr>\n",
              "      <th>fatalities</th>\n",
              "      <td>object</td>\n",
              "    </tr>\n",
              "    <tr>\n",
              "      <th>location</th>\n",
              "      <td>object</td>\n",
              "    </tr>\n",
              "    <tr>\n",
              "      <th>country</th>\n",
              "      <td>object</td>\n",
              "    </tr>\n",
              "    <tr>\n",
              "      <th>cat</th>\n",
              "      <td>object</td>\n",
              "    </tr>\n",
              "    <tr>\n",
              "      <th>year</th>\n",
              "      <td>object</td>\n",
              "    </tr>\n",
              "  </tbody>\n",
              "</table>\n",
              "</div><br><label><b>dtype:</b> object</label>"
            ]
          },
          "metadata": {},
          "execution_count": 4
        }
      ]
    },
    {
      "cell_type": "code",
      "source": [
        "dataset.shape"
      ],
      "metadata": {
        "colab": {
          "base_uri": "https://localhost:8080/"
        },
        "id": "eWrdpZHV8Oh8",
        "outputId": "bd4a8975-e21d-4c24-f12a-edfd00089a7f"
      },
      "execution_count": null,
      "outputs": [
        {
          "output_type": "execute_result",
          "data": {
            "text/plain": [
              "(23967, 9)"
            ]
          },
          "metadata": {},
          "execution_count": 5
        }
      ]
    },
    {
      "cell_type": "markdown",
      "source": [
        "###In quale nazione si sono verificati più incidenti?"
      ],
      "metadata": {
        "id": "JOKVdCfC4hD2"
      }
    },
    {
      "cell_type": "code",
      "source": [
        "dataset['country'].nunique()"
      ],
      "metadata": {
        "colab": {
          "base_uri": "https://localhost:8080/"
        },
        "id": "EopPc4gri7gR",
        "outputId": "24ca129d-a48c-4cb7-c738-ce773ce63d0d"
      },
      "execution_count": null,
      "outputs": [
        {
          "output_type": "execute_result",
          "data": {
            "text/plain": [
              "232"
            ]
          },
          "metadata": {},
          "execution_count": 6
        }
      ]
    },
    {
      "cell_type": "code",
      "source": [
        "incidenti_totali = dataset['country'].value_counts().head(10).reset_index()\n",
        "incidenti_totali.columns = ['paesi','incidenti']\n",
        "incidenti_totali['percentuale'] = (incidenti_totali['incidenti']/dataset.shape[0])*100\n",
        "print(incidenti_totali)"
      ],
      "metadata": {
        "colab": {
          "base_uri": "https://localhost:8080/"
        },
        "id": "mRhl7gcfgVYn",
        "outputId": "23ac0e31-0cbe-4d2a-eda2-02ba8dfead09"
      },
      "execution_count": null,
      "outputs": [
        {
          "output_type": "stream",
          "name": "stdout",
          "text": [
            "             paesi  incidenti  percentuale\n",
            "0              USA       4377    18.262611\n",
            "1           Russia       1422     5.933158\n",
            "2  Unknown country        838     3.496474\n",
            "3             U.K.        837     3.492302\n",
            "4           Canada        826     3.446405\n",
            "5            India        700     2.920683\n",
            "6           Brazil        609     2.540994\n",
            "7           France        550     2.294822\n",
            "8          Germany        516     2.152960\n",
            "9            China        514     2.144616\n"
          ]
        }
      ]
    },
    {
      "cell_type": "code",
      "source": [
        "incidenti_totali_abbr = incidenti_totali.copy()\n",
        "incidenti_totali_abbr['paesi_abbr'] = incidenti_totali['paesi'].str[:3].str.upper()"
      ],
      "metadata": {
        "id": "_teaExxtZ3M4"
      },
      "execution_count": null,
      "outputs": []
    },
    {
      "cell_type": "code",
      "source": [
        "plt.figure(figsize=(10,5))\n",
        "plt.bar(incidenti_totali_abbr['paesi_abbr'], incidenti_totali['incidenti'], color='red')\n",
        "plt.xlabel(\"Paesi\")\n",
        "plt.ylabel(\"Incidenti totali\")\n",
        "plt.title(\"Primi 10 paesi per numero di incidenti aerei\")\n",
        "plt.yticks(np.arange(0, 4500, 500))\n",
        "plt.show()"
      ],
      "metadata": {
        "id": "YYCNwfX3hnpw",
        "colab": {
          "base_uri": "https://localhost:8080/",
          "height": 487
        },
        "outputId": "3c33b480-d797-48f2-fed5-c26e737494c7"
      },
      "execution_count": null,
      "outputs": [
        {
          "output_type": "display_data",
          "data": {
            "text/plain": [
              "<Figure size 1000x500 with 1 Axes>"
            ],
            "image/png": "[encoded data removed]"
          },
          "metadata": {}
        }
      ]
    },
    {
      "cell_type": "markdown",
      "source": [
        "Gli Stati Uniti detengono il primato di nazione dove si sono verificati più incidenti, con un totale di 4377."
      ],
      "metadata": {
        "id": "HjFx7K5c1g5w"
      }
    },
    {
      "cell_type": "markdown",
      "source": [
        "###Gli incidenti avvengono più di frequente durante determinati giorni della settimana?"
      ],
      "metadata": {
        "id": "NNjAzMVz4-a0"
      }
    },
    {
      "cell_type": "code",
      "source": [
        "print(dataset['date'])"
      ],
      "metadata": {
        "colab": {
          "base_uri": "https://localhost:8080/"
        },
        "id": "YNtBAiS_i17y",
        "outputId": "db7d8eb9-e151-4f26-d657-aa873bc2d92d"
      },
      "execution_count": null,
      "outputs": [
        {
          "output_type": "stream",
          "name": "stdout",
          "text": [
            "0          date unk.\n",
            "1          date unk.\n",
            "2          date unk.\n",
            "3          date unk.\n",
            "4          date unk.\n",
            "            ...     \n",
            "23962    11-MAY-2023\n",
            "23963    11-MAY-2023\n",
            "23964    12-MAY-2023\n",
            "23965    14-MAY-2023\n",
            "23966    15-MAY-2023\n",
            "Name: date, Length: 23967, dtype: object\n"
          ]
        }
      ]
    },
    {
      "cell_type": "code",
      "source": [
        "dataset['date'].isna().sum()"
      ],
      "metadata": {
        "colab": {
          "base_uri": "https://localhost:8080/"
        },
        "id": "Cm0Zps6Ut4CN",
        "outputId": "f57ebd0a-60e1-4316-9a1d-f21dfe68c059"
      },
      "execution_count": null,
      "outputs": [
        {
          "output_type": "execute_result",
          "data": {
            "text/plain": [
              "np.int64(0)"
            ]
          },
          "metadata": {},
          "execution_count": 11
        }
      ]
    },
    {
      "cell_type": "code",
      "source": [
        "(dataset['date'] == \"date unk.\").sum()"
      ],
      "metadata": {
        "colab": {
          "base_uri": "https://localhost:8080/"
        },
        "id": "zul88EtOuFDy",
        "outputId": "d88b8243-8256-460d-8315-c7ba545add40"
      },
      "execution_count": null,
      "outputs": [
        {
          "output_type": "execute_result",
          "data": {
            "text/plain": [
              "np.int64(61)"
            ]
          },
          "metadata": {},
          "execution_count": 12
        }
      ]
    },
    {
      "cell_type": "code",
      "source": [
        "dataset['date'] = pd.to_datetime(dataset['date'], errors='coerce')\n",
        "print(dataset['date'])"
      ],
      "metadata": {
        "colab": {
          "base_uri": "https://localhost:8080/"
        },
        "id": "hWe3csUBueNT",
        "outputId": "699df1d3-7f64-4b56-b05a-9fa15c17bcb7"
      },
      "execution_count": null,
      "outputs": [
        {
          "output_type": "stream",
          "name": "stderr",
          "text": [
            "/tmp/ipython-input-13-2352690661.py:1: UserWarning: Could not infer format, so each element will be parsed individually, falling back to `dateutil`. To ensure parsing is consistent and as-expected, please specify a format.\n",
            "  dataset['date'] = pd.to_datetime(dataset['date'], errors='coerce')\n"
          ]
        },
        {
          "output_type": "stream",
          "name": "stdout",
          "text": [
            "0              NaT\n",
            "1              NaT\n",
            "2              NaT\n",
            "3              NaT\n",
            "4              NaT\n",
            "           ...    \n",
            "23962   2023-05-11\n",
            "23963   2023-05-11\n",
            "23964   2023-05-12\n",
            "23965   2023-05-14\n",
            "23966   2023-05-15\n",
            "Name: date, Length: 23967, dtype: datetime64[ns]\n"
          ]
        }
      ]
    },
    {
      "cell_type": "code",
      "source": [
        "print(dataset['date'].dtypes)"
      ],
      "metadata": {
        "colab": {
          "base_uri": "https://localhost:8080/"
        },
        "id": "6pxzJB6-4TXx",
        "outputId": "fa4082c9-920e-46fc-cb71-9e64340fe16d"
      },
      "execution_count": null,
      "outputs": [
        {
          "output_type": "stream",
          "name": "stdout",
          "text": [
            "datetime64[ns]\n"
          ]
        }
      ]
    },
    {
      "cell_type": "code",
      "source": [
        "dataset['giorni_settimana'] = dataset['date'].dt.day_name()\n",
        "print(dataset['giorni_settimana'])"
      ],
      "metadata": {
        "colab": {
          "base_uri": "https://localhost:8080/"
        },
        "id": "stgnkmY55La9",
        "outputId": "83fad96e-63db-4487-d8c6-7e20cfe709b1"
      },
      "execution_count": null,
      "outputs": [
        {
          "output_type": "stream",
          "name": "stdout",
          "text": [
            "0             NaN\n",
            "1             NaN\n",
            "2             NaN\n",
            "3             NaN\n",
            "4             NaN\n",
            "           ...   \n",
            "23962    Thursday\n",
            "23963    Thursday\n",
            "23964      Friday\n",
            "23965      Sunday\n",
            "23966      Monday\n",
            "Name: giorni_settimana, Length: 23967, dtype: object\n"
          ]
        }
      ]
    },
    {
      "cell_type": "code",
      "source": [
        "incidenti_giorni = dataset['giorni_settimana'].value_counts()\n",
        "print(incidenti_giorni)"
      ],
      "metadata": {
        "colab": {
          "base_uri": "https://localhost:8080/"
        },
        "id": "Otgk1hdV5-Nq",
        "outputId": "8692b8da-46db-4296-d016-b753cf7f5fe3"
      },
      "execution_count": null,
      "outputs": [
        {
          "output_type": "stream",
          "name": "stdout",
          "text": [
            "giorni_settimana\n",
            "Friday       3701\n",
            "Thursday     3516\n",
            "Wednesday    3491\n",
            "Tuesday      3444\n",
            "Monday       3317\n",
            "Saturday     3186\n",
            "Sunday       2753\n",
            "Name: count, dtype: int64\n"
          ]
        }
      ]
    },
    {
      "cell_type": "code",
      "source": [
        "ordine_giorni = ['Monday', 'Tuesday', 'Wednesday', 'Thursday', 'Friday', 'Saturday', 'Sunday']\n",
        "incidenti_giorni = incidenti_giorni.reindex(ordine_giorni)\n",
        "print(incidenti_giorni)"
      ],
      "metadata": {
        "colab": {
          "base_uri": "https://localhost:8080/"
        },
        "id": "mVW7dXgl7vpe",
        "outputId": "bd83a7d0-4067-4dd3-bc2f-34e3280d8eed"
      },
      "execution_count": null,
      "outputs": [
        {
          "output_type": "stream",
          "name": "stdout",
          "text": [
            "giorni_settimana\n",
            "Monday       3317\n",
            "Tuesday      3444\n",
            "Wednesday    3491\n",
            "Thursday     3516\n",
            "Friday       3701\n",
            "Saturday     3186\n",
            "Sunday       2753\n",
            "Name: count, dtype: int64\n"
          ]
        }
      ]
    },
    {
      "cell_type": "code",
      "source": [
        "plt.figure(figsize=(10,5))\n",
        "plt.bar(incidenti_giorni.index, incidenti_giorni.values, color='purple')\n",
        "plt.xlabel(\"Giorni della settimana\")\n",
        "plt.ylabel(\"Incidenti aerei\")\n",
        "plt.title(\"Incidenti aerei per giorno della settimana\")\n",
        "plt.yticks(np.arange(0,5000,500))\n",
        "plt.show()"
      ],
      "metadata": {
        "colab": {
          "base_uri": "https://localhost:8080/",
          "height": 487
        },
        "id": "mwW32Pww58wf",
        "outputId": "719f2e73-f953-44ee-e392-e5e996ec28e8"
      },
      "execution_count": null,
      "outputs": [
        {
          "output_type": "display_data",
          "data": {
            "text/plain": [
              "<Figure size 1000x500 with 1 Axes>"
            ],
            "image/png": "[encoded data removed]"
          },
          "metadata": {}
        }
      ]
    },
    {
      "cell_type": "markdown",
      "source": [
        "Gli incidenti sono uniformemente distribuiti nell'arco della settimana con una leggera superiorità nel venerdì, per poi diminuire durante sabato e domenica."
      ],
      "metadata": {
        "id": "XUhn5pul14GT"
      }
    },
    {
      "cell_type": "markdown",
      "source": [
        "###Quali sono gli operatori più sicuri?"
      ],
      "metadata": {
        "id": "PEj_7y8z5Y61"
      }
    },
    {
      "cell_type": "code",
      "source": [
        "dataset['operator'].nunique()"
      ],
      "metadata": {
        "colab": {
          "base_uri": "https://localhost:8080/"
        },
        "id": "8BFnw4gm6u5x",
        "outputId": "797cb4b5-26b9-4a84-d843-9df567939654"
      },
      "execution_count": null,
      "outputs": [
        {
          "output_type": "execute_result",
          "data": {
            "text/plain": [
              "6017"
            ]
          },
          "metadata": {},
          "execution_count": 19
        }
      ]
    },
    {
      "cell_type": "code",
      "source": [
        "dataset['operator'].isna().sum()"
      ],
      "metadata": {
        "colab": {
          "base_uri": "https://localhost:8080/"
        },
        "id": "uZJH0v2QikvX",
        "outputId": "b7f85df4-bf98-4941-bb72-b96762b83ab1"
      },
      "execution_count": null,
      "outputs": [
        {
          "output_type": "execute_result",
          "data": {
            "text/plain": [
              "np.int64(4)"
            ]
          },
          "metadata": {},
          "execution_count": 20
        }
      ]
    },
    {
      "cell_type": "code",
      "source": [
        "operatori_1_incidente = dataset['operator'].value_counts()\n",
        "operatori_1_incidente = operatori_1_incidente[operatori_1_incidente == 1].index\n",
        "print(operatori_1_incidente)"
      ],
      "metadata": {
        "colab": {
          "base_uri": "https://localhost:8080/"
        },
        "id": "ZaXqxvMLodfp",
        "outputId": "dc33cccc-c9f4-4bd6-bd4b-9668d517d9f8"
      },
      "execution_count": null,
      "outputs": [
        {
          "output_type": "stream",
          "name": "stdout",
          "text": [
            "Index(['Belavia', 'Naturelink Airlines', 'EAS Airlines',\n",
            "       'Interstate Helicopters', 'Tadair', 'SASCA Airlines',\n",
            "       'US Airways Express, opb Republic Airlines', 'Volga-Aviaexpress',\n",
            "       'Krasnoyarski ASK', 'American Virginia',\n",
            "       ...\n",
            "       'Viking Air Transport', 'Rhoades Int.', 'Bruno's',\n",
            "       'Business Express, op.for Delta Connection', 'Norfolk Island Airlines',\n",
            "       'ANA, opf USAAF', 'Aerovias Brasil, lsf TACA', 'Air Carrier Transport',\n",
            "       'BOAC, op.for Qantas', 'Aliserio'],\n",
            "      dtype='object', name='operator', length=4063)\n"
          ]
        }
      ]
    },
    {
      "cell_type": "code",
      "source": [
        "operatori_1_incidente.nunique()"
      ],
      "metadata": {
        "colab": {
          "base_uri": "https://localhost:8080/"
        },
        "id": "Z7VhIgjKojPC",
        "outputId": "4cc9ccdc-7c92-4178-c4fb-d9b226d76ac7"
      },
      "execution_count": null,
      "outputs": [
        {
          "output_type": "execute_result",
          "data": {
            "text/plain": [
              "4063"
            ]
          },
          "metadata": {},
          "execution_count": 22
        }
      ]
    },
    {
      "cell_type": "code",
      "source": [
        "dataset['fatalities'] = pd.to_numeric(dataset['fatalities'], errors='coerce')"
      ],
      "metadata": {
        "id": "AdfdlSgwpwrK"
      },
      "execution_count": null,
      "outputs": []
    },
    {
      "cell_type": "code",
      "source": [
        "operatori_sicuri = dataset[(dataset['operator'].isin(operatori_1_incidente)) & (dataset['fatalities']==0)]['operator'].unique()\n",
        "print(len(operatori_sicuri))"
      ],
      "metadata": {
        "colab": {
          "base_uri": "https://localhost:8080/"
        },
        "id": "Jax_Q5uCqH-0",
        "outputId": "3f96eafe-f9db-40ec-dc56-a821a174540f"
      },
      "execution_count": null,
      "outputs": [
        {
          "output_type": "stream",
          "name": "stdout",
          "text": [
            "2416\n"
          ]
        }
      ]
    },
    {
      "cell_type": "code",
      "source": [
        "print(operatori_sicuri)"
      ],
      "metadata": {
        "colab": {
          "base_uri": "https://localhost:8080/"
        },
        "id": "zteEwKjOxmJ_",
        "outputId": "da6d7a45-68d6-419e-eb1d-167263cbd161"
      },
      "execution_count": null,
      "outputs": [
        {
          "output_type": "stream",
          "name": "stdout",
          "text": [
            "['MD Air Services' 'JetPet' 'HP Indo-Burmese Transport' ...\n",
            " 'Angkasa Super Services' 'Nasional Global Aviasi' 'Bar Aviation']\n"
          ]
        }
      ]
    },
    {
      "cell_type": "markdown",
      "source": [
        "In totale ci sono 6017 operatori, di cui 4063 che hanno causato solo un incidente. Di questi 4063, 2416 non hanno causato decessi. Tra questi operatori più sicuri ci sono ad esempio \"MD Air Services\", \"JetPet\", \"HP Indo-Burmese Transport\", \"Angkasa Super Services\", \"Nasional Global Aviasi\", \"Bar Aviation\"..."
      ],
      "metadata": {
        "id": "CnNyLVtw0VMl"
      }
    },
    {
      "cell_type": "markdown",
      "source": [
        "###Quale tipo di velivolo ha causato più morti?"
      ],
      "metadata": {
        "id": "h57cl4iBwiW-"
      }
    },
    {
      "cell_type": "code",
      "source": [
        "dataset['type'].nunique()"
      ],
      "metadata": {
        "colab": {
          "base_uri": "https://localhost:8080/"
        },
        "id": "XFmeVIt4srV8",
        "outputId": "1df798c0-79b3-4572-a1d7-fa02e5f9af1c"
      },
      "execution_count": null,
      "outputs": [
        {
          "output_type": "execute_result",
          "data": {
            "text/plain": [
              "3201"
            ]
          },
          "metadata": {},
          "execution_count": 29
        }
      ]
    },
    {
      "cell_type": "code",
      "source": [
        "dataset['type'].isna().sum()"
      ],
      "metadata": {
        "colab": {
          "base_uri": "https://localhost:8080/"
        },
        "id": "qbR64fmHweVe",
        "outputId": "53b92134-40a3-4c82-d246-d417f0bcebe6"
      },
      "execution_count": null,
      "outputs": [
        {
          "output_type": "execute_result",
          "data": {
            "text/plain": [
              "np.int64(0)"
            ]
          },
          "metadata": {},
          "execution_count": 30
        }
      ]
    },
    {
      "cell_type": "code",
      "source": [
        "velivolo_mortale = dataset.groupby('type')['fatalities'].sum().sort_values(ascending=False).head(1)\n",
        "print(velivolo_mortale)"
      ],
      "metadata": {
        "colab": {
          "base_uri": "https://localhost:8080/"
        },
        "id": "OG_aJXLIwuqt",
        "outputId": "dc1f4731-8eb7-47fe-f9fc-f523a59a893c"
      },
      "execution_count": null,
      "outputs": [
        {
          "output_type": "stream",
          "name": "stdout",
          "text": [
            "type\n",
            "Douglas C-47A (DC-3)    5689.0\n",
            "Name: fatalities, dtype: float64\n"
          ]
        }
      ]
    },
    {
      "cell_type": "markdown",
      "source": [
        "Il velivolo Douglas C-47A (DC-3) con 5689 decessi è il velivolo più mortale."
      ],
      "metadata": {
        "id": "cSr-twrN1MGI"
      }
    },
    {
      "cell_type": "markdown",
      "source": [
        "###Dove avvengono principalmente gli incidenti?"
      ],
      "metadata": {
        "id": "PBwJwDXiNta_"
      }
    },
    {
      "cell_type": "code",
      "source": [
        "dataset['location'].nunique()"
      ],
      "metadata": {
        "colab": {
          "base_uri": "https://localhost:8080/"
        },
        "id": "bbnYnHqzNfZK",
        "outputId": "bb90de59-fc48-4265-934b-cde0eedf564a"
      },
      "execution_count": null,
      "outputs": [
        {
          "output_type": "execute_result",
          "data": {
            "text/plain": [
              "14608"
            ]
          },
          "metadata": {},
          "execution_count": 140
        }
      ]
    },
    {
      "cell_type": "code",
      "source": [
        "location_incidenti = dataset['location'].value_counts()\n",
        "location_incidenti.head(20)"
      ],
      "metadata": {
        "colab": {
          "base_uri": "https://localhost:8080/",
          "height": 742
        },
        "id": "fJI7BG1VOfui",
        "outputId": "544dec94-3b03-4865-d488-9ce376235760"
      },
      "execution_count": null,
      "outputs": [
        {
          "output_type": "execute_result",
          "data": {
            "text/plain": [
              "location\n",
              "unknown                272\n",
              "Havana-JosÃ© Mar...    106\n",
              "Miami Internatio...     71\n",
              "Beirut Internati...     48\n",
              "New York-John F....     44\n",
              "Amsterdam-Schiph...     44\n",
              "Unknown                 44\n",
              "Chicago-O'Hare I...     40\n",
              "BogotÃ¡-Eldorado...     31\n",
              "Kinshasa-N'Djili...     31\n",
              "Waalhaven               29\n",
              "Kabul Airport (KBL)     28\n",
              "SÃ£o Paulo-Congo...     27\n",
              "London-Heathrow ...     26\n",
              "Hong Kong-Kai Ta...     25\n",
              "Havana                  24\n",
              "Istanbul-AtatÃ¼r...     24\n",
              "Rio de Janeiro-S...     24\n",
              "New York-La Guar...     23\n",
              "Moskva-Vnukovo A...     23\n",
              "Name: count, dtype: int64"
            ],
            "text/html": [
              "<div>\n",
              "<style scoped>\n",
              "    .dataframe tbody tr th:only-of-type {\n",
              "        vertical-align: middle;\n",
              "    }\n",
              "\n",
              "    .dataframe tbody tr th {\n",
              "        vertical-align: top;\n",
              "    }\n",
              "\n",
              "    .dataframe thead th {\n",
              "        text-align: right;\n",
              "    }\n",
              "</style>\n",
              "<table border=\"1\" class=\"dataframe\">\n",
              "  <thead>\n",
              "    <tr style=\"text-align: right;\">\n",
              "      <th></th>\n",
              "      <th>count</th>\n",
              "    </tr>\n",
              "    <tr>\n",
              "      <th>location</th>\n",
              "      <th></th>\n",
              "    </tr>\n",
              "  </thead>\n",
              "  <tbody>\n",
              "    <tr>\n",
              "      <th>unknown</th>\n",
              "      <td>272</td>\n",
              "    </tr>\n",
              "    <tr>\n",
              "      <th>Havana-JosÃ© Mar...</th>\n",
              "      <td>106</td>\n",
              "    </tr>\n",
              "    <tr>\n",
              "      <th>Miami Internatio...</th>\n",
              "      <td>71</td>\n",
              "    </tr>\n",
              "    <tr>\n",
              "      <th>Beirut Internati...</th>\n",
              "      <td>48</td>\n",
              "    </tr>\n",
              "    <tr>\n",
              "      <th>New York-John F....</th>\n",
              "      <td>44</td>\n",
              "    </tr>\n",
              "    <tr>\n",
              "      <th>Amsterdam-Schiph...</th>\n",
              "      <td>44</td>\n",
              "    </tr>\n",
              "    <tr>\n",
              "      <th>Unknown</th>\n",
              "      <td>44</td>\n",
              "    </tr>\n",
              "    <tr>\n",
              "      <th>Chicago-O'Hare I...</th>\n",
              "      <td>40</td>\n",
              "    </tr>\n",
              "    <tr>\n",
              "      <th>BogotÃ¡-Eldorado...</th>\n",
              "      <td>31</td>\n",
              "    </tr>\n",
              "    <tr>\n",
              "      <th>Kinshasa-N'Djili...</th>\n",
              "      <td>31</td>\n",
              "    </tr>\n",
              "    <tr>\n",
              "      <th>Waalhaven</th>\n",
              "      <td>29</td>\n",
              "    </tr>\n",
              "    <tr>\n",
              "      <th>Kabul Airport (KBL)</th>\n",
              "      <td>28</td>\n",
              "    </tr>\n",
              "    <tr>\n",
              "      <th>SÃ£o Paulo-Congo...</th>\n",
              "      <td>27</td>\n",
              "    </tr>\n",
              "    <tr>\n",
              "      <th>London-Heathrow ...</th>\n",
              "      <td>26</td>\n",
              "    </tr>\n",
              "    <tr>\n",
              "      <th>Hong Kong-Kai Ta...</th>\n",
              "      <td>25</td>\n",
              "    </tr>\n",
              "    <tr>\n",
              "      <th>Havana</th>\n",
              "      <td>24</td>\n",
              "    </tr>\n",
              "    <tr>\n",
              "      <th>Istanbul-AtatÃ¼r...</th>\n",
              "      <td>24</td>\n",
              "    </tr>\n",
              "    <tr>\n",
              "      <th>Rio de Janeiro-S...</th>\n",
              "      <td>24</td>\n",
              "    </tr>\n",
              "    <tr>\n",
              "      <th>New York-La Guar...</th>\n",
              "      <td>23</td>\n",
              "    </tr>\n",
              "    <tr>\n",
              "      <th>Moskva-Vnukovo A...</th>\n",
              "      <td>23</td>\n",
              "    </tr>\n",
              "  </tbody>\n",
              "</table>\n",
              "</div><br><label><b>dtype:</b> int64</label>"
            ]
          },
          "metadata": {},
          "execution_count": 156
        }
      ]
    },
    {
      "cell_type": "code",
      "source": [
        "plt.figure(figsize=(10,5))\n",
        "plt.bar(location_incidenti.index[:20], location_incidenti.values[:20], color='navy')\n",
        "plt.xlabel(\"Luoghi\")\n",
        "plt.ylabel(\"Incidenti\")\n",
        "plt.title(\"Incidenti per location\")\n",
        "plt.xticks(rotation=90)\n",
        "plt.show()"
      ],
      "metadata": {
        "colab": {
          "base_uri": "https://localhost:8080/",
          "height": 618
        },
        "id": "SMcdSnt6PBd_",
        "outputId": "cd0540b9-1b65-4bf8-b5ed-b76503ad2ea1"
      },
      "execution_count": null,
      "outputs": [
        {
          "output_type": "display_data",
          "data": {
            "text/plain": [
              "<Figure size 1000x500 with 1 Axes>"
            ],
            "image/png": "[encoded data removed]"
          },
          "metadata": {}
        }
      ]
    },
    {
      "cell_type": "markdown",
      "source": [
        "La maggior parte degli incidenti sono avvenuti nei pressi degli aeroporti. Tuttavia, è presente un'ampia percentuale con location sconosciuta."
      ],
      "metadata": {
        "id": "oTL7siceQA96"
      }
    },
    {
      "cell_type": "markdown",
      "source": [
        "###Come si sono evoluti gli incidenti dopo l'11 settembre?"
      ],
      "metadata": {
        "id": "A8unIw5Yy7fN"
      }
    },
    {
      "cell_type": "code",
      "source": [
        "dataset['anno'] = dataset['date'].dt.year"
      ],
      "metadata": {
        "id": "uvgCjalwBy_z"
      },
      "execution_count": null,
      "outputs": []
    },
    {
      "cell_type": "code",
      "source": [
        "incidenti_prima_11_settembre = dataset[dataset['date'] < '2001-09-11']\n",
        "incidenti_dopo_11_settembre = dataset[dataset['date'] >= '2001-09-11']\n",
        "print(incidenti_prima_11_settembre.shape[0])\n",
        "print(incidenti_dopo_11_settembre.shape[0])"
      ],
      "metadata": {
        "colab": {
          "base_uri": "https://localhost:8080/"
        },
        "id": "nBLvGuXtxWWI",
        "outputId": "18edd88a-06ea-41c5-dc99-803afa214bb3"
      },
      "execution_count": null,
      "outputs": [
        {
          "output_type": "stream",
          "name": "stdout",
          "text": [
            "18898\n",
            "4510\n"
          ]
        }
      ]
    },
    {
      "cell_type": "code",
      "source": [
        "incidenti_prima = incidenti_prima_11_settembre.groupby('anno').size()\n",
        "incidenti_dopo = incidenti_dopo_11_settembre.groupby('anno').size()"
      ],
      "metadata": {
        "id": "O7fUUzQa_EJe"
      },
      "execution_count": null,
      "outputs": []
    },
    {
      "cell_type": "code",
      "source": [
        "morti_prima_11_settembre = incidenti_prima_11_settembre['fatalities'].sum()\n",
        "morti_dopo_11_settembre = incidenti_dopo_11_settembre['fatalities'].sum()\n",
        "print(morti_prima_11_settembre)\n",
        "print(morti_dopo_11_settembre)"
      ],
      "metadata": {
        "colab": {
          "base_uri": "https://localhost:8080/"
        },
        "id": "vYsyLmkn1rh5",
        "outputId": "edde93ba-b35b-48ea-a1e3-82da4dd40991"
      },
      "execution_count": null,
      "outputs": [
        {
          "output_type": "stream",
          "name": "stdout",
          "text": [
            "105380.0\n",
            "15309.0\n"
          ]
        }
      ]
    },
    {
      "cell_type": "code",
      "source": [
        "morti_prima = incidenti_prima_11_settembre.groupby('anno')['fatalities'].sum()\n",
        "morti_dopo = incidenti_dopo_11_settembre.groupby('anno')['fatalities'].sum()"
      ],
      "metadata": {
        "id": "OTSjLmSI8_u5"
      },
      "execution_count": null,
      "outputs": []
    },
    {
      "cell_type": "code",
      "source": [
        "plt.figure(figsize=(10,5))\n",
        "plt.plot(incidenti_prima.index, incidenti_prima.values, label=\"Incidenti prima 11 settembre\")\n",
        "plt.plot(incidenti_dopo.index, incidenti_dopo.values, label=\"Incidenti dopo 11 settembre\")\n",
        "plt.plot(morti_prima.index, morti_prima.values, label=\"Morti prima 11 settembre\")\n",
        "plt.plot(morti_dopo.index, morti_dopo.values, label=\"Morti dopo 11 settembre\")\n",
        "plt.xlabel(\"Anni\")\n",
        "plt.ylabel(\"Incidenti, morti\")\n",
        "plt.title(\"Andamento incidenti e morti prima e dopo l'11 settembre\")\n",
        "plt.legend()\n",
        "plt.grid(True)\n",
        "plt.show()"
      ],
      "metadata": {
        "colab": {
          "base_uri": "https://localhost:8080/",
          "height": 487
        },
        "id": "M43iihGL2sMb",
        "outputId": "cae6f478-d632-471f-ef0b-dd1ecbff901c"
      },
      "execution_count": null,
      "outputs": [
        {
          "output_type": "display_data",
          "data": {
            "text/plain": [
              "<Figure size 1000x500 with 1 Axes>"
            ],
            "image/png": "[encoded data removed]"
          },
          "metadata": {}
        }
      ]
    },
    {
      "cell_type": "markdown",
      "source": [
        "Prendendo in considerazione i ventenni prima e dopo l'11 settembre 2001 si può vedere una differenza più netta."
      ],
      "metadata": {
        "id": "SDchgrxw3HFK"
      }
    },
    {
      "cell_type": "code",
      "source": [
        "plt.figure(figsize=(10,5))\n",
        "plt.plot(incidenti_prima[incidenti_prima.index >= 1980], label=\"Incidenti prima 11 settembre\")\n",
        "plt.plot(incidenti_dopo[incidenti_dopo.index >= 1980], label=\"Incidenti dopo 11 settembre\")\n",
        "plt.plot(morti_prima[morti_prima.index >= 1980], label=\"Morti prima 11 settembre\")\n",
        "plt.plot(morti_dopo[morti_dopo.index >= 1980], label=\"Morti dopo 11 settembre\")\n",
        "plt.xlabel(\"Anno\")\n",
        "plt.ylabel(\"Incidenti / Morti\")\n",
        "plt.title(\"Andamento incidenti e morti dal 1980\")\n",
        "plt.legend()\n",
        "plt.grid(True)\n",
        "plt.show()"
      ],
      "metadata": {
        "colab": {
          "base_uri": "https://localhost:8080/",
          "height": 487
        },
        "id": "dB7pcAVJ8Qn5",
        "outputId": "d1eb7a49-b36c-4893-d063-c235bac274c2"
      },
      "execution_count": null,
      "outputs": [
        {
          "output_type": "display_data",
          "data": {
            "text/plain": [
              "<Figure size 1000x500 with 1 Axes>"
            ],
            "image/png": "[encoded data removed]"
          },
          "metadata": {}
        }
      ]
    },
    {
      "cell_type": "markdown",
      "source": [
        "L'attentato dell'11 settembre si è tradotto in un aumento delle misure di sicurezza durante i voli poiché come si può notare nel grafico il primo ventennio del 2000 si è caratterizzato da alti e bassi che hanno portato ad una graduale riduzione del numero di decessi. Anche il numero di incidenti si è ridotto lentamente soprattutto a partire dal 2020."
      ],
      "metadata": {
        "id": "IwZG6h7G2kIl"
      }
    },
    {
      "cell_type": "markdown",
      "source": [
        "###Rapporto tra paesi e incidenti annuali"
      ],
      "metadata": {
        "id": "K6z6gadFROPY"
      }
    },
    {
      "cell_type": "code",
      "source": [
        "incidenti_per_anno = dataset['year'].value_counts().reset_index()\n",
        "incidenti_per_anno.columns = ['Anno', 'Incidenti']\n",
        "print(incidenti_per_anno.head(30))"
      ],
      "metadata": {
        "colab": {
          "base_uri": "https://localhost:8080/"
        },
        "id": "WZVGkrDIVW3R",
        "outputId": "8a88fa96-d1c9-4de4-ec2a-24c973518a8c"
      },
      "execution_count": null,
      "outputs": [
        {
          "output_type": "stream",
          "name": "stdout",
          "text": [
            "    Anno  Incidenti\n",
            "0   1944       1505\n",
            "1   1945       1445\n",
            "2   1943        769\n",
            "3   1969        393\n",
            "4   1942        389\n",
            "5   1946        379\n",
            "6   1970        351\n",
            "7   1972        339\n",
            "8   1940        318\n",
            "9   1968        307\n",
            "10  1948        300\n",
            "11  1951        295\n",
            "12  1973        293\n",
            "13  1947        292\n",
            "14  1977        291\n",
            "15  1993        288\n",
            "16  1971        284\n",
            "17  1967        280\n",
            "18  1989        268\n",
            "19  1995        267\n",
            "20  1979        267\n",
            "21  1975        266\n",
            "22  1992        264\n",
            "23  1965        262\n",
            "24  1950        262\n",
            "25  1978        259\n",
            "26  1994        258\n",
            "27  1974        254\n",
            "28  1980        254\n",
            "29  1996        253\n"
          ]
        }
      ]
    },
    {
      "cell_type": "code",
      "source": [
        "incidenti_anno_paese = dataset.groupby(['country', 'year']).size().reset_index()\n",
        "incidenti_anno_paese.columns = ['Paese', 'Anno', 'Incidenti']\n",
        "primi_20 = incidenti_anno_paese.sort_values(by='Incidenti', ascending=False).head(30)\n",
        "print(primi_20)"
      ],
      "metadata": {
        "colab": {
          "base_uri": "https://localhost:8080/"
        },
        "id": "hstPGNcBQqYv",
        "outputId": "4473bb60-3874-42cb-c655-a43ddbf47607"
      },
      "execution_count": null,
      "outputs": [
        {
          "output_type": "stream",
          "name": "stdout",
          "text": [
            "                Paese  Anno  Incidenti\n",
            "6009  Unknown country  1945        276\n",
            "5842              USA  1944        180\n",
            "3810      Netherlands  1940        178\n",
            "5841              USA  1943        171\n",
            "1122            China  1945        163\n",
            "3707          Myanmar  1945        149\n",
            "2493            India  1944        144\n",
            "5843              USA  1945        125\n",
            "5723             U.K.  1944        123\n",
            "6008  Unknown country  1944        123\n",
            "1121            China  1944        109\n",
            "2494            India  1945        109\n",
            "2047          Germany  1945        104\n",
            "3706          Myanmar  1944        100\n",
            "1892           France  1944         91\n",
            "3812      Netherlands  1944         90\n",
            "5840              USA  1942         76\n",
            "4388      Philippines  1945         73\n",
            "6007  Unknown country  1943         70\n",
            "5917              USA  2019         69\n",
            "5844              USA  1946         69\n",
            "5845              USA  1947         68\n",
            "5849              USA  1951         67\n",
            "5876              USA  1978         62\n",
            "4084      P.N. Guinea  1944         61\n",
            "5919              USA  2021         60\n",
            "5885              USA  1987         58\n",
            "2835            Italy  1943         57\n",
            "5901              USA  2003         56\n",
            "5918              USA  2020         56\n"
          ]
        }
      ]
    },
    {
      "cell_type": "markdown",
      "source": [
        "La maggior parte degli incidenti si sono verificati negli anni '40; 1944 e 1945 insieme raggruppano quasi 3000 incidenti.\n",
        "Gli Stati Uniti sono il paese dove sono avvenuti più incidenti nel corso di quegli anni e ancora oggi detengono questo primato (es. 2019, 2020, 2021). Purtroppo per numerosi incidenti avvenuti nei primi anni '40 la localizzazione è sconosciuta."
      ],
      "metadata": {
        "id": "D_wbhN2zUl8r"
      }
    },
    {
      "cell_type": "markdown",
      "source": [
        "###Incidenti per nazione"
      ],
      "metadata": {
        "id": "x0MCSGvK6kRl"
      }
    },
    {
      "cell_type": "code",
      "source": [
        "pip install geopandas"
      ],
      "metadata": {
        "id": "4tZa40OhEU82",
        "colab": {
          "base_uri": "https://localhost:8080/"
        },
        "outputId": "d46f8a8c-2b95-4312-d006-1d34b8cff8f7"
      },
      "execution_count": null,
      "outputs": [
        {
          "output_type": "stream",
          "name": "stdout",
          "text": [
            "Requirement already satisfied: geopandas in /usr/local/lib/python3.11/dist-packages (1.0.1)\n",
            "Requirement already satisfied: numpy>=1.22 in /usr/local/lib/python3.11/dist-packages (from geopandas) (2.0.2)\n",
            "Requirement already satisfied: pyogrio>=0.7.2 in /usr/local/lib/python3.11/dist-packages (from geopandas) (0.11.0)\n",
            "Requirement already satisfied: packaging in /usr/local/lib/python3.11/dist-packages (from geopandas) (24.2)\n",
            "Requirement already satisfied: pandas>=1.4.0 in /usr/local/lib/python3.11/dist-packages (from geopandas) (2.2.2)\n",
            "Requirement already satisfied: pyproj>=3.3.0 in /usr/local/lib/python3.11/dist-packages (from geopandas) (3.7.1)\n",
            "Requirement already satisfied: shapely>=2.0.0 in /usr/local/lib/python3.11/dist-packages (from geopandas) (2.1.1)\n",
            "Requirement already satisfied: python-dateutil>=2.8.2 in /usr/local/lib/python3.11/dist-packages (from pandas>=1.4.0->geopandas) (2.9.0.post0)\n",
            "Requirement already satisfied: pytz>=2020.1 in /usr/local/lib/python3.11/dist-packages (from pandas>=1.4.0->geopandas) (2025.2)\n",
            "Requirement already satisfied: tzdata>=2022.7 in /usr/local/lib/python3.11/dist-packages (from pandas>=1.4.0->geopandas) (2025.2)\n",
            "Requirement already satisfied: certifi in /usr/local/lib/python3.11/dist-packages (from pyogrio>=0.7.2->geopandas) (2025.6.15)\n",
            "Requirement already satisfied: six>=1.5 in /usr/local/lib/python3.11/dist-packages (from python-dateutil>=2.8.2->pandas>=1.4.0->geopandas) (1.17.0)\n"
          ]
        }
      ]
    },
    {
      "cell_type": "code",
      "source": [
        "import geopandas as gpd"
      ],
      "metadata": {
        "id": "gUa11DXp-0O8"
      },
      "execution_count": null,
      "outputs": []
    },
    {
      "cell_type": "code",
      "source": [
        "incidenti_per_nazione = dataset['country'].value_counts().reset_index()\n",
        "incidenti_per_nazione.columns = ['Paese', 'Incidenti']\n",
        "incidenti_per_nazione"
      ],
      "metadata": {
        "colab": {
          "base_uri": "https://localhost:8080/",
          "height": 423
        },
        "id": "LXcff9ae-5at",
        "outputId": "7b9fe3e7-4466-4e29-fd9d-0389f151e19e"
      },
      "execution_count": null,
      "outputs": [
        {
          "output_type": "execute_result",
          "data": {
            "text/plain": [
              "               Paese  Incidenti\n",
              "0                USA       4377\n",
              "1             Russia       1422\n",
              "2    Unknown country        838\n",
              "3               U.K.        837\n",
              "4             Canada        826\n",
              "..               ...        ...\n",
              "227        Cook Isl.          1\n",
              "228           Kosovo          1\n",
              "229          Burundi          1\n",
              "230         Eswatini          1\n",
              "231            Macau          1\n",
              "\n",
              "[232 rows x 2 columns]"
            ],
            "text/html": [
              "\n",
              "  <div id=\"df-3fa69369-41e6-4d4c-9677-7164441816aa\" class=\"colab-df-container\">\n",
              "    <div>\n",
              "<style scoped>\n",
              "    .dataframe tbody tr th:only-of-type {\n",
              "        vertical-align: middle;\n",
              "    }\n",
              "\n",
              "    .dataframe tbody tr th {\n",
              "        vertical-align: top;\n",
              "    }\n",
              "\n",
              "    .dataframe thead th {\n",
              "        text-align: right;\n",
              "    }\n",
              "</style>\n",
              "<table border=\"1\" class=\"dataframe\">\n",
              "  <thead>\n",
              "    <tr style=\"text-align: right;\">\n",
              "      <th></th>\n",
              "      <th>Paese</th>\n",
              "      <th>Incidenti</th>\n",
              "    </tr>\n",
              "  </thead>\n",
              "  <tbody>\n",
              "    <tr>\n",
              "      <th>0</th>\n",
              "      <td>USA</td>\n",
              "      <td>4377</td>\n",
              "    </tr>\n",
              "    <tr>\n",
              "      <th>1</th>\n",
              "      <td>Russia</td>\n",
              "      <td>1422</td>\n",
              "    </tr>\n",
              "    <tr>\n",
              "      <th>2</th>\n",
              "      <td>Unknown country</td>\n",
              "      <td>838</td>\n",
              "    </tr>\n",
              "    <tr>\n",
              "      <th>3</th>\n",
              "      <td>U.K.</td>\n",
              "      <td>837</td>\n",
              "    </tr>\n",
              "    <tr>\n",
              "      <th>4</th>\n",
              "      <td>Canada</td>\n",
              "      <td>826</td>\n",
              "    </tr>\n",
              "    <tr>\n",
              "      <th>...</th>\n",
              "      <td>...</td>\n",
              "      <td>...</td>\n",
              "    </tr>\n",
              "    <tr>\n",
              "      <th>227</th>\n",
              "      <td>Cook Isl.</td>\n",
              "      <td>1</td>\n",
              "    </tr>\n",
              "    <tr>\n",
              "      <th>228</th>\n",
              "      <td>Kosovo</td>\n",
              "      <td>1</td>\n",
              "    </tr>\n",
              "    <tr>\n",
              "      <th>229</th>\n",
              "      <td>Burundi</td>\n",
              "      <td>1</td>\n",
              "    </tr>\n",
              "    <tr>\n",
              "      <th>230</th>\n",
              "      <td>Eswatini</td>\n",
              "      <td>1</td>\n",
              "    </tr>\n",
              "    <tr>\n",
              "      <th>231</th>\n",
              "      <td>Macau</td>\n",
              "      <td>1</td>\n",
              "    </tr>\n",
              "  </tbody>\n",
              "</table>\n",
              "<p>232 rows × 2 columns</p>\n",
              "</div>\n",
              "    <div class=\"colab-df-buttons\">\n",
              "\n",
              "  <div class=\"colab-df-container\">\n",
              "    <button class=\"colab-df-convert\" onclick=\"convertToInteractive('df-3fa69369-41e6-4d4c-9677-7164441816aa')\"\n",
              "            title=\"Convert this dataframe to an interactive table.\"\n",
              "            style=\"display:none;\">\n",
              "\n",
              "  <svg xmlns=\"http://www.w3.org/2000/svg\" height=\"24px\" viewBox=\"0 -960 960 960\">\n",
              "    <path d=\"M120-120v-720h720v720H120Zm60-500h600v-160H180v160Zm220 220h160v-160H400v160Zm0 220h160v-160H400v160ZM180-400h160v-160H180v160Zm440 0h160v-160H620v160ZM180-180h160v-160H180v160Zm440 0h160v-160H620v160Z\"/>\n",
              "  </svg>\n",
              "    </button>\n",
              "\n",
              "  <style>\n",
              "    .colab-df-container {\n",
              "      display:flex;\n",
              "      gap: 12px;\n",
              "    }\n",
              "\n",
              "    .colab-df-convert {\n",
              "      background-color: #E8F0FE;\n",
              "      border: none;\n",
              "      border-radius: 50%;\n",
              "      cursor: pointer;\n",
              "      display: none;\n",
              "      fill: #1967D2;\n",
              "      height: 32px;\n",
              "      padding: 0 0 0 0;\n",
              "      width: 32px;\n",
              "    }\n",
              "\n",
              "    .colab-df-convert:hover {\n",
              "      background-color: #E2EBFA;\n",
              "      box-shadow: 0px 1px 2px rgba(60, 64, 67, 0.3), 0px 1px 3px 1px rgba(60, 64, 67, 0.15);\n",
              "      fill: #174EA6;\n",
              "    }\n",
              "\n",
              "    .colab-df-buttons div {\n",
              "      margin-bottom: 4px;\n",
              "    }\n",
              "\n",
              "    [theme=dark] .colab-df-convert {\n",
              "      background-color: #3B4455;\n",
              "      fill: #D2E3FC;\n",
              "    }\n",
              "\n",
              "    [theme=dark] .colab-df-convert:hover {\n",
              "      background-color: #434B5C;\n",
              "      box-shadow: 0px 1px 3px 1px rgba(0, 0, 0, 0.15);\n",
              "      filter: drop-shadow(0px 1px 2px rgba(0, 0, 0, 0.3));\n",
              "      fill: #FFFFFF;\n",
              "    }\n",
              "  </style>\n",
              "\n",
              "    <script>\n",
              "      const buttonEl =\n",
              "        document.querySelector('#df-3fa69369-41e6-4d4c-9677-7164441816aa button.colab-df-convert');\n",
              "      buttonEl.style.display =\n",
              "        google.colab.kernel.accessAllowed ? 'block' : 'none';\n",
              "\n",
              "      async function convertToInteractive(key) {\n",
              "        const element = document.querySelector('#df-3fa69369-41e6-4d4c-9677-7164441816aa');\n",
              "        const dataTable =\n",
              "          await google.colab.kernel.invokeFunction('convertToInteractive',\n",
              "                                                    [key], {});\n",
              "        if (!dataTable) return;\n",
              "\n",
              "        const docLinkHtml = 'Like what you see? Visit the ' +\n",
              "          '<a target=\"_blank\" href=https://colab.research.google.com/notebooks/data_table.ipynb>data table notebook</a>'\n",
              "          + ' to learn more about interactive tables.';\n",
              "        element.innerHTML = '';\n",
              "        dataTable['output_type'] = 'display_data';\n",
              "        await google.colab.output.renderOutput(dataTable, element);\n",
              "        const docLink = document.createElement('div');\n",
              "        docLink.innerHTML = docLinkHtml;\n",
              "        element.appendChild(docLink);\n",
              "      }\n",
              "    </script>\n",
              "  </div>\n",
              "\n",
              "\n",
              "    <div id=\"df-816bfd6c-ccf6-4262-82d0-d266054238b2\">\n",
              "      <button class=\"colab-df-quickchart\" onclick=\"quickchart('df-816bfd6c-ccf6-4262-82d0-d266054238b2')\"\n",
              "                title=\"Suggest charts\"\n",
              "                style=\"display:none;\">\n",
              "\n",
              "<svg xmlns=\"http://www.w3.org/2000/svg\" height=\"24px\"viewBox=\"0 0 24 24\"\n",
              "     width=\"24px\">\n",
              "    <g>\n",
              "        <path d=\"M19 3H5c-1.1 0-2 .9-2 2v14c0 1.1.9 2 2 2h14c1.1 0 2-.9 2-2V5c0-1.1-.9-2-2-2zM9 17H7v-7h2v7zm4 0h-2V7h2v10zm4 0h-2v-4h2v4z\"/>\n",
              "    </g>\n",
              "</svg>\n",
              "      </button>\n",
              "\n",
              "<style>\n",
              "  .colab-df-quickchart {\n",
              "      --bg-color: #E8F0FE;\n",
              "      --fill-color: #1967D2;\n",
              "      --hover-bg-color: #E2EBFA;\n",
              "      --hover-fill-color: #174EA6;\n",
              "      --disabled-fill-color: #AAA;\n",
              "      --disabled-bg-color: #DDD;\n",
              "  }\n",
              "\n",
              "  [theme=dark] .colab-df-quickchart {\n",
              "      --bg-color: #3B4455;\n",
              "      --fill-color: #D2E3FC;\n",
              "      --hover-bg-color: #434B5C;\n",
              "      --hover-fill-color: #FFFFFF;\n",
              "      --disabled-bg-color: #3B4455;\n",
              "      --disabled-fill-color: #666;\n",
              "  }\n",
              "\n",
              "  .colab-df-quickchart {\n",
              "    background-color: var(--bg-color);\n",
              "    border: none;\n",
              "    border-radius: 50%;\n",
              "    cursor: pointer;\n",
              "    display: none;\n",
              "    fill: var(--fill-color);\n",
              "    height: 32px;\n",
              "    padding: 0;\n",
              "    width: 32px;\n",
              "  }\n",
              "\n",
              "  .colab-df-quickchart:hover {\n",
              "    background-color: var(--hover-bg-color);\n",
              "    box-shadow: 0 1px 2px rgba(60, 64, 67, 0.3), 0 1px 3px 1px rgba(60, 64, 67, 0.15);\n",
              "    fill: var(--button-hover-fill-color);\n",
              "  }\n",
              "\n",
              "  .colab-df-quickchart-complete:disabled,\n",
              "  .colab-df-quickchart-complete:disabled:hover {\n",
              "    background-color: var(--disabled-bg-color);\n",
              "    fill: var(--disabled-fill-color);\n",
              "    box-shadow: none;\n",
              "  }\n",
              "\n",
              "  .colab-df-spinner {\n",
              "    border: 2px solid var(--fill-color);\n",
              "    border-color: transparent;\n",
              "    border-bottom-color: var(--fill-color);\n",
              "    animation:\n",
              "      spin 1s steps(1) infinite;\n",
              "  }\n",
              "\n",
              "  @keyframes spin {\n",
              "    0% {\n",
              "      border-color: transparent;\n",
              "      border-bottom-color: var(--fill-color);\n",
              "      border-left-color: var(--fill-color);\n",
              "    }\n",
              "    20% {\n",
              "      border-color: transparent;\n",
              "      border-left-color: var(--fill-color);\n",
              "      border-top-color: var(--fill-color);\n",
              "    }\n",
              "    30% {\n",
              "      border-color: transparent;\n",
              "      border-left-color: var(--fill-color);\n",
              "      border-top-color: var(--fill-color);\n",
              "      border-right-color: var(--fill-color);\n",
              "    }\n",
              "    40% {\n",
              "      border-color: transparent;\n",
              "      border-right-color: var(--fill-color);\n",
              "      border-top-color: var(--fill-color);\n",
              "    }\n",
              "    60% {\n",
              "      border-color: transparent;\n",
              "      border-right-color: var(--fill-color);\n",
              "    }\n",
              "    80% {\n",
              "      border-color: transparent;\n",
              "      border-right-color: var(--fill-color);\n",
              "      border-bottom-color: var(--fill-color);\n",
              "    }\n",
              "    90% {\n",
              "      border-color: transparent;\n",
              "      border-bottom-color: var(--fill-color);\n",
              "    }\n",
              "  }\n",
              "</style>\n",
              "\n",
              "      <script>\n",
              "        async function quickchart(key) {\n",
              "          const quickchartButtonEl =\n",
              "            document.querySelector('#' + key + ' button');\n",
              "          quickchartButtonEl.disabled = true;  // To prevent multiple clicks.\n",
              "          quickchartButtonEl.classList.add('colab-df-spinner');\n",
              "          try {\n",
              "            const charts = await google.colab.kernel.invokeFunction(\n",
              "                'suggestCharts', [key], {});\n",
              "          } catch (error) {\n",
              "            console.error('Error during call to suggestCharts:', error);\n",
              "          }\n",
              "          quickchartButtonEl.classList.remove('colab-df-spinner');\n",
              "          quickchartButtonEl.classList.add('colab-df-quickchart-complete');\n",
              "        }\n",
              "        (() => {\n",
              "          let quickchartButtonEl =\n",
              "            document.querySelector('#df-816bfd6c-ccf6-4262-82d0-d266054238b2 button');\n",
              "          quickchartButtonEl.style.display =\n",
              "            google.colab.kernel.accessAllowed ? 'block' : 'none';\n",
              "        })();\n",
              "      </script>\n",
              "    </div>\n",
              "\n",
              "  <div id=\"id_48d4fdb1-8a06-4455-becd-b88e74e0a324\">\n",
              "    <style>\n",
              "      .colab-df-generate {\n",
              "        background-color: #E8F0FE;\n",
              "        border: none;\n",
              "        border-radius: 50%;\n",
              "        cursor: pointer;\n",
              "        display: none;\n",
              "        fill: #1967D2;\n",
              "        height: 32px;\n",
              "        padding: 0 0 0 0;\n",
              "        width: 32px;\n",
              "      }\n",
              "\n",
              "      .colab-df-generate:hover {\n",
              "        background-color: #E2EBFA;\n",
              "        box-shadow: 0px 1px 2px rgba(60, 64, 67, 0.3), 0px 1px 3px 1px rgba(60, 64, 67, 0.15);\n",
              "        fill: #174EA6;\n",
              "      }\n",
              "\n",
              "      [theme=dark] .colab-df-generate {\n",
              "        background-color: #3B4455;\n",
              "        fill: #D2E3FC;\n",
              "      }\n",
              "\n",
              "      [theme=dark] .colab-df-generate:hover {\n",
              "        background-color: #434B5C;\n",
              "        box-shadow: 0px 1px 3px 1px rgba(0, 0, 0, 0.15);\n",
              "        filter: drop-shadow(0px 1px 2px rgba(0, 0, 0, 0.3));\n",
              "        fill: #FFFFFF;\n",
              "      }\n",
              "    </style>\n",
              "    <button class=\"colab-df-generate\" onclick=\"generateWithVariable('incidenti_per_nazione')\"\n",
              "            title=\"Generate code using this dataframe.\"\n",
              "            style=\"display:none;\">\n",
              "\n",
              "  <svg xmlns=\"http://www.w3.org/2000/svg\" height=\"24px\"viewBox=\"0 0 24 24\"\n",
              "       width=\"24px\">\n",
              "    <path d=\"M7,19H8.4L18.45,9,17,7.55,7,17.6ZM5,21V16.75L18.45,3.32a2,2,0,0,1,2.83,0l1.4,1.43a1.91,1.91,0,0,1,.58,1.4,1.91,1.91,0,0,1-.58,1.4L9.25,21ZM18.45,9,17,7.55Zm-12,3A5.31,5.31,0,0,0,4.9,8.1,5.31,5.31,0,0,0,1,6.5,5.31,5.31,0,0,0,4.9,4.9,5.31,5.31,0,0,0,6.5,1,5.31,5.31,0,0,0,8.1,4.9,5.31,5.31,0,0,0,12,6.5,5.46,5.46,0,0,0,6.5,12Z\"/>\n",
              "  </svg>\n",
              "    </button>\n",
              "    <script>\n",
              "      (() => {\n",
              "      const buttonEl =\n",
              "        document.querySelector('#id_48d4fdb1-8a06-4455-becd-b88e74e0a324 button.colab-df-generate');\n",
              "      buttonEl.style.display =\n",
              "        google.colab.kernel.accessAllowed ? 'block' : 'none';\n",
              "\n",
              "      buttonEl.onclick = () => {\n",
              "        google.colab.notebook.generateWithVariable('incidenti_per_nazione');\n",
              "      }\n",
              "      })();\n",
              "    </script>\n",
              "  </div>\n",
              "\n",
              "    </div>\n",
              "  </div>\n"
            ],
            "application/vnd.google.colaboratory.intrinsic+json": {
              "type": "dataframe",
              "variable_name": "incidenti_per_nazione",
              "summary": "{\n  \"name\": \"incidenti_per_nazione\",\n  \"rows\": 232,\n  \"fields\": [\n    {\n      \"column\": \"Paese\",\n      \"properties\": {\n        \"dtype\": \"string\",\n        \"num_unique_values\": 232,\n        \"samples\": [\n          \"Tuvalu\",\n          \"Nepal\",\n          \"China\"\n        ],\n        \"semantic_type\": \"\",\n        \"description\": \"\"\n      }\n    },\n    {\n      \"column\": \"Incidenti\",\n      \"properties\": {\n        \"dtype\": \"number\",\n        \"std\": 327,\n        \"min\": 1,\n        \"max\": 4377,\n        \"num_unique_values\": 111,\n        \"samples\": [\n          35,\n          457,\n          826\n        ],\n        \"semantic_type\": \"\",\n        \"description\": \"\"\n      }\n    }\n  ]\n}"
            }
          },
          "metadata": {},
          "execution_count": 47
        }
      ]
    },
    {
      "cell_type": "code",
      "source": [
        "from zipfile import ZipFile\n",
        "from google.colab import files\n",
        "uploaded = files.upload()"
      ],
      "metadata": {
        "colab": {
          "base_uri": "https://localhost:8080/",
          "height": 281
        },
        "id": "zyUAxijU-_Wt",
        "outputId": "10bd87cf-1185-4b73-9294-9e26a4d0b35d"
      },
      "execution_count": null,
      "outputs": [
        {
          "output_type": "display_data",
          "data": {
            "text/plain": [
              "<IPython.core.display.HTML object>"
            ],
            "text/html": [
              "\n",
              "     <input type=\"file\" id=\"files-37b16cf7-a5df-4071-9093-67c2ac79997f\" name=\"files[]\" multiple disabled\n",
              "        style=\"border:none\" />\n",
              "     <output id=\"result-37b16cf7-a5df-4071-9093-67c2ac79997f\">\n",
              "      Upload widget is only available when the cell has been executed in the\n",
              "      current browser session. Please rerun this cell to enable.\n",
              "      </output>\n",
              "      <script>// Copyright 2017 Google LLC\n",
              "//\n",
              "// Licensed under the Apache License, Version 2.0 (the \"License\");\n",
              "// you may not use this file except in compliance with the License.\n",
              "// You may obtain a copy of the License at\n",
              "//\n",
              "//      http://www.apache.org/licenses/LICENSE-2.0\n",
              "//\n",
              "// Unless required by applicable law or agreed to in writing, software\n",
              "// distributed under the License is distributed on an \"AS IS\" BASIS,\n",
              "// WITHOUT WARRANTIES OR CONDITIONS OF ANY KIND, either express or implied.\n",
              "// See the License for the specific language governing permissions and\n",
              "// limitations under the License.\n",
              "\n",
              "/**\n",
              " * @fileoverview Helpers for google.colab Python module.\n",
              " */\n",
              "(function(scope) {\n",
              "function span(text, styleAttributes = {}) {\n",
              "  const element = document.createElement('span');\n",
              "  element.textContent = text;\n",
              "  for (const key of Object.keys(styleAttributes)) {\n",
              "    element.style[key] = styleAttributes[key];\n",
              "  }\n",
              "  return element;\n",
              "}\n",
              "\n",
              "// Max number of bytes which will be uploaded at a time.\n",
              "const MAX_PAYLOAD_SIZE = 100 * 1024;\n",
              "\n",
              "function _uploadFiles(inputId, outputId) {\n",
              "  const steps = uploadFilesStep(inputId, outputId);\n",
              "  const outputElement = document.getElementById(outputId);\n",
              "  // Cache steps on the outputElement to make it available for the next call\n",
              "  // to uploadFilesContinue from Python.\n",
              "  outputElement.steps = steps;\n",
              "\n",
              "  return _uploadFilesContinue(outputId);\n",
              "}\n",
              "\n",
              "// This is roughly an async generator (not supported in the browser yet),\n",
              "// where there are multiple asynchronous steps and the Python side is going\n",
              "// to poll for completion of each step.\n",
              "// This uses a Promise to block the python side on completion of each step,\n",
              "// then passes the result of the previous step as the input to the next step.\n",
              "function _uploadFilesContinue(outputId) {\n",
              "  const outputElement = document.getElementById(outputId);\n",
              "  const steps = outputElement.steps;\n",
              "\n",
              "  const next = steps.next(outputElement.lastPromiseValue);\n",
              "  return Promise.resolve(next.value.promise).then((value) => {\n",
              "    // Cache the last promise value to make it available to the next\n",
              "    // step of the generator.\n",
              "    outputElement.lastPromiseValue = value;\n",
              "    return next.value.response;\n",
              "  });\n",
              "}\n",
              "\n",
              "/**\n",
              " * Generator function which is called between each async step of the upload\n",
              " * process.\n",
              " * @param {string} inputId Element ID of the input file picker element.\n",
              " * @param {string} outputId Element ID of the output display.\n",
              " * @return {!Iterable<!Object>} Iterable of next steps.\n",
              " */\n",
              "function* uploadFilesStep(inputId, outputId) {\n",
              "  const inputElement = document.getElementById(inputId);\n",
              "  inputElement.disabled = false;\n",
              "\n",
              "  const outputElement = document.getElementById(outputId);\n",
              "  outputElement.innerHTML = '';\n",
              "\n",
              "  const pickedPromise = new Promise((resolve) => {\n",
              "    inputElement.addEventListener('change', (e) => {\n",
              "      resolve(e.target.files);\n",
              "    });\n",
              "  });\n",
              "\n",
              "  const cancel = document.createElement('button');\n",
              "  inputElement.parentElement.appendChild(cancel);\n",
              "  cancel.textContent = 'Cancel upload';\n",
              "  const cancelPromise = new Promise((resolve) => {\n",
              "    cancel.onclick = () => {\n",
              "      resolve(null);\n",
              "    };\n",
              "  });\n",
              "\n",
              "  // Wait for the user to pick the files.\n",
              "  const files = yield {\n",
              "    promise: Promise.race([pickedPromise, cancelPromise]),\n",
              "    response: {\n",
              "      action: 'starting',\n",
              "    }\n",
              "  };\n",
              "\n",
              "  cancel.remove();\n",
              "\n",
              "  // Disable the input element since further picks are not allowed.\n",
              "  inputElement.disabled = true;\n",
              "\n",
              "  if (!files) {\n",
              "    return {\n",
              "      response: {\n",
              "        action: 'complete',\n",
              "      }\n",
              "    };\n",
              "  }\n",
              "\n",
              "  for (const file of files) {\n",
              "    const li = document.createElement('li');\n",
              "    li.append(span(file.name, {fontWeight: 'bold'}));\n",
              "    li.append(span(\n",
              "        `(${file.type || 'n/a'}) - ${file.size} bytes, ` +\n",
              "        `last modified: ${\n",
              "            file.lastModifiedDate ? file.lastModifiedDate.toLocaleDateString() :\n",
              "                                    'n/a'} - `));\n",
              "    const percent = span('0% done');\n",
              "    li.appendChild(percent);\n",
              "\n",
              "    outputElement.appendChild(li);\n",
              "\n",
              "    const fileDataPromise = new Promise((resolve) => {\n",
              "      const reader = new FileReader();\n",
              "      reader.onload = (e) => {\n",
              "        resolve(e.target.result);\n",
              "      };\n",
              "      reader.readAsArrayBuffer(file);\n",
              "    });\n",
              "    // Wait for the data to be ready.\n",
              "    let fileData = yield {\n",
              "      promise: fileDataPromise,\n",
              "      response: {\n",
              "        action: 'continue',\n",
              "      }\n",
              "    };\n",
              "\n",
              "    // Use a chunked sending to avoid message size limits. See b/62115660.\n",
              "    let position = 0;\n",
              "    do {\n",
              "      const length = Math.min(fileData.byteLength - position, MAX_PAYLOAD_SIZE);\n",
              "      const chunk = new Uint8Array(fileData, position, length);\n",
              "      position += length;\n",
              "\n",
              "      const base64 = btoa(String.fromCharCode.apply(null, chunk));\n",
              "      yield {\n",
              "        response: {\n",
              "          action: 'append',\n",
              "          file: file.name,\n",
              "          data: base64,\n",
              "        },\n",
              "      };\n",
              "\n",
              "      let percentDone = fileData.byteLength === 0 ?\n",
              "          100 :\n",
              "          Math.round((position / fileData.byteLength) * 100);\n",
              "      percent.textContent = `${percentDone}% done`;\n",
              "\n",
              "    } while (position < fileData.byteLength);\n",
              "  }\n",
              "\n",
              "  // All done.\n",
              "  yield {\n",
              "    response: {\n",
              "      action: 'complete',\n",
              "    }\n",
              "  };\n",
              "}\n",
              "\n",
              "scope.google = scope.google || {};\n",
              "scope.google.colab = scope.google.colab || {};\n",
              "scope.google.colab._files = {\n",
              "  _uploadFiles,\n",
              "  _uploadFilesContinue,\n",
              "};\n",
              "})(self);\n",
              "</script> "
            ]
          },
          "metadata": {}
        },
        {
          "output_type": "stream",
          "name": "stdout",
          "text": [
            "Saving ne_110m_admin_0_countries.cpg to ne_110m_admin_0_countries.cpg\n",
            "Saving ne_110m_admin_0_countries.dbf to ne_110m_admin_0_countries.dbf\n",
            "Saving ne_110m_admin_0_countries.prj to ne_110m_admin_0_countries.prj\n",
            "Saving ne_110m_admin_0_countries.README.html to ne_110m_admin_0_countries.README.html\n",
            "Saving ne_110m_admin_0_countries.shp to ne_110m_admin_0_countries.shp\n",
            "Saving ne_110m_admin_0_countries.shx to ne_110m_admin_0_countries.shx\n",
            "Saving ne_110m_admin_0_countries.VERSION.txt to ne_110m_admin_0_countries.VERSION.txt\n"
          ]
        }
      ]
    },
    {
      "cell_type": "code",
      "source": [
        "world_map = gpd.read_file(\"ne_110m_admin_0_countries.shp\")\n",
        "world_map"
      ],
      "metadata": {
        "colab": {
          "base_uri": "https://localhost:8080/",
          "height": 1000
        },
        "id": "K-Szt1V4_qhD",
        "outputId": "aff4af7a-17fd-405b-c994-11bbe7646b72"
      },
      "execution_count": null,
      "outputs": [
        {
          "output_type": "execute_result",
          "data": {
            "text/plain": [
              "          featurecla  scalerank  LABELRANK                   SOVEREIGNT  \\\n",
              "0    Admin-0 country          1          6                         Fiji   \n",
              "1    Admin-0 country          1          3  United Republic of Tanzania   \n",
              "2    Admin-0 country          1          7               Western Sahara   \n",
              "3    Admin-0 country          1          2                       Canada   \n",
              "4    Admin-0 country          1          2     United States of America   \n",
              "..               ...        ...        ...                          ...   \n",
              "172  Admin-0 country          1          5           Republic of Serbia   \n",
              "173  Admin-0 country          1          6                   Montenegro   \n",
              "174  Admin-0 country          1          6                       Kosovo   \n",
              "175  Admin-0 country          1          5          Trinidad and Tobago   \n",
              "176  Admin-0 country          1          3                  South Sudan   \n",
              "\n",
              "    SOV_A3  ADM0_DIF  LEVEL               TYPE TLC  \\\n",
              "0      FJI         0      2  Sovereign country   1   \n",
              "1      TZA         0      2  Sovereign country   1   \n",
              "2      SAH         0      2      Indeterminate   1   \n",
              "3      CAN         0      2  Sovereign country   1   \n",
              "4      US1         1      2            Country   1   \n",
              "..     ...       ...    ...                ...  ..   \n",
              "172    SRB         0      2  Sovereign country   1   \n",
              "173    MNE         0      2  Sovereign country   1   \n",
              "174    KOS         0      2           Disputed   1   \n",
              "175    TTO         0      2  Sovereign country   1   \n",
              "176    SDS         0      2  Sovereign country   1   \n",
              "\n",
              "                           ADMIN  ...        FCLASS_TR     FCLASS_ID  \\\n",
              "0                           Fiji  ...             None          None   \n",
              "1    United Republic of Tanzania  ...             None          None   \n",
              "2                 Western Sahara  ...     Unrecognized  Unrecognized   \n",
              "3                         Canada  ...             None          None   \n",
              "4       United States of America  ...             None          None   \n",
              "..                           ...  ...              ...           ...   \n",
              "172           Republic of Serbia  ...             None          None   \n",
              "173                   Montenegro  ...             None          None   \n",
              "174                       Kosovo  ...  Admin-0 country  Unrecognized   \n",
              "175          Trinidad and Tobago  ...             None          None   \n",
              "176                  South Sudan  ...             None          None   \n",
              "\n",
              "           FCLASS_PL     FCLASS_GR        FCLASS_IT        FCLASS_NL  \\\n",
              "0               None          None             None             None   \n",
              "1               None          None             None             None   \n",
              "2       Unrecognized          None             None     Unrecognized   \n",
              "3               None          None             None             None   \n",
              "4               None          None             None             None   \n",
              "..               ...           ...              ...              ...   \n",
              "172             None          None             None             None   \n",
              "173             None          None             None             None   \n",
              "174  Admin-0 country  Unrecognized  Admin-0 country  Admin-0 country   \n",
              "175             None          None             None             None   \n",
              "176             None          None             None             None   \n",
              "\n",
              "           FCLASS_SE        FCLASS_BD     FCLASS_UA  \\\n",
              "0               None             None          None   \n",
              "1               None             None          None   \n",
              "2               None             None          None   \n",
              "3               None             None          None   \n",
              "4               None             None          None   \n",
              "..               ...              ...           ...   \n",
              "172             None             None          None   \n",
              "173             None             None          None   \n",
              "174  Admin-0 country  Admin-0 country  Unrecognized   \n",
              "175             None             None          None   \n",
              "176             None             None          None   \n",
              "\n",
              "                                              geometry  \n",
              "0    MULTIPOLYGON (((180 -16.06713, 180 -16.55522, ...  \n",
              "1    POLYGON ((33.90371 -0.95, 34.07262 -1.05982, 3...  \n",
              "2    POLYGON ((-8.66559 27.65643, -8.66512 27.58948...  \n",
              "3    MULTIPOLYGON (((-122.84 49, -122.97421 49.0025...  \n",
              "4    MULTIPOLYGON (((-122.84 49, -120 49, -117.0312...  \n",
              "..                                                 ...  \n",
              "172  POLYGON ((18.82982 45.90887, 18.82984 45.90888...  \n",
              "173  POLYGON ((20.0707 42.58863, 19.80161 42.50009,...  \n",
              "174  POLYGON ((20.59025 41.85541, 20.52295 42.21787...  \n",
              "175  POLYGON ((-61.68 10.76, -61.105 10.89, -60.895...  \n",
              "176  POLYGON ((30.83385 3.50917, 29.9535 4.1737, 29...  \n",
              "\n",
              "[177 rows x 169 columns]"
            ],
            "text/html": [
              "\n",
              "  <div id=\"df-80679151-4af2-441d-a3d3-8eb1dd2af2f2\" class=\"colab-df-container\">\n",
              "    <div>\n",
              "<style scoped>\n",
              "    .dataframe tbody tr th:only-of-type {\n",
              "        vertical-align: middle;\n",
              "    }\n",
              "\n",
              "    .dataframe tbody tr th {\n",
              "        vertical-align: top;\n",
              "    }\n",
              "\n",
              "    .dataframe thead th {\n",
              "        text-align: right;\n",
              "    }\n",
              "</style>\n",
              "<table border=\"1\" class=\"dataframe\">\n",
              "  <thead>\n",
              "    <tr style=\"text-align: right;\">\n",
              "      <th></th>\n",
              "      <th>featurecla</th>\n",
              "      <th>scalerank</th>\n",
              "      <th>LABELRANK</th>\n",
              "      <th>SOVEREIGNT</th>\n",
              "      <th>SOV_A3</th>\n",
              "      <th>ADM0_DIF</th>\n",
              "      <th>LEVEL</th>\n",
              "      <th>TYPE</th>\n",
              "      <th>TLC</th>\n",
              "      <th>ADMIN</th>\n",
              "      <th>...</th>\n",
              "      <th>FCLASS_TR</th>\n",
              "      <th>FCLASS_ID</th>\n",
              "      <th>FCLASS_PL</th>\n",
              "      <th>FCLASS_GR</th>\n",
              "      <th>FCLASS_IT</th>\n",
              "      <th>FCLASS_NL</th>\n",
              "      <th>FCLASS_SE</th>\n",
              "      <th>FCLASS_BD</th>\n",
              "      <th>FCLASS_UA</th>\n",
              "      <th>geometry</th>\n",
              "    </tr>\n",
              "  </thead>\n",
              "  <tbody>\n",
              "    <tr>\n",
              "      <th>0</th>\n",
              "      <td>Admin-0 country</td>\n",
              "      <td>1</td>\n",
              "      <td>6</td>\n",
              "      <td>Fiji</td>\n",
              "      <td>FJI</td>\n",
              "      <td>0</td>\n",
              "      <td>2</td>\n",
              "      <td>Sovereign country</td>\n",
              "      <td>1</td>\n",
              "      <td>Fiji</td>\n",
              "      <td>...</td>\n",
              "      <td>None</td>\n",
              "      <td>None</td>\n",
              "      <td>None</td>\n",
              "      <td>None</td>\n",
              "      <td>None</td>\n",
              "      <td>None</td>\n",
              "      <td>None</td>\n",
              "      <td>None</td>\n",
              "      <td>None</td>\n",
              "      <td>MULTIPOLYGON (((180 -16.06713, 180 -16.55522, ...</td>\n",
              "    </tr>\n",
              "    <tr>\n",
              "      <th>1</th>\n",
              "      <td>Admin-0 country</td>\n",
              "      <td>1</td>\n",
              "      <td>3</td>\n",
              "      <td>United Republic of Tanzania</td>\n",
              "      <td>TZA</td>\n",
              "      <td>0</td>\n",
              "      <td>2</td>\n",
              "      <td>Sovereign country</td>\n",
              "      <td>1</td>\n",
              "      <td>United Republic of Tanzania</td>\n",
              "      <td>...</td>\n",
              "      <td>None</td>\n",
              "      <td>None</td>\n",
              "      <td>None</td>\n",
              "      <td>None</td>\n",
              "      <td>None</td>\n",
              "      <td>None</td>\n",
              "      <td>None</td>\n",
              "      <td>None</td>\n",
              "      <td>None</td>\n",
              "      <td>POLYGON ((33.90371 -0.95, 34.07262 -1.05982, 3...</td>\n",
              "    </tr>\n",
              "    <tr>\n",
              "      <th>2</th>\n",
              "      <td>Admin-0 country</td>\n",
              "      <td>1</td>\n",
              "      <td>7</td>\n",
              "      <td>Western Sahara</td>\n",
              "      <td>SAH</td>\n",
              "      <td>0</td>\n",
              "      <td>2</td>\n",
              "      <td>Indeterminate</td>\n",
              "      <td>1</td>\n",
              "      <td>Western Sahara</td>\n",
              "      <td>...</td>\n",
              "      <td>Unrecognized</td>\n",
              "      <td>Unrecognized</td>\n",
              "      <td>Unrecognized</td>\n",
              "      <td>None</td>\n",
              "      <td>None</td>\n",
              "      <td>Unrecognized</td>\n",
              "      <td>None</td>\n",
              "      <td>None</td>\n",
              "      <td>None</td>\n",
              "      <td>POLYGON ((-8.66559 27.65643, -8.66512 27.58948...</td>\n",
              "    </tr>\n",
              "    <tr>\n",
              "      <th>3</th>\n",
              "      <td>Admin-0 country</td>\n",
              "      <td>1</td>\n",
              "      <td>2</td>\n",
              "      <td>Canada</td>\n",
              "      <td>CAN</td>\n",
              "      <td>0</td>\n",
              "      <td>2</td>\n",
              "      <td>Sovereign country</td>\n",
              "      <td>1</td>\n",
              "      <td>Canada</td>\n",
              "      <td>...</td>\n",
              "      <td>None</td>\n",
              "      <td>None</td>\n",
              "      <td>None</td>\n",
              "      <td>None</td>\n",
              "      <td>None</td>\n",
              "      <td>None</td>\n",
              "      <td>None</td>\n",
              "      <td>None</td>\n",
              "      <td>None</td>\n",
              "      <td>MULTIPOLYGON (((-122.84 49, -122.97421 49.0025...</td>\n",
              "    </tr>\n",
              "    <tr>\n",
              "      <th>4</th>\n",
              "      <td>Admin-0 country</td>\n",
              "      <td>1</td>\n",
              "      <td>2</td>\n",
              "      <td>United States of America</td>\n",
              "      <td>US1</td>\n",
              "      <td>1</td>\n",
              "      <td>2</td>\n",
              "      <td>Country</td>\n",
              "      <td>1</td>\n",
              "      <td>United States of America</td>\n",
              "      <td>...</td>\n",
              "      <td>None</td>\n",
              "      <td>None</td>\n",
              "      <td>None</td>\n",
              "      <td>None</td>\n",
              "      <td>None</td>\n",
              "      <td>None</td>\n",
              "      <td>None</td>\n",
              "      <td>None</td>\n",
              "      <td>None</td>\n",
              "      <td>MULTIPOLYGON (((-122.84 49, -120 49, -117.0312...</td>\n",
              "    </tr>\n",
              "    <tr>\n",
              "      <th>...</th>\n",
              "      <td>...</td>\n",
              "      <td>...</td>\n",
              "      <td>...</td>\n",
              "      <td>...</td>\n",
              "      <td>...</td>\n",
              "      <td>...</td>\n",
              "      <td>...</td>\n",
              "      <td>...</td>\n",
              "      <td>...</td>\n",
              "      <td>...</td>\n",
              "      <td>...</td>\n",
              "      <td>...</td>\n",
              "      <td>...</td>\n",
              "      <td>...</td>\n",
              "      <td>...</td>\n",
              "      <td>...</td>\n",
              "      <td>...</td>\n",
              "      <td>...</td>\n",
              "      <td>...</td>\n",
              "      <td>...</td>\n",
              "      <td>...</td>\n",
              "    </tr>\n",
              "    <tr>\n",
              "      <th>172</th>\n",
              "      <td>Admin-0 country</td>\n",
              "      <td>1</td>\n",
              "      <td>5</td>\n",
              "      <td>Republic of Serbia</td>\n",
              "      <td>SRB</td>\n",
              "      <td>0</td>\n",
              "      <td>2</td>\n",
              "      <td>Sovereign country</td>\n",
              "      <td>1</td>\n",
              "      <td>Republic of Serbia</td>\n",
              "      <td>...</td>\n",
              "      <td>None</td>\n",
              "      <td>None</td>\n",
              "      <td>None</td>\n",
              "      <td>None</td>\n",
              "      <td>None</td>\n",
              "      <td>None</td>\n",
              "      <td>None</td>\n",
              "      <td>None</td>\n",
              "      <td>None</td>\n",
              "      <td>POLYGON ((18.82982 45.90887, 18.82984 45.90888...</td>\n",
              "    </tr>\n",
              "    <tr>\n",
              "      <th>173</th>\n",
              "      <td>Admin-0 country</td>\n",
              "      <td>1</td>\n",
              "      <td>6</td>\n",
              "      <td>Montenegro</td>\n",
              "      <td>MNE</td>\n",
              "      <td>0</td>\n",
              "      <td>2</td>\n",
              "      <td>Sovereign country</td>\n",
              "      <td>1</td>\n",
              "      <td>Montenegro</td>\n",
              "      <td>...</td>\n",
              "      <td>None</td>\n",
              "      <td>None</td>\n",
              "      <td>None</td>\n",
              "      <td>None</td>\n",
              "      <td>None</td>\n",
              "      <td>None</td>\n",
              "      <td>None</td>\n",
              "      <td>None</td>\n",
              "      <td>None</td>\n",
              "      <td>POLYGON ((20.0707 42.58863, 19.80161 42.50009,...</td>\n",
              "    </tr>\n",
              "    <tr>\n",
              "      <th>174</th>\n",
              "      <td>Admin-0 country</td>\n",
              "      <td>1</td>\n",
              "      <td>6</td>\n",
              "      <td>Kosovo</td>\n",
              "      <td>KOS</td>\n",
              "      <td>0</td>\n",
              "      <td>2</td>\n",
              "      <td>Disputed</td>\n",
              "      <td>1</td>\n",
              "      <td>Kosovo</td>\n",
              "      <td>...</td>\n",
              "      <td>Admin-0 country</td>\n",
              "      <td>Unrecognized</td>\n",
              "      <td>Admin-0 country</td>\n",
              "      <td>Unrecognized</td>\n",
              "      <td>Admin-0 country</td>\n",
              "      <td>Admin-0 country</td>\n",
              "      <td>Admin-0 country</td>\n",
              "      <td>Admin-0 country</td>\n",
              "      <td>Unrecognized</td>\n",
              "      <td>POLYGON ((20.59025 41.85541, 20.52295 42.21787...</td>\n",
              "    </tr>\n",
              "    <tr>\n",
              "      <th>175</th>\n",
              "      <td>Admin-0 country</td>\n",
              "      <td>1</td>\n",
              "      <td>5</td>\n",
              "      <td>Trinidad and Tobago</td>\n",
              "      <td>TTO</td>\n",
              "      <td>0</td>\n",
              "      <td>2</td>\n",
              "      <td>Sovereign country</td>\n",
              "      <td>1</td>\n",
              "      <td>Trinidad and Tobago</td>\n",
              "      <td>...</td>\n",
              "      <td>None</td>\n",
              "      <td>None</td>\n",
              "      <td>None</td>\n",
              "      <td>None</td>\n",
              "      <td>None</td>\n",
              "      <td>None</td>\n",
              "      <td>None</td>\n",
              "      <td>None</td>\n",
              "      <td>None</td>\n",
              "      <td>POLYGON ((-61.68 10.76, -61.105 10.89, -60.895...</td>\n",
              "    </tr>\n",
              "    <tr>\n",
              "      <th>176</th>\n",
              "      <td>Admin-0 country</td>\n",
              "      <td>1</td>\n",
              "      <td>3</td>\n",
              "      <td>South Sudan</td>\n",
              "      <td>SDS</td>\n",
              "      <td>0</td>\n",
              "      <td>2</td>\n",
              "      <td>Sovereign country</td>\n",
              "      <td>1</td>\n",
              "      <td>South Sudan</td>\n",
              "      <td>...</td>\n",
              "      <td>None</td>\n",
              "      <td>None</td>\n",
              "      <td>None</td>\n",
              "      <td>None</td>\n",
              "      <td>None</td>\n",
              "      <td>None</td>\n",
              "      <td>None</td>\n",
              "      <td>None</td>\n",
              "      <td>None</td>\n",
              "      <td>POLYGON ((30.83385 3.50917, 29.9535 4.1737, 29...</td>\n",
              "    </tr>\n",
              "  </tbody>\n",
              "</table>\n",
              "<p>177 rows × 169 columns</p>\n",
              "</div>\n",
              "    <div class=\"colab-df-buttons\">\n",
              "\n",
              "  <div class=\"colab-df-container\">\n",
              "    <button class=\"colab-df-convert\" onclick=\"convertToInteractive('df-80679151-4af2-441d-a3d3-8eb1dd2af2f2')\"\n",
              "            title=\"Convert this dataframe to an interactive table.\"\n",
              "            style=\"display:none;\">\n",
              "\n",
              "  <svg xmlns=\"http://www.w3.org/2000/svg\" height=\"24px\" viewBox=\"0 -960 960 960\">\n",
              "    <path d=\"M120-120v-720h720v720H120Zm60-500h600v-160H180v160Zm220 220h160v-160H400v160Zm0 220h160v-160H400v160ZM180-400h160v-160H180v160Zm440 0h160v-160H620v160ZM180-180h160v-160H180v160Zm440 0h160v-160H620v160Z\"/>\n",
              "  </svg>\n",
              "    </button>\n",
              "\n",
              "  <style>\n",
              "    .colab-df-container {\n",
              "      display:flex;\n",
              "      gap: 12px;\n",
              "    }\n",
              "\n",
              "    .colab-df-convert {\n",
              "      background-color: #E8F0FE;\n",
              "      border: none;\n",
              "      border-radius: 50%;\n",
              "      cursor: pointer;\n",
              "      display: none;\n",
              "      fill: #1967D2;\n",
              "      height: 32px;\n",
              "      padding: 0 0 0 0;\n",
              "      width: 32px;\n",
              "    }\n",
              "\n",
              "    .colab-df-convert:hover {\n",
              "      background-color: #E2EBFA;\n",
              "      box-shadow: 0px 1px 2px rgba(60, 64, 67, 0.3), 0px 1px 3px 1px rgba(60, 64, 67, 0.15);\n",
              "      fill: #174EA6;\n",
              "    }\n",
              "\n",
              "    .colab-df-buttons div {\n",
              "      margin-bottom: 4px;\n",
              "    }\n",
              "\n",
              "    [theme=dark] .colab-df-convert {\n",
              "      background-color: #3B4455;\n",
              "      fill: #D2E3FC;\n",
              "    }\n",
              "\n",
              "    [theme=dark] .colab-df-convert:hover {\n",
              "      background-color: #434B5C;\n",
              "      box-shadow: 0px 1px 3px 1px rgba(0, 0, 0, 0.15);\n",
              "      filter: drop-shadow(0px 1px 2px rgba(0, 0, 0, 0.3));\n",
              "      fill: #FFFFFF;\n",
              "    }\n",
              "  </style>\n",
              "\n",
              "    <script>\n",
              "      const buttonEl =\n",
              "        document.querySelector('#df-80679151-4af2-441d-a3d3-8eb1dd2af2f2 button.colab-df-convert');\n",
              "      buttonEl.style.display =\n",
              "        google.colab.kernel.accessAllowed ? 'block' : 'none';\n",
              "\n",
              "      async function convertToInteractive(key) {\n",
              "        const element = document.querySelector('#df-80679151-4af2-441d-a3d3-8eb1dd2af2f2');\n",
              "        const dataTable =\n",
              "          await google.colab.kernel.invokeFunction('convertToInteractive',\n",
              "                                                    [key], {});\n",
              "        if (!dataTable) return;\n",
              "\n",
              "        const docLinkHtml = 'Like what you see? Visit the ' +\n",
              "          '<a target=\"_blank\" href=https://colab.research.google.com/notebooks/data_table.ipynb>data table notebook</a>'\n",
              "          + ' to learn more about interactive tables.';\n",
              "        element.innerHTML = '';\n",
              "        dataTable['output_type'] = 'display_data';\n",
              "        await google.colab.output.renderOutput(dataTable, element);\n",
              "        const docLink = document.createElement('div');\n",
              "        docLink.innerHTML = docLinkHtml;\n",
              "        element.appendChild(docLink);\n",
              "      }\n",
              "    </script>\n",
              "  </div>\n",
              "\n",
              "\n",
              "    <div id=\"df-34a8d416-b74a-4272-b1dd-e4444ee6c9c2\">\n",
              "      <button class=\"colab-df-quickchart\" onclick=\"quickchart('df-34a8d416-b74a-4272-b1dd-e4444ee6c9c2')\"\n",
              "                title=\"Suggest charts\"\n",
              "                style=\"display:none;\">\n",
              "\n",
              "<svg xmlns=\"http://www.w3.org/2000/svg\" height=\"24px\"viewBox=\"0 0 24 24\"\n",
              "     width=\"24px\">\n",
              "    <g>\n",
              "        <path d=\"M19 3H5c-1.1 0-2 .9-2 2v14c0 1.1.9 2 2 2h14c1.1 0 2-.9 2-2V5c0-1.1-.9-2-2-2zM9 17H7v-7h2v7zm4 0h-2V7h2v10zm4 0h-2v-4h2v4z\"/>\n",
              "    </g>\n",
              "</svg>\n",
              "      </button>\n",
              "\n",
              "<style>\n",
              "  .colab-df-quickchart {\n",
              "      --bg-color: #E8F0FE;\n",
              "      --fill-color: #1967D2;\n",
              "      --hover-bg-color: #E2EBFA;\n",
              "      --hover-fill-color: #174EA6;\n",
              "      --disabled-fill-color: #AAA;\n",
              "      --disabled-bg-color: #DDD;\n",
              "  }\n",
              "\n",
              "  [theme=dark] .colab-df-quickchart {\n",
              "      --bg-color: #3B4455;\n",
              "      --fill-color: #D2E3FC;\n",
              "      --hover-bg-color: #434B5C;\n",
              "      --hover-fill-color: #FFFFFF;\n",
              "      --disabled-bg-color: #3B4455;\n",
              "      --disabled-fill-color: #666;\n",
              "  }\n",
              "\n",
              "  .colab-df-quickchart {\n",
              "    background-color: var(--bg-color);\n",
              "    border: none;\n",
              "    border-radius: 50%;\n",
              "    cursor: pointer;\n",
              "    display: none;\n",
              "    fill: var(--fill-color);\n",
              "    height: 32px;\n",
              "    padding: 0;\n",
              "    width: 32px;\n",
              "  }\n",
              "\n",
              "  .colab-df-quickchart:hover {\n",
              "    background-color: var(--hover-bg-color);\n",
              "    box-shadow: 0 1px 2px rgba(60, 64, 67, 0.3), 0 1px 3px 1px rgba(60, 64, 67, 0.15);\n",
              "    fill: var(--button-hover-fill-color);\n",
              "  }\n",
              "\n",
              "  .colab-df-quickchart-complete:disabled,\n",
              "  .colab-df-quickchart-complete:disabled:hover {\n",
              "    background-color: var(--disabled-bg-color);\n",
              "    fill: var(--disabled-fill-color);\n",
              "    box-shadow: none;\n",
              "  }\n",
              "\n",
              "  .colab-df-spinner {\n",
              "    border: 2px solid var(--fill-color);\n",
              "    border-color: transparent;\n",
              "    border-bottom-color: var(--fill-color);\n",
              "    animation:\n",
              "      spin 1s steps(1) infinite;\n",
              "  }\n",
              "\n",
              "  @keyframes spin {\n",
              "    0% {\n",
              "      border-color: transparent;\n",
              "      border-bottom-color: var(--fill-color);\n",
              "      border-left-color: var(--fill-color);\n",
              "    }\n",
              "    20% {\n",
              "      border-color: transparent;\n",
              "      border-left-color: var(--fill-color);\n",
              "      border-top-color: var(--fill-color);\n",
              "    }\n",
              "    30% {\n",
              "      border-color: transparent;\n",
              "      border-left-color: var(--fill-color);\n",
              "      border-top-color: var(--fill-color);\n",
              "      border-right-color: var(--fill-color);\n",
              "    }\n",
              "    40% {\n",
              "      border-color: transparent;\n",
              "      border-right-color: var(--fill-color);\n",
              "      border-top-color: var(--fill-color);\n",
              "    }\n",
              "    60% {\n",
              "      border-color: transparent;\n",
              "      border-right-color: var(--fill-color);\n",
              "    }\n",
              "    80% {\n",
              "      border-color: transparent;\n",
              "      border-right-color: var(--fill-color);\n",
              "      border-bottom-color: var(--fill-color);\n",
              "    }\n",
              "    90% {\n",
              "      border-color: transparent;\n",
              "      border-bottom-color: var(--fill-color);\n",
              "    }\n",
              "  }\n",
              "</style>\n",
              "\n",
              "      <script>\n",
              "        async function quickchart(key) {\n",
              "          const quickchartButtonEl =\n",
              "            document.querySelector('#' + key + ' button');\n",
              "          quickchartButtonEl.disabled = true;  // To prevent multiple clicks.\n",
              "          quickchartButtonEl.classList.add('colab-df-spinner');\n",
              "          try {\n",
              "            const charts = await google.colab.kernel.invokeFunction(\n",
              "                'suggestCharts', [key], {});\n",
              "          } catch (error) {\n",
              "            console.error('Error during call to suggestCharts:', error);\n",
              "          }\n",
              "          quickchartButtonEl.classList.remove('colab-df-spinner');\n",
              "          quickchartButtonEl.classList.add('colab-df-quickchart-complete');\n",
              "        }\n",
              "        (() => {\n",
              "          let quickchartButtonEl =\n",
              "            document.querySelector('#df-34a8d416-b74a-4272-b1dd-e4444ee6c9c2 button');\n",
              "          quickchartButtonEl.style.display =\n",
              "            google.colab.kernel.accessAllowed ? 'block' : 'none';\n",
              "        })();\n",
              "      </script>\n",
              "    </div>\n",
              "\n",
              "  <div id=\"id_68dbfaee-d096-4190-80a6-9275cd2a26c8\">\n",
              "    <style>\n",
              "      .colab-df-generate {\n",
              "        background-color: #E8F0FE;\n",
              "        border: none;\n",
              "        border-radius: 50%;\n",
              "        cursor: pointer;\n",
              "        display: none;\n",
              "        fill: #1967D2;\n",
              "        height: 32px;\n",
              "        padding: 0 0 0 0;\n",
              "        width: 32px;\n",
              "      }\n",
              "\n",
              "      .colab-df-generate:hover {\n",
              "        background-color: #E2EBFA;\n",
              "        box-shadow: 0px 1px 2px rgba(60, 64, 67, 0.3), 0px 1px 3px 1px rgba(60, 64, 67, 0.15);\n",
              "        fill: #174EA6;\n",
              "      }\n",
              "\n",
              "      [theme=dark] .colab-df-generate {\n",
              "        background-color: #3B4455;\n",
              "        fill: #D2E3FC;\n",
              "      }\n",
              "\n",
              "      [theme=dark] .colab-df-generate:hover {\n",
              "        background-color: #434B5C;\n",
              "        box-shadow: 0px 1px 3px 1px rgba(0, 0, 0, 0.15);\n",
              "        filter: drop-shadow(0px 1px 2px rgba(0, 0, 0, 0.3));\n",
              "        fill: #FFFFFF;\n",
              "      }\n",
              "    </style>\n",
              "    <button class=\"colab-df-generate\" onclick=\"generateWithVariable('world_map')\"\n",
              "            title=\"Generate code using this dataframe.\"\n",
              "            style=\"display:none;\">\n",
              "\n",
              "  <svg xmlns=\"http://www.w3.org/2000/svg\" height=\"24px\"viewBox=\"0 0 24 24\"\n",
              "       width=\"24px\">\n",
              "    <path d=\"M7,19H8.4L18.45,9,17,7.55,7,17.6ZM5,21V16.75L18.45,3.32a2,2,0,0,1,2.83,0l1.4,1.43a1.91,1.91,0,0,1,.58,1.4,1.91,1.91,0,0,1-.58,1.4L9.25,21ZM18.45,9,17,7.55Zm-12,3A5.31,5.31,0,0,0,4.9,8.1,5.31,5.31,0,0,0,1,6.5,5.31,5.31,0,0,0,4.9,4.9,5.31,5.31,0,0,0,6.5,1,5.31,5.31,0,0,0,8.1,4.9,5.31,5.31,0,0,0,12,6.5,5.46,5.46,0,0,0,6.5,12Z\"/>\n",
              "  </svg>\n",
              "    </button>\n",
              "    <script>\n",
              "      (() => {\n",
              "      const buttonEl =\n",
              "        document.querySelector('#id_68dbfaee-d096-4190-80a6-9275cd2a26c8 button.colab-df-generate');\n",
              "      buttonEl.style.display =\n",
              "        google.colab.kernel.accessAllowed ? 'block' : 'none';\n",
              "\n",
              "      buttonEl.onclick = () => {\n",
              "        google.colab.notebook.generateWithVariable('world_map');\n",
              "      }\n",
              "      })();\n",
              "    </script>\n",
              "  </div>\n",
              "\n",
              "    </div>\n",
              "  </div>\n"
            ],
            "application/vnd.google.colaboratory.intrinsic+json": {
              "type": "dataframe",
              "variable_name": "world_map"
            }
          },
          "metadata": {},
          "execution_count": 85
        }
      ]
    },
    {
      "cell_type": "code",
      "source": [
        "paesi_mappa = set(world_map['ADMIN'])\n",
        "paesi_incidenti = set(incidenti_per_nazione['Paese'])\n",
        "\n",
        "differenza_mappa = paesi_incidenti - paesi_mappa\n",
        "print(differenza_mappa)"
      ],
      "metadata": {
        "colab": {
          "base_uri": "https://localhost:8080/"
        },
        "id": "-MDd_-fQ__Q9",
        "outputId": "5d0196f3-d162-4da2-e981-b73a4d8e2f28"
      },
      "execution_count": null,
      "outputs": [
        {
          "output_type": "stream",
          "name": "stdout",
          "text": [
            "{'Pacific Ocean', 'Atlantic Ocean', 'U.A.E.', 'St. Vincent', 'Cook Isl.', 'Saint Lucia', 'St. Kitts & Nevis', 'Hong Kong', 'Singapore', 'Trinidad & Tobago', 'Bosnia', 'Gibraltar', 'Maldives', 'P.N. Guinea', 'Saint BarthÃ©lemy', \"Caribbean Neth'lands\", 'Mauritius', \"Cote d'Ivoire\", 'USA', 'Unknown country', 'Bahrain', 'Falkland Isl.', 'B.V.I.', 'Reunion', 'Eswatini', 'Guam', 'Eq. Guinea', 'St.Pierre & Miquelon', 'Seychelles', 'Congo', 'Tuvalu', 'Malta', 'D.R. Congo', 'Monaco', 'Timor', 'Solomon Isl.', 'U.S. M.O. Islands', 'Martinique', 'French Polynesia', 'Anguilla', 'Dominica', 'Sint Maarten', 'Aruba', 'Macau', 'Marshall Isl.', 'U.K.', 'Serbia', 'Cocos Isl.', 'Kiribati', 'Montserrat', 'Cape Verde', 'Arctic Ocean', 'CuraÃ§ao', 'Cayman Isl.', 'Guadeloupe', 'Norfolk Island', 'U.S. Virgin Isl.', 'St. Helena', 'Czech Rep.', 'Antigua', '?', 'Indian Ocean', 'Northern Mariana Isl', 'Dominican Rep.', 'Barbados', 'Christmas Isl.', 'Comoros', 'Turks & Caicos', 'Tanzania', 'French Guiana', 'Mediterranean Sea', 'Bahamas', 'Sao Tome', 'Micronesia', 'Palau', 'American Samoa', 'C.A.R.', 'Samoa', 'Tonga', 'Bermuda'}\n"
          ]
        }
      ]
    },
    {
      "cell_type": "code",
      "source": [
        "differenza_incidenti = paesi_mappa - paesi_incidenti\n",
        "print(differenza_incidenti)"
      ],
      "metadata": {
        "colab": {
          "base_uri": "https://localhost:8080/"
        },
        "id": "9fcF6_GKBBlx",
        "outputId": "c0d3f601-378e-44f8-dced-93d5dd0c9e19"
      },
      "execution_count": null,
      "outputs": [
        {
          "output_type": "stream",
          "name": "stdout",
          "text": [
            "{'The Bahamas', 'French Southern and Antarctic Lands', 'Republic of Serbia', 'Falkland Islands', 'Czechia', 'United Republic of Tanzania', 'Dominican Republic', 'Palestine', 'United Arab Emirates', 'East Timor', 'Equatorial Guinea', 'Democratic Republic of the Congo', 'Solomon Islands', 'Papua New Guinea', 'Republic of the Congo', 'Central African Republic', 'Somaliland', 'Trinidad and Tobago', 'eSwatini', 'United Kingdom', 'Ivory Coast', 'United States of America', 'Brunei', 'Northern Cyprus', 'Bosnia and Herzegovina'}\n"
          ]
        }
      ]
    },
    {
      "cell_type": "code",
      "source": [
        "rename_countries = {\n",
        "    'P.N. Guinea' : 'Papua New Guinea',\n",
        "    'Eq. Guinea' : 'Equatorial Guinea',\n",
        "    'D.R. Congo' : 'Democratic Republic of the Congo',\n",
        "    'Solomon Isl.' : 'Solomon Islands',\n",
        "    'U.S. M.O. Islands' : 'United States of America',\n",
        "    'Congo' : 'Republic of the Congo',\n",
        "    'Eswatini' : 'eSwatini',\n",
        "    'Bosnia' : 'Bosnia and Herzegovina',\n",
        "    \"Cote d'Ivoire\" : \"Ivory Coast\",\n",
        "    'U.S. Virgi Isl.' : 'United States of America',\n",
        "    'USA' : 'United States of America',\n",
        "    'Tanzania' : 'United Republic of Tanzania',\n",
        "    'Bahamas' : 'The Bahamas',\n",
        "    'U.A.E.' : 'United Arab Emirates',\n",
        "    'Serbia' : 'Republic of Serbia',\n",
        "    'U.K.' : 'United Kingdom',\n",
        "    'Czech Rep.' : 'Czechia',\n",
        "    'Dominica' : 'Dominican Republic',\n",
        "    'Dominican Rep.' : 'Dominican Republic',\n",
        "    'Timor' : 'East Timor',\n",
        "}\n",
        "\n",
        "incidenti_per_nazione['Paese'] = incidenti_per_nazione['Paese'].replace(rename_countries)\n",
        "incidenti_per_nazione = incidenti_per_nazione.groupby('Paese', as_index=False).sum()"
      ],
      "metadata": {
        "id": "kyjx9GJ2CJKd"
      },
      "execution_count": null,
      "outputs": []
    },
    {
      "cell_type": "code",
      "source": [
        "paesi_mappa = set(world_map['ADMIN'])\n",
        "paesi_incidenti = set(incidenti_per_nazione['Paese'])\n",
        "\n",
        "differenza_mappa = paesi_incidenti - paesi_mappa\n",
        "print(differenza_mappa)"
      ],
      "metadata": {
        "colab": {
          "base_uri": "https://localhost:8080/"
        },
        "id": "UudrIQASGtQA",
        "outputId": "c59f47bb-cdeb-48cc-dad1-703227bee239"
      },
      "execution_count": null,
      "outputs": [
        {
          "output_type": "stream",
          "name": "stdout",
          "text": [
            "{'Antigua', 'Pacific Ocean', 'Atlantic Ocean', 'Unknown country', 'Bahrain', 'St. Vincent', '?', 'Martinique', 'Indian Ocean', 'Northern Mariana Isl', 'Falkland Isl.', 'Cook Isl.', 'B.V.I.', 'Reunion', 'French Polynesia', 'Saint Lucia', 'Barbados', 'St. Kitts & Nevis', 'Hong Kong', 'Guam', 'Christmas Isl.', 'St.Pierre & Miquelon', 'Anguilla', 'Sint Maarten', 'Singapore', 'Seychelles', 'Aruba', 'Trinidad & Tobago', 'Comoros', 'Macau', 'Marshall Isl.', 'Turks & Caicos', 'Gibraltar', 'French Guiana', 'Maldives', 'Cocos Isl.', 'Mediterranean Sea', 'Kiribati', 'Montserrat', 'Saint BarthÃ©lemy', 'Cape Verde', 'Sao Tome', 'Micronesia', 'Arctic Ocean', \"Caribbean Neth'lands\", 'Tuvalu', 'CuraÃ§ao', 'Palau', 'American Samoa', 'Cayman Isl.', 'C.A.R.', 'Mauritius', 'Samoa', 'Guadeloupe', 'Malta', 'Monaco', 'Tonga', 'Bermuda', 'Norfolk Island', 'U.S. Virgin Isl.', 'St. Helena'}\n"
          ]
        }
      ]
    },
    {
      "cell_type": "code",
      "source": [
        "differenza_incidenti = paesi_mappa - paesi_incidenti\n",
        "print(differenza_incidenti)"
      ],
      "metadata": {
        "colab": {
          "base_uri": "https://localhost:8080/"
        },
        "id": "ZZARhrPxG623",
        "outputId": "16339b58-0b0e-4cd1-d1eb-e64cb07ffb63"
      },
      "execution_count": null,
      "outputs": [
        {
          "output_type": "stream",
          "name": "stdout",
          "text": [
            "{'French Southern and Antarctic Lands', 'Central African Republic', 'Brunei', 'Somaliland', 'Trinidad and Tobago', 'Falkland Islands', 'Northern Cyprus', 'Palestine'}\n"
          ]
        }
      ]
    },
    {
      "cell_type": "code",
      "source": [
        "mappa_incidenti = world_map.merge(incidenti_per_nazione, left_on='ADMIN', right_on='Paese')\n",
        "mappa_incidenti"
      ],
      "metadata": {
        "colab": {
          "base_uri": "https://localhost:8080/",
          "height": 1000
        },
        "id": "XS_BZhHFIKjB",
        "outputId": "04136061-9da0-450e-9487-04a3c90ad36b"
      },
      "execution_count": null,
      "outputs": [
        {
          "output_type": "execute_result",
          "data": {
            "text/plain": [
              "          featurecla  scalerank  LABELRANK                   SOVEREIGNT  \\\n",
              "0    Admin-0 country          1          6                         Fiji   \n",
              "1    Admin-0 country          1          3  United Republic of Tanzania   \n",
              "2    Admin-0 country          1          7               Western Sahara   \n",
              "3    Admin-0 country          1          2                       Canada   \n",
              "4    Admin-0 country          1          2     United States of America   \n",
              "..               ...        ...        ...                          ...   \n",
              "164  Admin-0 country          1          6              North Macedonia   \n",
              "165  Admin-0 country          1          5           Republic of Serbia   \n",
              "166  Admin-0 country          1          6                   Montenegro   \n",
              "167  Admin-0 country          1          6                       Kosovo   \n",
              "168  Admin-0 country          1          3                  South Sudan   \n",
              "\n",
              "    SOV_A3  ADM0_DIF  LEVEL               TYPE TLC  \\\n",
              "0      FJI         0      2  Sovereign country   1   \n",
              "1      TZA         0      2  Sovereign country   1   \n",
              "2      SAH         0      2      Indeterminate   1   \n",
              "3      CAN         0      2  Sovereign country   1   \n",
              "4      US1         1      2            Country   1   \n",
              "..     ...       ...    ...                ...  ..   \n",
              "164    MKD         0      2  Sovereign country   1   \n",
              "165    SRB         0      2  Sovereign country   1   \n",
              "166    MNE         0      2  Sovereign country   1   \n",
              "167    KOS         0      2           Disputed   1   \n",
              "168    SDS         0      2  Sovereign country   1   \n",
              "\n",
              "                           ADMIN  ...        FCLASS_PL     FCLASS_GR  \\\n",
              "0                           Fiji  ...             None          None   \n",
              "1    United Republic of Tanzania  ...             None          None   \n",
              "2                 Western Sahara  ...     Unrecognized          None   \n",
              "3                         Canada  ...             None          None   \n",
              "4       United States of America  ...             None          None   \n",
              "..                           ...  ...              ...           ...   \n",
              "164              North Macedonia  ...             None          None   \n",
              "165           Republic of Serbia  ...             None          None   \n",
              "166                   Montenegro  ...             None          None   \n",
              "167                       Kosovo  ...  Admin-0 country  Unrecognized   \n",
              "168                  South Sudan  ...             None          None   \n",
              "\n",
              "           FCLASS_IT        FCLASS_NL        FCLASS_SE        FCLASS_BD  \\\n",
              "0               None             None             None             None   \n",
              "1               None             None             None             None   \n",
              "2               None     Unrecognized             None             None   \n",
              "3               None             None             None             None   \n",
              "4               None             None             None             None   \n",
              "..               ...              ...              ...              ...   \n",
              "164             None             None             None             None   \n",
              "165             None             None             None             None   \n",
              "166             None             None             None             None   \n",
              "167  Admin-0 country  Admin-0 country  Admin-0 country  Admin-0 country   \n",
              "168             None             None             None             None   \n",
              "\n",
              "        FCLASS_UA                                           geometry  \\\n",
              "0            None  MULTIPOLYGON (((180 -16.06713, 180 -16.55522, ...   \n",
              "1            None  POLYGON ((33.90371 -0.95, 34.07262 -1.05982, 3...   \n",
              "2            None  POLYGON ((-8.66559 27.65643, -8.66512 27.58948...   \n",
              "3            None  MULTIPOLYGON (((-122.84 49, -122.97421 49.0025...   \n",
              "4            None  MULTIPOLYGON (((-122.84 49, -120 49, -117.0312...   \n",
              "..            ...                                                ...   \n",
              "164          None  POLYGON ((22.38053 42.32026, 22.88137 41.9993,...   \n",
              "165          None  POLYGON ((18.82982 45.90887, 18.82984 45.90888...   \n",
              "166          None  POLYGON ((20.0707 42.58863, 19.80161 42.50009,...   \n",
              "167  Unrecognized  POLYGON ((20.59025 41.85541, 20.52295 42.21787...   \n",
              "168          None  POLYGON ((30.83385 3.50917, 29.9535 4.1737, 29...   \n",
              "\n",
              "                           Paese Incidenti  \n",
              "0                           Fiji        19  \n",
              "1    United Republic of Tanzania        52  \n",
              "2                 Western Sahara         6  \n",
              "3                         Canada       826  \n",
              "4       United States of America      4389  \n",
              "..                           ...       ...  \n",
              "164              North Macedonia        10  \n",
              "165           Republic of Serbia        25  \n",
              "166                   Montenegro         5  \n",
              "167                       Kosovo         1  \n",
              "168                  South Sudan        92  \n",
              "\n",
              "[169 rows x 171 columns]"
            ],
            "text/html": [
              "\n",
              "  <div id=\"df-7c470fd9-6a75-4fd5-8605-d2d96c2e9bbd\" class=\"colab-df-container\">\n",
              "    <div>\n",
              "<style scoped>\n",
              "    .dataframe tbody tr th:only-of-type {\n",
              "        vertical-align: middle;\n",
              "    }\n",
              "\n",
              "    .dataframe tbody tr th {\n",
              "        vertical-align: top;\n",
              "    }\n",
              "\n",
              "    .dataframe thead th {\n",
              "        text-align: right;\n",
              "    }\n",
              "</style>\n",
              "<table border=\"1\" class=\"dataframe\">\n",
              "  <thead>\n",
              "    <tr style=\"text-align: right;\">\n",
              "      <th></th>\n",
              "      <th>featurecla</th>\n",
              "      <th>scalerank</th>\n",
              "      <th>LABELRANK</th>\n",
              "      <th>SOVEREIGNT</th>\n",
              "      <th>SOV_A3</th>\n",
              "      <th>ADM0_DIF</th>\n",
              "      <th>LEVEL</th>\n",
              "      <th>TYPE</th>\n",
              "      <th>TLC</th>\n",
              "      <th>ADMIN</th>\n",
              "      <th>...</th>\n",
              "      <th>FCLASS_PL</th>\n",
              "      <th>FCLASS_GR</th>\n",
              "      <th>FCLASS_IT</th>\n",
              "      <th>FCLASS_NL</th>\n",
              "      <th>FCLASS_SE</th>\n",
              "      <th>FCLASS_BD</th>\n",
              "      <th>FCLASS_UA</th>\n",
              "      <th>geometry</th>\n",
              "      <th>Paese</th>\n",
              "      <th>Incidenti</th>\n",
              "    </tr>\n",
              "  </thead>\n",
              "  <tbody>\n",
              "    <tr>\n",
              "      <th>0</th>\n",
              "      <td>Admin-0 country</td>\n",
              "      <td>1</td>\n",
              "      <td>6</td>\n",
              "      <td>Fiji</td>\n",
              "      <td>FJI</td>\n",
              "      <td>0</td>\n",
              "      <td>2</td>\n",
              "      <td>Sovereign country</td>\n",
              "      <td>1</td>\n",
              "      <td>Fiji</td>\n",
              "      <td>...</td>\n",
              "      <td>None</td>\n",
              "      <td>None</td>\n",
              "      <td>None</td>\n",
              "      <td>None</td>\n",
              "      <td>None</td>\n",
              "      <td>None</td>\n",
              "      <td>None</td>\n",
              "      <td>MULTIPOLYGON (((180 -16.06713, 180 -16.55522, ...</td>\n",
              "      <td>Fiji</td>\n",
              "      <td>19</td>\n",
              "    </tr>\n",
              "    <tr>\n",
              "      <th>1</th>\n",
              "      <td>Admin-0 country</td>\n",
              "      <td>1</td>\n",
              "      <td>3</td>\n",
              "      <td>United Republic of Tanzania</td>\n",
              "      <td>TZA</td>\n",
              "      <td>0</td>\n",
              "      <td>2</td>\n",
              "      <td>Sovereign country</td>\n",
              "      <td>1</td>\n",
              "      <td>United Republic of Tanzania</td>\n",
              "      <td>...</td>\n",
              "      <td>None</td>\n",
              "      <td>None</td>\n",
              "      <td>None</td>\n",
              "      <td>None</td>\n",
              "      <td>None</td>\n",
              "      <td>None</td>\n",
              "      <td>None</td>\n",
              "      <td>POLYGON ((33.90371 -0.95, 34.07262 -1.05982, 3...</td>\n",
              "      <td>United Republic of Tanzania</td>\n",
              "      <td>52</td>\n",
              "    </tr>\n",
              "    <tr>\n",
              "      <th>2</th>\n",
              "      <td>Admin-0 country</td>\n",
              "      <td>1</td>\n",
              "      <td>7</td>\n",
              "      <td>Western Sahara</td>\n",
              "      <td>SAH</td>\n",
              "      <td>0</td>\n",
              "      <td>2</td>\n",
              "      <td>Indeterminate</td>\n",
              "      <td>1</td>\n",
              "      <td>Western Sahara</td>\n",
              "      <td>...</td>\n",
              "      <td>Unrecognized</td>\n",
              "      <td>None</td>\n",
              "      <td>None</td>\n",
              "      <td>Unrecognized</td>\n",
              "      <td>None</td>\n",
              "      <td>None</td>\n",
              "      <td>None</td>\n",
              "      <td>POLYGON ((-8.66559 27.65643, -8.66512 27.58948...</td>\n",
              "      <td>Western Sahara</td>\n",
              "      <td>6</td>\n",
              "    </tr>\n",
              "    <tr>\n",
              "      <th>3</th>\n",
              "      <td>Admin-0 country</td>\n",
              "      <td>1</td>\n",
              "      <td>2</td>\n",
              "      <td>Canada</td>\n",
              "      <td>CAN</td>\n",
              "      <td>0</td>\n",
              "      <td>2</td>\n",
              "      <td>Sovereign country</td>\n",
              "      <td>1</td>\n",
              "      <td>Canada</td>\n",
              "      <td>...</td>\n",
              "      <td>None</td>\n",
              "      <td>None</td>\n",
              "      <td>None</td>\n",
              "      <td>None</td>\n",
              "      <td>None</td>\n",
              "      <td>None</td>\n",
              "      <td>None</td>\n",
              "      <td>MULTIPOLYGON (((-122.84 49, -122.97421 49.0025...</td>\n",
              "      <td>Canada</td>\n",
              "      <td>826</td>\n",
              "    </tr>\n",
              "    <tr>\n",
              "      <th>4</th>\n",
              "      <td>Admin-0 country</td>\n",
              "      <td>1</td>\n",
              "      <td>2</td>\n",
              "      <td>United States of America</td>\n",
              "      <td>US1</td>\n",
              "      <td>1</td>\n",
              "      <td>2</td>\n",
              "      <td>Country</td>\n",
              "      <td>1</td>\n",
              "      <td>United States of America</td>\n",
              "      <td>...</td>\n",
              "      <td>None</td>\n",
              "      <td>None</td>\n",
              "      <td>None</td>\n",
              "      <td>None</td>\n",
              "      <td>None</td>\n",
              "      <td>None</td>\n",
              "      <td>None</td>\n",
              "      <td>MULTIPOLYGON (((-122.84 49, -120 49, -117.0312...</td>\n",
              "      <td>United States of America</td>\n",
              "      <td>4389</td>\n",
              "    </tr>\n",
              "    <tr>\n",
              "      <th>...</th>\n",
              "      <td>...</td>\n",
              "      <td>...</td>\n",
              "      <td>...</td>\n",
              "      <td>...</td>\n",
              "      <td>...</td>\n",
              "      <td>...</td>\n",
              "      <td>...</td>\n",
              "      <td>...</td>\n",
              "      <td>...</td>\n",
              "      <td>...</td>\n",
              "      <td>...</td>\n",
              "      <td>...</td>\n",
              "      <td>...</td>\n",
              "      <td>...</td>\n",
              "      <td>...</td>\n",
              "      <td>...</td>\n",
              "      <td>...</td>\n",
              "      <td>...</td>\n",
              "      <td>...</td>\n",
              "      <td>...</td>\n",
              "      <td>...</td>\n",
              "    </tr>\n",
              "    <tr>\n",
              "      <th>164</th>\n",
              "      <td>Admin-0 country</td>\n",
              "      <td>1</td>\n",
              "      <td>6</td>\n",
              "      <td>North Macedonia</td>\n",
              "      <td>MKD</td>\n",
              "      <td>0</td>\n",
              "      <td>2</td>\n",
              "      <td>Sovereign country</td>\n",
              "      <td>1</td>\n",
              "      <td>North Macedonia</td>\n",
              "      <td>...</td>\n",
              "      <td>None</td>\n",
              "      <td>None</td>\n",
              "      <td>None</td>\n",
              "      <td>None</td>\n",
              "      <td>None</td>\n",
              "      <td>None</td>\n",
              "      <td>None</td>\n",
              "      <td>POLYGON ((22.38053 42.32026, 22.88137 41.9993,...</td>\n",
              "      <td>North Macedonia</td>\n",
              "      <td>10</td>\n",
              "    </tr>\n",
              "    <tr>\n",
              "      <th>165</th>\n",
              "      <td>Admin-0 country</td>\n",
              "      <td>1</td>\n",
              "      <td>5</td>\n",
              "      <td>Republic of Serbia</td>\n",
              "      <td>SRB</td>\n",
              "      <td>0</td>\n",
              "      <td>2</td>\n",
              "      <td>Sovereign country</td>\n",
              "      <td>1</td>\n",
              "      <td>Republic of Serbia</td>\n",
              "      <td>...</td>\n",
              "      <td>None</td>\n",
              "      <td>None</td>\n",
              "      <td>None</td>\n",
              "      <td>None</td>\n",
              "      <td>None</td>\n",
              "      <td>None</td>\n",
              "      <td>None</td>\n",
              "      <td>POLYGON ((18.82982 45.90887, 18.82984 45.90888...</td>\n",
              "      <td>Republic of Serbia</td>\n",
              "      <td>25</td>\n",
              "    </tr>\n",
              "    <tr>\n",
              "      <th>166</th>\n",
              "      <td>Admin-0 country</td>\n",
              "      <td>1</td>\n",
              "      <td>6</td>\n",
              "      <td>Montenegro</td>\n",
              "      <td>MNE</td>\n",
              "      <td>0</td>\n",
              "      <td>2</td>\n",
              "      <td>Sovereign country</td>\n",
              "      <td>1</td>\n",
              "      <td>Montenegro</td>\n",
              "      <td>...</td>\n",
              "      <td>None</td>\n",
              "      <td>None</td>\n",
              "      <td>None</td>\n",
              "      <td>None</td>\n",
              "      <td>None</td>\n",
              "      <td>None</td>\n",
              "      <td>None</td>\n",
              "      <td>POLYGON ((20.0707 42.58863, 19.80161 42.50009,...</td>\n",
              "      <td>Montenegro</td>\n",
              "      <td>5</td>\n",
              "    </tr>\n",
              "    <tr>\n",
              "      <th>167</th>\n",
              "      <td>Admin-0 country</td>\n",
              "      <td>1</td>\n",
              "      <td>6</td>\n",
              "      <td>Kosovo</td>\n",
              "      <td>KOS</td>\n",
              "      <td>0</td>\n",
              "      <td>2</td>\n",
              "      <td>Disputed</td>\n",
              "      <td>1</td>\n",
              "      <td>Kosovo</td>\n",
              "      <td>...</td>\n",
              "      <td>Admin-0 country</td>\n",
              "      <td>Unrecognized</td>\n",
              "      <td>Admin-0 country</td>\n",
              "      <td>Admin-0 country</td>\n",
              "      <td>Admin-0 country</td>\n",
              "      <td>Admin-0 country</td>\n",
              "      <td>Unrecognized</td>\n",
              "      <td>POLYGON ((20.59025 41.85541, 20.52295 42.21787...</td>\n",
              "      <td>Kosovo</td>\n",
              "      <td>1</td>\n",
              "    </tr>\n",
              "    <tr>\n",
              "      <th>168</th>\n",
              "      <td>Admin-0 country</td>\n",
              "      <td>1</td>\n",
              "      <td>3</td>\n",
              "      <td>South Sudan</td>\n",
              "      <td>SDS</td>\n",
              "      <td>0</td>\n",
              "      <td>2</td>\n",
              "      <td>Sovereign country</td>\n",
              "      <td>1</td>\n",
              "      <td>South Sudan</td>\n",
              "      <td>...</td>\n",
              "      <td>None</td>\n",
              "      <td>None</td>\n",
              "      <td>None</td>\n",
              "      <td>None</td>\n",
              "      <td>None</td>\n",
              "      <td>None</td>\n",
              "      <td>None</td>\n",
              "      <td>POLYGON ((30.83385 3.50917, 29.9535 4.1737, 29...</td>\n",
              "      <td>South Sudan</td>\n",
              "      <td>92</td>\n",
              "    </tr>\n",
              "  </tbody>\n",
              "</table>\n",
              "<p>169 rows × 171 columns</p>\n",
              "</div>\n",
              "    <div class=\"colab-df-buttons\">\n",
              "\n",
              "  <div class=\"colab-df-container\">\n",
              "    <button class=\"colab-df-convert\" onclick=\"convertToInteractive('df-7c470fd9-6a75-4fd5-8605-d2d96c2e9bbd')\"\n",
              "            title=\"Convert this dataframe to an interactive table.\"\n",
              "            style=\"display:none;\">\n",
              "\n",
              "  <svg xmlns=\"http://www.w3.org/2000/svg\" height=\"24px\" viewBox=\"0 -960 960 960\">\n",
              "    <path d=\"M120-120v-720h720v720H120Zm60-500h600v-160H180v160Zm220 220h160v-160H400v160Zm0 220h160v-160H400v160ZM180-400h160v-160H180v160Zm440 0h160v-160H620v160ZM180-180h160v-160H180v160Zm440 0h160v-160H620v160Z\"/>\n",
              "  </svg>\n",
              "    </button>\n",
              "\n",
              "  <style>\n",
              "    .colab-df-container {\n",
              "      display:flex;\n",
              "      gap: 12px;\n",
              "    }\n",
              "\n",
              "    .colab-df-convert {\n",
              "      background-color: #E8F0FE;\n",
              "      border: none;\n",
              "      border-radius: 50%;\n",
              "      cursor: pointer;\n",
              "      display: none;\n",
              "      fill: #1967D2;\n",
              "      height: 32px;\n",
              "      padding: 0 0 0 0;\n",
              "      width: 32px;\n",
              "    }\n",
              "\n",
              "    .colab-df-convert:hover {\n",
              "      background-color: #E2EBFA;\n",
              "      box-shadow: 0px 1px 2px rgba(60, 64, 67, 0.3), 0px 1px 3px 1px rgba(60, 64, 67, 0.15);\n",
              "      fill: #174EA6;\n",
              "    }\n",
              "\n",
              "    .colab-df-buttons div {\n",
              "      margin-bottom: 4px;\n",
              "    }\n",
              "\n",
              "    [theme=dark] .colab-df-convert {\n",
              "      background-color: #3B4455;\n",
              "      fill: #D2E3FC;\n",
              "    }\n",
              "\n",
              "    [theme=dark] .colab-df-convert:hover {\n",
              "      background-color: #434B5C;\n",
              "      box-shadow: 0px 1px 3px 1px rgba(0, 0, 0, 0.15);\n",
              "      filter: drop-shadow(0px 1px 2px rgba(0, 0, 0, 0.3));\n",
              "      fill: #FFFFFF;\n",
              "    }\n",
              "  </style>\n",
              "\n",
              "    <script>\n",
              "      const buttonEl =\n",
              "        document.querySelector('#df-7c470fd9-6a75-4fd5-8605-d2d96c2e9bbd button.colab-df-convert');\n",
              "      buttonEl.style.display =\n",
              "        google.colab.kernel.accessAllowed ? 'block' : 'none';\n",
              "\n",
              "      async function convertToInteractive(key) {\n",
              "        const element = document.querySelector('#df-7c470fd9-6a75-4fd5-8605-d2d96c2e9bbd');\n",
              "        const dataTable =\n",
              "          await google.colab.kernel.invokeFunction('convertToInteractive',\n",
              "                                                    [key], {});\n",
              "        if (!dataTable) return;\n",
              "\n",
              "        const docLinkHtml = 'Like what you see? Visit the ' +\n",
              "          '<a target=\"_blank\" href=https://colab.research.google.com/notebooks/data_table.ipynb>data table notebook</a>'\n",
              "          + ' to learn more about interactive tables.';\n",
              "        element.innerHTML = '';\n",
              "        dataTable['output_type'] = 'display_data';\n",
              "        await google.colab.output.renderOutput(dataTable, element);\n",
              "        const docLink = document.createElement('div');\n",
              "        docLink.innerHTML = docLinkHtml;\n",
              "        element.appendChild(docLink);\n",
              "      }\n",
              "    </script>\n",
              "  </div>\n",
              "\n",
              "\n",
              "    <div id=\"df-0cfb0244-645b-4e6f-a39e-982451b00275\">\n",
              "      <button class=\"colab-df-quickchart\" onclick=\"quickchart('df-0cfb0244-645b-4e6f-a39e-982451b00275')\"\n",
              "                title=\"Suggest charts\"\n",
              "                style=\"display:none;\">\n",
              "\n",
              "<svg xmlns=\"http://www.w3.org/2000/svg\" height=\"24px\"viewBox=\"0 0 24 24\"\n",
              "     width=\"24px\">\n",
              "    <g>\n",
              "        <path d=\"M19 3H5c-1.1 0-2 .9-2 2v14c0 1.1.9 2 2 2h14c1.1 0 2-.9 2-2V5c0-1.1-.9-2-2-2zM9 17H7v-7h2v7zm4 0h-2V7h2v10zm4 0h-2v-4h2v4z\"/>\n",
              "    </g>\n",
              "</svg>\n",
              "      </button>\n",
              "\n",
              "<style>\n",
              "  .colab-df-quickchart {\n",
              "      --bg-color: #E8F0FE;\n",
              "      --fill-color: #1967D2;\n",
              "      --hover-bg-color: #E2EBFA;\n",
              "      --hover-fill-color: #174EA6;\n",
              "      --disabled-fill-color: #AAA;\n",
              "      --disabled-bg-color: #DDD;\n",
              "  }\n",
              "\n",
              "  [theme=dark] .colab-df-quickchart {\n",
              "      --bg-color: #3B4455;\n",
              "      --fill-color: #D2E3FC;\n",
              "      --hover-bg-color: #434B5C;\n",
              "      --hover-fill-color: #FFFFFF;\n",
              "      --disabled-bg-color: #3B4455;\n",
              "      --disabled-fill-color: #666;\n",
              "  }\n",
              "\n",
              "  .colab-df-quickchart {\n",
              "    background-color: var(--bg-color);\n",
              "    border: none;\n",
              "    border-radius: 50%;\n",
              "    cursor: pointer;\n",
              "    display: none;\n",
              "    fill: var(--fill-color);\n",
              "    height: 32px;\n",
              "    padding: 0;\n",
              "    width: 32px;\n",
              "  }\n",
              "\n",
              "  .colab-df-quickchart:hover {\n",
              "    background-color: var(--hover-bg-color);\n",
              "    box-shadow: 0 1px 2px rgba(60, 64, 67, 0.3), 0 1px 3px 1px rgba(60, 64, 67, 0.15);\n",
              "    fill: var(--button-hover-fill-color);\n",
              "  }\n",
              "\n",
              "  .colab-df-quickchart-complete:disabled,\n",
              "  .colab-df-quickchart-complete:disabled:hover {\n",
              "    background-color: var(--disabled-bg-color);\n",
              "    fill: var(--disabled-fill-color);\n",
              "    box-shadow: none;\n",
              "  }\n",
              "\n",
              "  .colab-df-spinner {\n",
              "    border: 2px solid var(--fill-color);\n",
              "    border-color: transparent;\n",
              "    border-bottom-color: var(--fill-color);\n",
              "    animation:\n",
              "      spin 1s steps(1) infinite;\n",
              "  }\n",
              "\n",
              "  @keyframes spin {\n",
              "    0% {\n",
              "      border-color: transparent;\n",
              "      border-bottom-color: var(--fill-color);\n",
              "      border-left-color: var(--fill-color);\n",
              "    }\n",
              "    20% {\n",
              "      border-color: transparent;\n",
              "      border-left-color: var(--fill-color);\n",
              "      border-top-color: var(--fill-color);\n",
              "    }\n",
              "    30% {\n",
              "      border-color: transparent;\n",
              "      border-left-color: var(--fill-color);\n",
              "      border-top-color: var(--fill-color);\n",
              "      border-right-color: var(--fill-color);\n",
              "    }\n",
              "    40% {\n",
              "      border-color: transparent;\n",
              "      border-right-color: var(--fill-color);\n",
              "      border-top-color: var(--fill-color);\n",
              "    }\n",
              "    60% {\n",
              "      border-color: transparent;\n",
              "      border-right-color: var(--fill-color);\n",
              "    }\n",
              "    80% {\n",
              "      border-color: transparent;\n",
              "      border-right-color: var(--fill-color);\n",
              "      border-bottom-color: var(--fill-color);\n",
              "    }\n",
              "    90% {\n",
              "      border-color: transparent;\n",
              "      border-bottom-color: var(--fill-color);\n",
              "    }\n",
              "  }\n",
              "</style>\n",
              "\n",
              "      <script>\n",
              "        async function quickchart(key) {\n",
              "          const quickchartButtonEl =\n",
              "            document.querySelector('#' + key + ' button');\n",
              "          quickchartButtonEl.disabled = true;  // To prevent multiple clicks.\n",
              "          quickchartButtonEl.classList.add('colab-df-spinner');\n",
              "          try {\n",
              "            const charts = await google.colab.kernel.invokeFunction(\n",
              "                'suggestCharts', [key], {});\n",
              "          } catch (error) {\n",
              "            console.error('Error during call to suggestCharts:', error);\n",
              "          }\n",
              "          quickchartButtonEl.classList.remove('colab-df-spinner');\n",
              "          quickchartButtonEl.classList.add('colab-df-quickchart-complete');\n",
              "        }\n",
              "        (() => {\n",
              "          let quickchartButtonEl =\n",
              "            document.querySelector('#df-0cfb0244-645b-4e6f-a39e-982451b00275 button');\n",
              "          quickchartButtonEl.style.display =\n",
              "            google.colab.kernel.accessAllowed ? 'block' : 'none';\n",
              "        })();\n",
              "      </script>\n",
              "    </div>\n",
              "\n",
              "  <div id=\"id_3c9a49b9-c741-4856-9649-96e888586622\">\n",
              "    <style>\n",
              "      .colab-df-generate {\n",
              "        background-color: #E8F0FE;\n",
              "        border: none;\n",
              "        border-radius: 50%;\n",
              "        cursor: pointer;\n",
              "        display: none;\n",
              "        fill: #1967D2;\n",
              "        height: 32px;\n",
              "        padding: 0 0 0 0;\n",
              "        width: 32px;\n",
              "      }\n",
              "\n",
              "      .colab-df-generate:hover {\n",
              "        background-color: #E2EBFA;\n",
              "        box-shadow: 0px 1px 2px rgba(60, 64, 67, 0.3), 0px 1px 3px 1px rgba(60, 64, 67, 0.15);\n",
              "        fill: #174EA6;\n",
              "      }\n",
              "\n",
              "      [theme=dark] .colab-df-generate {\n",
              "        background-color: #3B4455;\n",
              "        fill: #D2E3FC;\n",
              "      }\n",
              "\n",
              "      [theme=dark] .colab-df-generate:hover {\n",
              "        background-color: #434B5C;\n",
              "        box-shadow: 0px 1px 3px 1px rgba(0, 0, 0, 0.15);\n",
              "        filter: drop-shadow(0px 1px 2px rgba(0, 0, 0, 0.3));\n",
              "        fill: #FFFFFF;\n",
              "      }\n",
              "    </style>\n",
              "    <button class=\"colab-df-generate\" onclick=\"generateWithVariable('mappa_incidenti')\"\n",
              "            title=\"Generate code using this dataframe.\"\n",
              "            style=\"display:none;\">\n",
              "\n",
              "  <svg xmlns=\"http://www.w3.org/2000/svg\" height=\"24px\"viewBox=\"0 0 24 24\"\n",
              "       width=\"24px\">\n",
              "    <path d=\"M7,19H8.4L18.45,9,17,7.55,7,17.6ZM5,21V16.75L18.45,3.32a2,2,0,0,1,2.83,0l1.4,1.43a1.91,1.91,0,0,1,.58,1.4,1.91,1.91,0,0,1-.58,1.4L9.25,21ZM18.45,9,17,7.55Zm-12,3A5.31,5.31,0,0,0,4.9,8.1,5.31,5.31,0,0,0,1,6.5,5.31,5.31,0,0,0,4.9,4.9,5.31,5.31,0,0,0,6.5,1,5.31,5.31,0,0,0,8.1,4.9,5.31,5.31,0,0,0,12,6.5,5.46,5.46,0,0,0,6.5,12Z\"/>\n",
              "  </svg>\n",
              "    </button>\n",
              "    <script>\n",
              "      (() => {\n",
              "      const buttonEl =\n",
              "        document.querySelector('#id_3c9a49b9-c741-4856-9649-96e888586622 button.colab-df-generate');\n",
              "      buttonEl.style.display =\n",
              "        google.colab.kernel.accessAllowed ? 'block' : 'none';\n",
              "\n",
              "      buttonEl.onclick = () => {\n",
              "        google.colab.notebook.generateWithVariable('mappa_incidenti');\n",
              "      }\n",
              "      })();\n",
              "    </script>\n",
              "  </div>\n",
              "\n",
              "    </div>\n",
              "  </div>\n"
            ],
            "application/vnd.google.colaboratory.intrinsic+json": {
              "type": "dataframe",
              "variable_name": "mappa_incidenti"
            }
          },
          "metadata": {},
          "execution_count": 133
        }
      ]
    },
    {
      "cell_type": "code",
      "source": [
        "fig, ax = plt.subplots(figsize=(14,7))\n",
        "mappa_incidenti.plot(column='Incidenti', cmap='Reds', legend=True, ax=ax)\n",
        "plt.title('Incidenti per nazione')\n",
        "plt.axis('off')\n",
        "plt.show()"
      ],
      "metadata": {
        "colab": {
          "base_uri": "https://localhost:8080/",
          "height": 576
        },
        "id": "_Aheml6e7cTG",
        "outputId": "b2a91112-cd79-477c-d1af-f9b37737d181"
      },
      "execution_count": null,
      "outputs": [
        {
          "output_type": "display_data",
          "data": {
            "text/plain": [
              "<Figure size 1400x700 with 2 Axes>"
            ],
            "image/png": "[encoded data removed]"
          },
          "metadata": {}
        }
      ]
    }
  ]
}

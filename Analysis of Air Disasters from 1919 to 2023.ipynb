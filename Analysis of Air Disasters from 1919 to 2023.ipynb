{
  "nbformat": 4,
  "nbformat_minor": 0,
  "metadata": {
    "colab": {
      "provenance": [],
      "authorship_tag": "ABX9TyMDMD3Lt3uKPam7al/5mlzJ"
    },
    "kernelspec": {
      "name": "python3",
      "display_name": "Python 3"
    },
    "language_info": {
      "name": "python"
    }
  },
  "cells": [
    {
      "cell_type": "markdown",
      "source": [
        "#Analysis of Air Disasters from 1919 to 2023"
      ],
      "metadata": {
        "id": "7s4M_FMHfqSv"
      }
    },
    {
      "cell_type": "markdown",
      "source": [
        "The newly formed IASS (International Alliance for Safe Skies) has tasked you with conducting a thorough analysis of all aviation accidents that occurred between 1919 and 2023. To this end, they have provided a dataset containing nearly 25,000 incidents, with the following information:\n",
        "\n",
        "* date: date of the incident\n",
        "\n",
        "* type: aircraft type\n",
        "\n",
        "* registration: aircraft registration code\n",
        "\n",
        "* operator: aircraft operator\n",
        "\n",
        "* fatalities: number of fatalities\n",
        "\n",
        "* location: location of the incident\n",
        "\n",
        "* country: country where the incident occurred\n",
        "\n",
        "* cat: incident category as described by ASN\n",
        "\n",
        "Use the data to uncover useful insights, including through charts and visualizations.\n",
        "\n",
        "Example Insights:\n",
        "\n",
        "* In which country did the most incidents occur?\n",
        "\n",
        "* Do incidents happen more frequently on certain days of the week?\n",
        "\n",
        "* Which operators are the safest?\n",
        "\n",
        "* Which aircraft type has caused the most fatalities?\n",
        "\n",
        "* How did incidents evolve after September 11?\n",
        "\n",
        "Bonus:\n",
        "\n",
        "Create a cartogram that shows the number of incidents per country."
      ],
      "metadata": {
        "id": "gDRW529biiUu"
      }
    },
    {
      "cell_type": "code",
      "source": [
        "import pandas as pd\n",
        "import numpy as np\n",
        "import matplotlib.pyplot as plt"
      ],
      "metadata": {
        "id": "dZLAn0Zhj7dC"
      },
      "execution_count": 4,
      "outputs": []
    },
    {
      "cell_type": "code",
      "source": [
        "url = 'https://proai-datasets.s3.eu-west-3.amazonaws.com/aviation-accidents.csv'\n",
        "dataset = pd.read_csv(url)\n",
        "dataset.head()"
      ],
      "metadata": {
        "colab": {
          "base_uri": "https://localhost:8080/",
          "height": 206
        },
        "id": "g1xCYA3mf93B",
        "outputId": "cef525bf-e0d0-4721-ab13-d1f2899f3d38"
      },
      "execution_count": 5,
      "outputs": [
        {
          "output_type": "execute_result",
          "data": {
            "text/plain": [
              "        date             type registration       operator fatalities  \\\n",
              "0  date unk.   Antonov An-12B       T-1206  Indonesian AF        NaN   \n",
              "1  date unk.   Antonov An-12B       T-1204  Indonesian AF        NaN   \n",
              "2  date unk.   Antonov An-12B       T-1201  Indonesian AF        NaN   \n",
              "3  date unk.  Antonov An-12BK          NaN      Soviet AF        NaN   \n",
              "4  date unk.  Antonov An-12BP   CCCP-11815      Soviet AF          0   \n",
              "\n",
              "              location          country cat     year  \n",
              "0                  NaN  Unknown country  U1  unknown  \n",
              "1                  NaN  Unknown country  U1  unknown  \n",
              "2                  NaN  Unknown country  U1  unknown  \n",
              "3  Tiksi Airport (IKS)           Russia  A1  unknown  \n",
              "4  Massawa Airport ...          Eritrea  A1  unknown  "
            ],
            "text/html": [
              "\n",
              "  <div id=\"df-a662c406-1aa0-4dff-863a-d78a6e9009d8\" class=\"colab-df-container\">\n",
              "    <div>\n",
              "<style scoped>\n",
              "    .dataframe tbody tr th:only-of-type {\n",
              "        vertical-align: middle;\n",
              "    }\n",
              "\n",
              "    .dataframe tbody tr th {\n",
              "        vertical-align: top;\n",
              "    }\n",
              "\n",
              "    .dataframe thead th {\n",
              "        text-align: right;\n",
              "    }\n",
              "</style>\n",
              "<table border=\"1\" class=\"dataframe\">\n",
              "  <thead>\n",
              "    <tr style=\"text-align: right;\">\n",
              "      <th></th>\n",
              "      <th>date</th>\n",
              "      <th>type</th>\n",
              "      <th>registration</th>\n",
              "      <th>operator</th>\n",
              "      <th>fatalities</th>\n",
              "      <th>location</th>\n",
              "      <th>country</th>\n",
              "      <th>cat</th>\n",
              "      <th>year</th>\n",
              "    </tr>\n",
              "  </thead>\n",
              "  <tbody>\n",
              "    <tr>\n",
              "      <th>0</th>\n",
              "      <td>date unk.</td>\n",
              "      <td>Antonov An-12B</td>\n",
              "      <td>T-1206</td>\n",
              "      <td>Indonesian AF</td>\n",
              "      <td>NaN</td>\n",
              "      <td>NaN</td>\n",
              "      <td>Unknown country</td>\n",
              "      <td>U1</td>\n",
              "      <td>unknown</td>\n",
              "    </tr>\n",
              "    <tr>\n",
              "      <th>1</th>\n",
              "      <td>date unk.</td>\n",
              "      <td>Antonov An-12B</td>\n",
              "      <td>T-1204</td>\n",
              "      <td>Indonesian AF</td>\n",
              "      <td>NaN</td>\n",
              "      <td>NaN</td>\n",
              "      <td>Unknown country</td>\n",
              "      <td>U1</td>\n",
              "      <td>unknown</td>\n",
              "    </tr>\n",
              "    <tr>\n",
              "      <th>2</th>\n",
              "      <td>date unk.</td>\n",
              "      <td>Antonov An-12B</td>\n",
              "      <td>T-1201</td>\n",
              "      <td>Indonesian AF</td>\n",
              "      <td>NaN</td>\n",
              "      <td>NaN</td>\n",
              "      <td>Unknown country</td>\n",
              "      <td>U1</td>\n",
              "      <td>unknown</td>\n",
              "    </tr>\n",
              "    <tr>\n",
              "      <th>3</th>\n",
              "      <td>date unk.</td>\n",
              "      <td>Antonov An-12BK</td>\n",
              "      <td>NaN</td>\n",
              "      <td>Soviet AF</td>\n",
              "      <td>NaN</td>\n",
              "      <td>Tiksi Airport (IKS)</td>\n",
              "      <td>Russia</td>\n",
              "      <td>A1</td>\n",
              "      <td>unknown</td>\n",
              "    </tr>\n",
              "    <tr>\n",
              "      <th>4</th>\n",
              "      <td>date unk.</td>\n",
              "      <td>Antonov An-12BP</td>\n",
              "      <td>CCCP-11815</td>\n",
              "      <td>Soviet AF</td>\n",
              "      <td>0</td>\n",
              "      <td>Massawa Airport ...</td>\n",
              "      <td>Eritrea</td>\n",
              "      <td>A1</td>\n",
              "      <td>unknown</td>\n",
              "    </tr>\n",
              "  </tbody>\n",
              "</table>\n",
              "</div>\n",
              "    <div class=\"colab-df-buttons\">\n",
              "\n",
              "  <div class=\"colab-df-container\">\n",
              "    <button class=\"colab-df-convert\" onclick=\"convertToInteractive('df-a662c406-1aa0-4dff-863a-d78a6e9009d8')\"\n",
              "            title=\"Convert this dataframe to an interactive table.\"\n",
              "            style=\"display:none;\">\n",
              "\n",
              "  <svg xmlns=\"http://www.w3.org/2000/svg\" height=\"24px\" viewBox=\"0 -960 960 960\">\n",
              "    <path d=\"M120-120v-720h720v720H120Zm60-500h600v-160H180v160Zm220 220h160v-160H400v160Zm0 220h160v-160H400v160ZM180-400h160v-160H180v160Zm440 0h160v-160H620v160ZM180-180h160v-160H180v160Zm440 0h160v-160H620v160Z\"/>\n",
              "  </svg>\n",
              "    </button>\n",
              "\n",
              "  <style>\n",
              "    .colab-df-container {\n",
              "      display:flex;\n",
              "      gap: 12px;\n",
              "    }\n",
              "\n",
              "    .colab-df-convert {\n",
              "      background-color: #E8F0FE;\n",
              "      border: none;\n",
              "      border-radius: 50%;\n",
              "      cursor: pointer;\n",
              "      display: none;\n",
              "      fill: #1967D2;\n",
              "      height: 32px;\n",
              "      padding: 0 0 0 0;\n",
              "      width: 32px;\n",
              "    }\n",
              "\n",
              "    .colab-df-convert:hover {\n",
              "      background-color: #E2EBFA;\n",
              "      box-shadow: 0px 1px 2px rgba(60, 64, 67, 0.3), 0px 1px 3px 1px rgba(60, 64, 67, 0.15);\n",
              "      fill: #174EA6;\n",
              "    }\n",
              "\n",
              "    .colab-df-buttons div {\n",
              "      margin-bottom: 4px;\n",
              "    }\n",
              "\n",
              "    [theme=dark] .colab-df-convert {\n",
              "      background-color: #3B4455;\n",
              "      fill: #D2E3FC;\n",
              "    }\n",
              "\n",
              "    [theme=dark] .colab-df-convert:hover {\n",
              "      background-color: #434B5C;\n",
              "      box-shadow: 0px 1px 3px 1px rgba(0, 0, 0, 0.15);\n",
              "      filter: drop-shadow(0px 1px 2px rgba(0, 0, 0, 0.3));\n",
              "      fill: #FFFFFF;\n",
              "    }\n",
              "  </style>\n",
              "\n",
              "    <script>\n",
              "      const buttonEl =\n",
              "        document.querySelector('#df-a662c406-1aa0-4dff-863a-d78a6e9009d8 button.colab-df-convert');\n",
              "      buttonEl.style.display =\n",
              "        google.colab.kernel.accessAllowed ? 'block' : 'none';\n",
              "\n",
              "      async function convertToInteractive(key) {\n",
              "        const element = document.querySelector('#df-a662c406-1aa0-4dff-863a-d78a6e9009d8');\n",
              "        const dataTable =\n",
              "          await google.colab.kernel.invokeFunction('convertToInteractive',\n",
              "                                                    [key], {});\n",
              "        if (!dataTable) return;\n",
              "\n",
              "        const docLinkHtml = 'Like what you see? Visit the ' +\n",
              "          '<a target=\"_blank\" href=https://colab.research.google.com/notebooks/data_table.ipynb>data table notebook</a>'\n",
              "          + ' to learn more about interactive tables.';\n",
              "        element.innerHTML = '';\n",
              "        dataTable['output_type'] = 'display_data';\n",
              "        await google.colab.output.renderOutput(dataTable, element);\n",
              "        const docLink = document.createElement('div');\n",
              "        docLink.innerHTML = docLinkHtml;\n",
              "        element.appendChild(docLink);\n",
              "      }\n",
              "    </script>\n",
              "  </div>\n",
              "\n",
              "\n",
              "    <div id=\"df-024377ea-4d28-48e4-a90b-86d7ee22e8c4\">\n",
              "      <button class=\"colab-df-quickchart\" onclick=\"quickchart('df-024377ea-4d28-48e4-a90b-86d7ee22e8c4')\"\n",
              "                title=\"Suggest charts\"\n",
              "                style=\"display:none;\">\n",
              "\n",
              "<svg xmlns=\"http://www.w3.org/2000/svg\" height=\"24px\"viewBox=\"0 0 24 24\"\n",
              "     width=\"24px\">\n",
              "    <g>\n",
              "        <path d=\"M19 3H5c-1.1 0-2 .9-2 2v14c0 1.1.9 2 2 2h14c1.1 0 2-.9 2-2V5c0-1.1-.9-2-2-2zM9 17H7v-7h2v7zm4 0h-2V7h2v10zm4 0h-2v-4h2v4z\"/>\n",
              "    </g>\n",
              "</svg>\n",
              "      </button>\n",
              "\n",
              "<style>\n",
              "  .colab-df-quickchart {\n",
              "      --bg-color: #E8F0FE;\n",
              "      --fill-color: #1967D2;\n",
              "      --hover-bg-color: #E2EBFA;\n",
              "      --hover-fill-color: #174EA6;\n",
              "      --disabled-fill-color: #AAA;\n",
              "      --disabled-bg-color: #DDD;\n",
              "  }\n",
              "\n",
              "  [theme=dark] .colab-df-quickchart {\n",
              "      --bg-color: #3B4455;\n",
              "      --fill-color: #D2E3FC;\n",
              "      --hover-bg-color: #434B5C;\n",
              "      --hover-fill-color: #FFFFFF;\n",
              "      --disabled-bg-color: #3B4455;\n",
              "      --disabled-fill-color: #666;\n",
              "  }\n",
              "\n",
              "  .colab-df-quickchart {\n",
              "    background-color: var(--bg-color);\n",
              "    border: none;\n",
              "    border-radius: 50%;\n",
              "    cursor: pointer;\n",
              "    display: none;\n",
              "    fill: var(--fill-color);\n",
              "    height: 32px;\n",
              "    padding: 0;\n",
              "    width: 32px;\n",
              "  }\n",
              "\n",
              "  .colab-df-quickchart:hover {\n",
              "    background-color: var(--hover-bg-color);\n",
              "    box-shadow: 0 1px 2px rgba(60, 64, 67, 0.3), 0 1px 3px 1px rgba(60, 64, 67, 0.15);\n",
              "    fill: var(--button-hover-fill-color);\n",
              "  }\n",
              "\n",
              "  .colab-df-quickchart-complete:disabled,\n",
              "  .colab-df-quickchart-complete:disabled:hover {\n",
              "    background-color: var(--disabled-bg-color);\n",
              "    fill: var(--disabled-fill-color);\n",
              "    box-shadow: none;\n",
              "  }\n",
              "\n",
              "  .colab-df-spinner {\n",
              "    border: 2px solid var(--fill-color);\n",
              "    border-color: transparent;\n",
              "    border-bottom-color: var(--fill-color);\n",
              "    animation:\n",
              "      spin 1s steps(1) infinite;\n",
              "  }\n",
              "\n",
              "  @keyframes spin {\n",
              "    0% {\n",
              "      border-color: transparent;\n",
              "      border-bottom-color: var(--fill-color);\n",
              "      border-left-color: var(--fill-color);\n",
              "    }\n",
              "    20% {\n",
              "      border-color: transparent;\n",
              "      border-left-color: var(--fill-color);\n",
              "      border-top-color: var(--fill-color);\n",
              "    }\n",
              "    30% {\n",
              "      border-color: transparent;\n",
              "      border-left-color: var(--fill-color);\n",
              "      border-top-color: var(--fill-color);\n",
              "      border-right-color: var(--fill-color);\n",
              "    }\n",
              "    40% {\n",
              "      border-color: transparent;\n",
              "      border-right-color: var(--fill-color);\n",
              "      border-top-color: var(--fill-color);\n",
              "    }\n",
              "    60% {\n",
              "      border-color: transparent;\n",
              "      border-right-color: var(--fill-color);\n",
              "    }\n",
              "    80% {\n",
              "      border-color: transparent;\n",
              "      border-right-color: var(--fill-color);\n",
              "      border-bottom-color: var(--fill-color);\n",
              "    }\n",
              "    90% {\n",
              "      border-color: transparent;\n",
              "      border-bottom-color: var(--fill-color);\n",
              "    }\n",
              "  }\n",
              "</style>\n",
              "\n",
              "      <script>\n",
              "        async function quickchart(key) {\n",
              "          const quickchartButtonEl =\n",
              "            document.querySelector('#' + key + ' button');\n",
              "          quickchartButtonEl.disabled = true;  // To prevent multiple clicks.\n",
              "          quickchartButtonEl.classList.add('colab-df-spinner');\n",
              "          try {\n",
              "            const charts = await google.colab.kernel.invokeFunction(\n",
              "                'suggestCharts', [key], {});\n",
              "          } catch (error) {\n",
              "            console.error('Error during call to suggestCharts:', error);\n",
              "          }\n",
              "          quickchartButtonEl.classList.remove('colab-df-spinner');\n",
              "          quickchartButtonEl.classList.add('colab-df-quickchart-complete');\n",
              "        }\n",
              "        (() => {\n",
              "          let quickchartButtonEl =\n",
              "            document.querySelector('#df-024377ea-4d28-48e4-a90b-86d7ee22e8c4 button');\n",
              "          quickchartButtonEl.style.display =\n",
              "            google.colab.kernel.accessAllowed ? 'block' : 'none';\n",
              "        })();\n",
              "      </script>\n",
              "    </div>\n",
              "\n",
              "    </div>\n",
              "  </div>\n"
            ],
            "application/vnd.google.colaboratory.intrinsic+json": {
              "type": "dataframe",
              "variable_name": "dataset",
              "summary": "{\n  \"name\": \"dataset\",\n  \"rows\": 23967,\n  \"fields\": [\n    {\n      \"column\": \"date\",\n      \"properties\": {\n        \"dtype\": \"string\",\n        \"num_unique_values\": 15079,\n        \"samples\": [\n          \"02-FEB-1966\",\n          \"03-MAR-1955\",\n          \"30-DEC-2003\"\n        ],\n        \"semantic_type\": \"\",\n        \"description\": \"\"\n      }\n    },\n    {\n      \"column\": \"type\",\n      \"properties\": {\n        \"dtype\": \"category\",\n        \"num_unique_values\": 3201,\n        \"samples\": [\n          \"Learjet 25B\",\n          \"Ilyushin Il-18E\",\n          \"Lockheed NC-130F Hercules\"\n        ],\n        \"semantic_type\": \"\",\n        \"description\": \"\"\n      }\n    },\n    {\n      \"column\": \"registration\",\n      \"properties\": {\n        \"dtype\": \"string\",\n        \"num_unique_values\": 21962,\n        \"samples\": [\n          \"CC-CNW\",\n          \"G-ARLF\",\n          \"9N-ADA\"\n        ],\n        \"semantic_type\": \"\",\n        \"description\": \"\"\n      }\n    },\n    {\n      \"column\": \"operator\",\n      \"properties\": {\n        \"dtype\": \"category\",\n        \"num_unique_values\": 6017,\n        \"samples\": [\n          \"Luxair\",\n          \"Viva Aerobus\",\n          \"Hansa Jet Corp.\"\n        ],\n        \"semantic_type\": \"\",\n        \"description\": \"\"\n      }\n    },\n    {\n      \"column\": \"fatalities\",\n      \"properties\": {\n        \"dtype\": \"category\",\n        \"num_unique_values\": 369,\n        \"samples\": [\n          \"145\",\n          \"26\",\n          \"14+ 1\"\n        ],\n        \"semantic_type\": \"\",\n        \"description\": \"\"\n      }\n    },\n    {\n      \"column\": \"location\",\n      \"properties\": {\n        \"dtype\": \"string\",\n        \"num_unique_values\": 14608,\n        \"samples\": [\n          \"West Deering, NH\",\n          \"Panchkhal\",\n          \"Chicago, New Yor...\"\n        ],\n        \"semantic_type\": \"\",\n        \"description\": \"\"\n      }\n    },\n    {\n      \"column\": \"country\",\n      \"properties\": {\n        \"dtype\": \"category\",\n        \"num_unique_values\": 232,\n        \"samples\": [\n          \"Rwanda\",\n          \"Hungary\",\n          \"Zimbabwe\"\n        ],\n        \"semantic_type\": \"\",\n        \"description\": \"\"\n      }\n    },\n    {\n      \"column\": \"cat\",\n      \"properties\": {\n        \"dtype\": \"category\",\n        \"num_unique_values\": 11,\n        \"samples\": [\n          \"C1\",\n          \"U1\",\n          \"I2\"\n        ],\n        \"semantic_type\": \"\",\n        \"description\": \"\"\n      }\n    },\n    {\n      \"column\": \"year\",\n      \"properties\": {\n        \"dtype\": \"category\",\n        \"num_unique_values\": 106,\n        \"samples\": [\n          \"2018\",\n          \"1928\",\n          \"1922\"\n        ],\n        \"semantic_type\": \"\",\n        \"description\": \"\"\n      }\n    }\n  ]\n}"
            }
          },
          "metadata": {},
          "execution_count": 5
        }
      ]
    },
    {
      "cell_type": "code",
      "source": [
        "dataset.dtypes"
      ],
      "metadata": {
        "colab": {
          "base_uri": "https://localhost:8080/",
          "height": 366
        },
        "id": "-eXeq6O04bEJ",
        "outputId": "a070f985-72da-4fb9-9eb4-f5c9fe77d2a7"
      },
      "execution_count": 6,
      "outputs": [
        {
          "output_type": "execute_result",
          "data": {
            "text/plain": [
              "date            object\n",
              "type            object\n",
              "registration    object\n",
              "operator        object\n",
              "fatalities      object\n",
              "location        object\n",
              "country         object\n",
              "cat             object\n",
              "year            object\n",
              "dtype: object"
            ],
            "text/html": [
              "<div>\n",
              "<style scoped>\n",
              "    .dataframe tbody tr th:only-of-type {\n",
              "        vertical-align: middle;\n",
              "    }\n",
              "\n",
              "    .dataframe tbody tr th {\n",
              "        vertical-align: top;\n",
              "    }\n",
              "\n",
              "    .dataframe thead th {\n",
              "        text-align: right;\n",
              "    }\n",
              "</style>\n",
              "<table border=\"1\" class=\"dataframe\">\n",
              "  <thead>\n",
              "    <tr style=\"text-align: right;\">\n",
              "      <th></th>\n",
              "      <th>0</th>\n",
              "    </tr>\n",
              "  </thead>\n",
              "  <tbody>\n",
              "    <tr>\n",
              "      <th>date</th>\n",
              "      <td>object</td>\n",
              "    </tr>\n",
              "    <tr>\n",
              "      <th>type</th>\n",
              "      <td>object</td>\n",
              "    </tr>\n",
              "    <tr>\n",
              "      <th>registration</th>\n",
              "      <td>object</td>\n",
              "    </tr>\n",
              "    <tr>\n",
              "      <th>operator</th>\n",
              "      <td>object</td>\n",
              "    </tr>\n",
              "    <tr>\n",
              "      <th>fatalities</th>\n",
              "      <td>object</td>\n",
              "    </tr>\n",
              "    <tr>\n",
              "      <th>location</th>\n",
              "      <td>object</td>\n",
              "    </tr>\n",
              "    <tr>\n",
              "      <th>country</th>\n",
              "      <td>object</td>\n",
              "    </tr>\n",
              "    <tr>\n",
              "      <th>cat</th>\n",
              "      <td>object</td>\n",
              "    </tr>\n",
              "    <tr>\n",
              "      <th>year</th>\n",
              "      <td>object</td>\n",
              "    </tr>\n",
              "  </tbody>\n",
              "</table>\n",
              "</div><br><label><b>dtype:</b> object</label>"
            ]
          },
          "metadata": {},
          "execution_count": 6
        }
      ]
    },
    {
      "cell_type": "code",
      "source": [
        "dataset.shape"
      ],
      "metadata": {
        "colab": {
          "base_uri": "https://localhost:8080/"
        },
        "id": "eWrdpZHV8Oh8",
        "outputId": "57968a3f-9001-489b-d900-995616b414ee"
      },
      "execution_count": 7,
      "outputs": [
        {
          "output_type": "execute_result",
          "data": {
            "text/plain": [
              "(23967, 9)"
            ]
          },
          "metadata": {},
          "execution_count": 7
        }
      ]
    },
    {
      "cell_type": "markdown",
      "source": [
        "###In which country did the most incidents occur?"
      ],
      "metadata": {
        "id": "JOKVdCfC4hD2"
      }
    },
    {
      "cell_type": "code",
      "source": [
        "dataset['country'].nunique()"
      ],
      "metadata": {
        "colab": {
          "base_uri": "https://localhost:8080/"
        },
        "id": "EopPc4gri7gR",
        "outputId": "ebdb838f-cfe3-4774-aee7-a5f026b013f0"
      },
      "execution_count": 8,
      "outputs": [
        {
          "output_type": "execute_result",
          "data": {
            "text/plain": [
              "232"
            ]
          },
          "metadata": {},
          "execution_count": 8
        }
      ]
    },
    {
      "cell_type": "code",
      "source": [
        "incidenti_totali = dataset['country'].value_counts().head(10).reset_index()\n",
        "incidenti_totali.columns = ['paesi','incidenti']\n",
        "incidenti_totali['percentuale'] = (incidenti_totali['incidenti']/dataset.shape[0])*100\n",
        "print(incidenti_totali)"
      ],
      "metadata": {
        "colab": {
          "base_uri": "https://localhost:8080/"
        },
        "id": "mRhl7gcfgVYn",
        "outputId": "a998116c-7044-4c9c-932c-061cbd6ed935"
      },
      "execution_count": 9,
      "outputs": [
        {
          "output_type": "stream",
          "name": "stdout",
          "text": [
            "             paesi  incidenti  percentuale\n",
            "0              USA       4377    18.262611\n",
            "1           Russia       1422     5.933158\n",
            "2  Unknown country        838     3.496474\n",
            "3             U.K.        837     3.492302\n",
            "4           Canada        826     3.446405\n",
            "5            India        700     2.920683\n",
            "6           Brazil        609     2.540994\n",
            "7           France        550     2.294822\n",
            "8          Germany        516     2.152960\n",
            "9            China        514     2.144616\n"
          ]
        }
      ]
    },
    {
      "cell_type": "code",
      "source": [
        "incidenti_totali_abbr = incidenti_totali.copy()\n",
        "incidenti_totali_abbr['paesi_abbr'] = incidenti_totali['paesi'].str[:3].str.upper()"
      ],
      "metadata": {
        "id": "_teaExxtZ3M4"
      },
      "execution_count": 10,
      "outputs": []
    },
    {
      "cell_type": "code",
      "source": [
        "plt.figure(figsize=(10,5))\n",
        "plt.bar(incidenti_totali_abbr['paesi_abbr'], incidenti_totali['incidenti'], color='red')\n",
        "plt.xlabel(\"Countries\")\n",
        "plt.ylabel(\"Total accidents\")\n",
        "plt.title(\"Top 10 countries by number of air accidents\")\n",
        "plt.yticks(np.arange(0, 4500, 500))\n",
        "plt.show()"
      ],
      "metadata": {
        "id": "YYCNwfX3hnpw",
        "colab": {
          "base_uri": "https://localhost:8080/",
          "height": 487
        },
        "outputId": "4179eaa2-10eb-4923-e593-5ccbf401d841"
      },
      "execution_count": 12,
      "outputs": [
        {
          "output_type": "display_data",
          "data": {
            "text/plain": [
              "<Figure size 1000x500 with 1 Axes>"
            ],
            "image/png": "[encoded data removed]"
          },
          "metadata": {}
        }
      ]
    },
    {
      "cell_type": "markdown",
      "source": [
        "The United States holds the record as the country with the highest number of incidents, with a total of 4,377."
      ],
      "metadata": {
        "id": "HjFx7K5c1g5w"
      }
    },
    {
      "cell_type": "markdown",
      "source": [
        "###Do incidents happen more frequently on certain days of the week?"
      ],
      "metadata": {
        "id": "NNjAzMVz4-a0"
      }
    },
    {
      "cell_type": "code",
      "source": [
        "print(dataset['date'])"
      ],
      "metadata": {
        "colab": {
          "base_uri": "https://localhost:8080/"
        },
        "id": "YNtBAiS_i17y",
        "outputId": "b0c695a3-05a0-46ff-dc29-1753f38ac93e"
      },
      "execution_count": 13,
      "outputs": [
        {
          "output_type": "stream",
          "name": "stdout",
          "text": [
            "0          date unk.\n",
            "1          date unk.\n",
            "2          date unk.\n",
            "3          date unk.\n",
            "4          date unk.\n",
            "            ...     \n",
            "23962    11-MAY-2023\n",
            "23963    11-MAY-2023\n",
            "23964    12-MAY-2023\n",
            "23965    14-MAY-2023\n",
            "23966    15-MAY-2023\n",
            "Name: date, Length: 23967, dtype: object\n"
          ]
        }
      ]
    },
    {
      "cell_type": "code",
      "source": [
        "dataset['date'].isna().sum()"
      ],
      "metadata": {
        "colab": {
          "base_uri": "https://localhost:8080/"
        },
        "id": "Cm0Zps6Ut4CN",
        "outputId": "9bb45275-01ed-48d1-afb4-255cf4e1326d"
      },
      "execution_count": 14,
      "outputs": [
        {
          "output_type": "execute_result",
          "data": {
            "text/plain": [
              "np.int64(0)"
            ]
          },
          "metadata": {},
          "execution_count": 14
        }
      ]
    },
    {
      "cell_type": "code",
      "source": [
        "(dataset['date'] == \"date unk.\").sum()"
      ],
      "metadata": {
        "colab": {
          "base_uri": "https://localhost:8080/"
        },
        "id": "zul88EtOuFDy",
        "outputId": "66f7faa3-47b8-4a59-c54d-8429cf5e7180"
      },
      "execution_count": 15,
      "outputs": [
        {
          "output_type": "execute_result",
          "data": {
            "text/plain": [
              "np.int64(61)"
            ]
          },
          "metadata": {},
          "execution_count": 15
        }
      ]
    },
    {
      "cell_type": "code",
      "source": [
        "dataset['date'] = pd.to_datetime(dataset['date'], errors='coerce')"
      ],
      "metadata": {
        "id": "hWe3csUBueNT"
      },
      "execution_count": 17,
      "outputs": []
    },
    {
      "cell_type": "code",
      "source": [
        "print(dataset['date'].dtypes)"
      ],
      "metadata": {
        "colab": {
          "base_uri": "https://localhost:8080/"
        },
        "id": "6pxzJB6-4TXx",
        "outputId": "2f42b325-d12b-4b0e-cbc7-29a73896c964"
      },
      "execution_count": 18,
      "outputs": [
        {
          "output_type": "stream",
          "name": "stdout",
          "text": [
            "datetime64[ns]\n"
          ]
        }
      ]
    },
    {
      "cell_type": "code",
      "source": [
        "dataset['giorni_settimana'] = dataset['date'].dt.day_name()\n",
        "print(dataset['giorni_settimana'])"
      ],
      "metadata": {
        "colab": {
          "base_uri": "https://localhost:8080/"
        },
        "id": "stgnkmY55La9",
        "outputId": "1f20fd64-eef9-424a-e246-7157a0be34bd"
      },
      "execution_count": 19,
      "outputs": [
        {
          "output_type": "stream",
          "name": "stdout",
          "text": [
            "0             NaN\n",
            "1             NaN\n",
            "2             NaN\n",
            "3             NaN\n",
            "4             NaN\n",
            "           ...   \n",
            "23962    Thursday\n",
            "23963    Thursday\n",
            "23964      Friday\n",
            "23965      Sunday\n",
            "23966      Monday\n",
            "Name: giorni_settimana, Length: 23967, dtype: object\n"
          ]
        }
      ]
    },
    {
      "cell_type": "code",
      "source": [
        "incidenti_giorni = dataset['giorni_settimana'].value_counts()\n",
        "print(incidenti_giorni)"
      ],
      "metadata": {
        "colab": {
          "base_uri": "https://localhost:8080/"
        },
        "id": "Otgk1hdV5-Nq",
        "outputId": "d3c75013-d7bc-4fdf-beb8-22193a5958f8"
      },
      "execution_count": 20,
      "outputs": [
        {
          "output_type": "stream",
          "name": "stdout",
          "text": [
            "giorni_settimana\n",
            "Friday       3701\n",
            "Thursday     3516\n",
            "Wednesday    3491\n",
            "Tuesday      3444\n",
            "Monday       3317\n",
            "Saturday     3186\n",
            "Sunday       2753\n",
            "Name: count, dtype: int64\n"
          ]
        }
      ]
    },
    {
      "cell_type": "code",
      "source": [
        "ordine_giorni = ['Monday', 'Tuesday', 'Wednesday', 'Thursday', 'Friday', 'Saturday', 'Sunday']\n",
        "incidenti_giorni = incidenti_giorni.reindex(ordine_giorni)\n",
        "print(incidenti_giorni)"
      ],
      "metadata": {
        "colab": {
          "base_uri": "https://localhost:8080/"
        },
        "id": "mVW7dXgl7vpe",
        "outputId": "9d58627b-7415-40a2-a7db-6dac2fc4b56e"
      },
      "execution_count": 21,
      "outputs": [
        {
          "output_type": "stream",
          "name": "stdout",
          "text": [
            "giorni_settimana\n",
            "Monday       3317\n",
            "Tuesday      3444\n",
            "Wednesday    3491\n",
            "Thursday     3516\n",
            "Friday       3701\n",
            "Saturday     3186\n",
            "Sunday       2753\n",
            "Name: count, dtype: int64\n"
          ]
        }
      ]
    },
    {
      "cell_type": "code",
      "source": [
        "plt.figure(figsize=(10,5))\n",
        "plt.bar(incidenti_giorni.index, incidenti_giorni.values, color='purple')\n",
        "plt.xlabel(\"Day of the Week\")\n",
        "plt.ylabel(\"Accidents\")\n",
        "plt.title(\"Air Accidents by Day of the Week\")\n",
        "plt.yticks(np.arange(0,5000,500))\n",
        "plt.show()"
      ],
      "metadata": {
        "colab": {
          "base_uri": "https://localhost:8080/",
          "height": 487
        },
        "id": "mwW32Pww58wf",
        "outputId": "1d4bb259-9ed2-4bdf-8ab6-3bdfbdc0a101"
      },
      "execution_count": 23,
      "outputs": [
        {
          "output_type": "display_data",
          "data": {
            "text/plain": [
              "<Figure size 1000x500 with 1 Axes>"
            ],
            "image/png": "[encoded data removed]"
          },
          "metadata": {}
        }
      ]
    },
    {
      "cell_type": "markdown",
      "source": [
        "Air accidents are evenly distributed throughout the week, with a slight peak on Friday, followed by a decrease on Saturday and Sunday."
      ],
      "metadata": {
        "id": "XUhn5pul14GT"
      }
    },
    {
      "cell_type": "markdown",
      "source": [
        "###Which operators are the safest?"
      ],
      "metadata": {
        "id": "PEj_7y8z5Y61"
      }
    },
    {
      "cell_type": "code",
      "source": [
        "dataset['operator'].nunique()"
      ],
      "metadata": {
        "colab": {
          "base_uri": "https://localhost:8080/"
        },
        "id": "8BFnw4gm6u5x",
        "outputId": "de2491d6-79b3-4df5-98ab-b377f65bb33f"
      },
      "execution_count": 25,
      "outputs": [
        {
          "output_type": "execute_result",
          "data": {
            "text/plain": [
              "6017"
            ]
          },
          "metadata": {},
          "execution_count": 25
        }
      ]
    },
    {
      "cell_type": "code",
      "source": [
        "dataset['operator'].isna().sum()"
      ],
      "metadata": {
        "colab": {
          "base_uri": "https://localhost:8080/"
        },
        "id": "uZJH0v2QikvX",
        "outputId": "34699298-c5e5-4e6d-beb5-6ef487967ee6"
      },
      "execution_count": 26,
      "outputs": [
        {
          "output_type": "execute_result",
          "data": {
            "text/plain": [
              "np.int64(4)"
            ]
          },
          "metadata": {},
          "execution_count": 26
        }
      ]
    },
    {
      "cell_type": "code",
      "source": [
        "operatori_1_incidente = dataset['operator'].value_counts()\n",
        "operatori_1_incidente = operatori_1_incidente[operatori_1_incidente == 1].index\n",
        "print(operatori_1_incidente)"
      ],
      "metadata": {
        "colab": {
          "base_uri": "https://localhost:8080/"
        },
        "id": "ZaXqxvMLodfp",
        "outputId": "a70b66c6-7ec6-4d05-9add-c2779c767ea1"
      },
      "execution_count": 27,
      "outputs": [
        {
          "output_type": "stream",
          "name": "stdout",
          "text": [
            "Index(['Belavia', 'Naturelink Airlines', 'EAS Airlines',\n",
            "       'Interstate Helicopters', 'Tadair', 'SASCA Airlines',\n",
            "       'US Airways Express, opb Republic Airlines', 'Volga-Aviaexpress',\n",
            "       'Krasnoyarski ASK', 'American Virginia',\n",
            "       ...\n",
            "       'Viking Air Transport', 'Rhoades Int.', 'Bruno's',\n",
            "       'Business Express, op.for Delta Connection', 'Norfolk Island Airlines',\n",
            "       'ANA, opf USAAF', 'Aerovias Brasil, lsf TACA', 'Air Carrier Transport',\n",
            "       'BOAC, op.for Qantas', 'Aliserio'],\n",
            "      dtype='object', name='operator', length=4063)\n"
          ]
        }
      ]
    },
    {
      "cell_type": "code",
      "source": [
        "operatori_1_incidente.nunique()"
      ],
      "metadata": {
        "colab": {
          "base_uri": "https://localhost:8080/"
        },
        "id": "Z7VhIgjKojPC",
        "outputId": "99c23063-99b1-4e85-ffb1-269d615f3598"
      },
      "execution_count": 28,
      "outputs": [
        {
          "output_type": "execute_result",
          "data": {
            "text/plain": [
              "4063"
            ]
          },
          "metadata": {},
          "execution_count": 28
        }
      ]
    },
    {
      "cell_type": "code",
      "source": [
        "dataset['fatalities'] = pd.to_numeric(dataset['fatalities'], errors='coerce')"
      ],
      "metadata": {
        "id": "AdfdlSgwpwrK"
      },
      "execution_count": 29,
      "outputs": []
    },
    {
      "cell_type": "code",
      "source": [
        "operatori_sicuri = dataset[(dataset['operator'].isin(operatori_1_incidente)) & (dataset['fatalities']==0)]['operator'].unique()\n",
        "print(len(operatori_sicuri))"
      ],
      "metadata": {
        "colab": {
          "base_uri": "https://localhost:8080/"
        },
        "id": "Jax_Q5uCqH-0",
        "outputId": "091853e1-c21c-4eb1-f6ec-f2d82f6db409"
      },
      "execution_count": 30,
      "outputs": [
        {
          "output_type": "stream",
          "name": "stdout",
          "text": [
            "2416\n"
          ]
        }
      ]
    },
    {
      "cell_type": "code",
      "source": [
        "print(operatori_sicuri)"
      ],
      "metadata": {
        "colab": {
          "base_uri": "https://localhost:8080/"
        },
        "id": "zteEwKjOxmJ_",
        "outputId": "076b36ee-28e0-4a5e-8463-45570128036c"
      },
      "execution_count": 31,
      "outputs": [
        {
          "output_type": "stream",
          "name": "stdout",
          "text": [
            "['MD Air Services' 'JetPet' 'HP Indo-Burmese Transport' ...\n",
            " 'Angkasa Super Services' 'Nasional Global Aviasi' 'Bar Aviation']\n"
          ]
        }
      ]
    },
    {
      "cell_type": "markdown",
      "source": [
        "There are a total of 6,017 operators, of which 4,063 have caused only one incident. Among these 4,063, 2,416 have caused no fatalities. Among these safer operators are, for example, \"MD Air Services,\" \"JetPet,\" \"HP Indo-Burmese Transport,\" \"Angkasa Super Services,\" \"Nasional Global Aviasi,\" and \"Bar Aviation.\""
      ],
      "metadata": {
        "id": "CnNyLVtw0VMl"
      }
    },
    {
      "cell_type": "markdown",
      "source": [
        "###Which aircraft type has caused the most fatalities?"
      ],
      "metadata": {
        "id": "h57cl4iBwiW-"
      }
    },
    {
      "cell_type": "code",
      "source": [
        "dataset['type'].nunique()"
      ],
      "metadata": {
        "colab": {
          "base_uri": "https://localhost:8080/"
        },
        "id": "XFmeVIt4srV8",
        "outputId": "14f417ee-0010-4c13-ab16-a2ca76cb7fc1"
      },
      "execution_count": 32,
      "outputs": [
        {
          "output_type": "execute_result",
          "data": {
            "text/plain": [
              "3201"
            ]
          },
          "metadata": {},
          "execution_count": 32
        }
      ]
    },
    {
      "cell_type": "code",
      "source": [
        "dataset['type'].isna().sum()"
      ],
      "metadata": {
        "colab": {
          "base_uri": "https://localhost:8080/"
        },
        "id": "qbR64fmHweVe",
        "outputId": "24ee70fd-afb8-42f5-a52c-87cc0fa69311"
      },
      "execution_count": 33,
      "outputs": [
        {
          "output_type": "execute_result",
          "data": {
            "text/plain": [
              "np.int64(0)"
            ]
          },
          "metadata": {},
          "execution_count": 33
        }
      ]
    },
    {
      "cell_type": "code",
      "source": [
        "velivolo_mortale = dataset.groupby('type')['fatalities'].sum().sort_values(ascending=False).head(1)\n",
        "print(velivolo_mortale)"
      ],
      "metadata": {
        "colab": {
          "base_uri": "https://localhost:8080/"
        },
        "id": "OG_aJXLIwuqt",
        "outputId": "8af0eef9-6acc-49f3-cf27-c0b178ae8ccf"
      },
      "execution_count": 34,
      "outputs": [
        {
          "output_type": "stream",
          "name": "stdout",
          "text": [
            "type\n",
            "Douglas C-47A (DC-3)    5689.0\n",
            "Name: fatalities, dtype: float64\n"
          ]
        }
      ]
    },
    {
      "cell_type": "markdown",
      "source": [
        "The Douglas C-47A (DC-3) aircraft, with 5,689 fatalities, is the deadliest aircraft."
      ],
      "metadata": {
        "id": "cSr-twrN1MGI"
      }
    },
    {
      "cell_type": "markdown",
      "source": [
        "###Where do incidents mainly occur?"
      ],
      "metadata": {
        "id": "PBwJwDXiNta_"
      }
    },
    {
      "cell_type": "code",
      "source": [
        "dataset['location'].nunique()"
      ],
      "metadata": {
        "colab": {
          "base_uri": "https://localhost:8080/"
        },
        "id": "bbnYnHqzNfZK",
        "outputId": "117f1bad-112e-42fa-e6c1-a6c49d22977b"
      },
      "execution_count": 35,
      "outputs": [
        {
          "output_type": "execute_result",
          "data": {
            "text/plain": [
              "14608"
            ]
          },
          "metadata": {},
          "execution_count": 35
        }
      ]
    },
    {
      "cell_type": "code",
      "source": [
        "location_incidenti = dataset['location'].value_counts()\n",
        "location_incidenti.head(20)"
      ],
      "metadata": {
        "colab": {
          "base_uri": "https://localhost:8080/",
          "height": 742
        },
        "id": "fJI7BG1VOfui",
        "outputId": "2d5c25bc-b494-4425-9e37-dc7c1571be74"
      },
      "execution_count": 36,
      "outputs": [
        {
          "output_type": "execute_result",
          "data": {
            "text/plain": [
              "location\n",
              "unknown                272\n",
              "Havana-JosÃ© Mar...    106\n",
              "Miami Internatio...     71\n",
              "Beirut Internati...     48\n",
              "New York-John F....     44\n",
              "Amsterdam-Schiph...     44\n",
              "Unknown                 44\n",
              "Chicago-O'Hare I...     40\n",
              "BogotÃ¡-Eldorado...     31\n",
              "Kinshasa-N'Djili...     31\n",
              "Waalhaven               29\n",
              "Kabul Airport (KBL)     28\n",
              "SÃ£o Paulo-Congo...     27\n",
              "London-Heathrow ...     26\n",
              "Hong Kong-Kai Ta...     25\n",
              "Havana                  24\n",
              "Istanbul-AtatÃ¼r...     24\n",
              "Rio de Janeiro-S...     24\n",
              "New York-La Guar...     23\n",
              "Moskva-Vnukovo A...     23\n",
              "Name: count, dtype: int64"
            ],
            "text/html": [
              "<div>\n",
              "<style scoped>\n",
              "    .dataframe tbody tr th:only-of-type {\n",
              "        vertical-align: middle;\n",
              "    }\n",
              "\n",
              "    .dataframe tbody tr th {\n",
              "        vertical-align: top;\n",
              "    }\n",
              "\n",
              "    .dataframe thead th {\n",
              "        text-align: right;\n",
              "    }\n",
              "</style>\n",
              "<table border=\"1\" class=\"dataframe\">\n",
              "  <thead>\n",
              "    <tr style=\"text-align: right;\">\n",
              "      <th></th>\n",
              "      <th>count</th>\n",
              "    </tr>\n",
              "    <tr>\n",
              "      <th>location</th>\n",
              "      <th></th>\n",
              "    </tr>\n",
              "  </thead>\n",
              "  <tbody>\n",
              "    <tr>\n",
              "      <th>unknown</th>\n",
              "      <td>272</td>\n",
              "    </tr>\n",
              "    <tr>\n",
              "      <th>Havana-JosÃ© Mar...</th>\n",
              "      <td>106</td>\n",
              "    </tr>\n",
              "    <tr>\n",
              "      <th>Miami Internatio...</th>\n",
              "      <td>71</td>\n",
              "    </tr>\n",
              "    <tr>\n",
              "      <th>Beirut Internati...</th>\n",
              "      <td>48</td>\n",
              "    </tr>\n",
              "    <tr>\n",
              "      <th>New York-John F....</th>\n",
              "      <td>44</td>\n",
              "    </tr>\n",
              "    <tr>\n",
              "      <th>Amsterdam-Schiph...</th>\n",
              "      <td>44</td>\n",
              "    </tr>\n",
              "    <tr>\n",
              "      <th>Unknown</th>\n",
              "      <td>44</td>\n",
              "    </tr>\n",
              "    <tr>\n",
              "      <th>Chicago-O'Hare I...</th>\n",
              "      <td>40</td>\n",
              "    </tr>\n",
              "    <tr>\n",
              "      <th>BogotÃ¡-Eldorado...</th>\n",
              "      <td>31</td>\n",
              "    </tr>\n",
              "    <tr>\n",
              "      <th>Kinshasa-N'Djili...</th>\n",
              "      <td>31</td>\n",
              "    </tr>\n",
              "    <tr>\n",
              "      <th>Waalhaven</th>\n",
              "      <td>29</td>\n",
              "    </tr>\n",
              "    <tr>\n",
              "      <th>Kabul Airport (KBL)</th>\n",
              "      <td>28</td>\n",
              "    </tr>\n",
              "    <tr>\n",
              "      <th>SÃ£o Paulo-Congo...</th>\n",
              "      <td>27</td>\n",
              "    </tr>\n",
              "    <tr>\n",
              "      <th>London-Heathrow ...</th>\n",
              "      <td>26</td>\n",
              "    </tr>\n",
              "    <tr>\n",
              "      <th>Hong Kong-Kai Ta...</th>\n",
              "      <td>25</td>\n",
              "    </tr>\n",
              "    <tr>\n",
              "      <th>Havana</th>\n",
              "      <td>24</td>\n",
              "    </tr>\n",
              "    <tr>\n",
              "      <th>Istanbul-AtatÃ¼r...</th>\n",
              "      <td>24</td>\n",
              "    </tr>\n",
              "    <tr>\n",
              "      <th>Rio de Janeiro-S...</th>\n",
              "      <td>24</td>\n",
              "    </tr>\n",
              "    <tr>\n",
              "      <th>New York-La Guar...</th>\n",
              "      <td>23</td>\n",
              "    </tr>\n",
              "    <tr>\n",
              "      <th>Moskva-Vnukovo A...</th>\n",
              "      <td>23</td>\n",
              "    </tr>\n",
              "  </tbody>\n",
              "</table>\n",
              "</div><br><label><b>dtype:</b> int64</label>"
            ]
          },
          "metadata": {},
          "execution_count": 36
        }
      ]
    },
    {
      "cell_type": "code",
      "source": [
        "plt.figure(figsize=(10,5))\n",
        "plt.bar(location_incidenti.index[:20], location_incidenti.values[:20], color='navy')\n",
        "plt.xlabel(\"Place\")\n",
        "plt.ylabel(\"Accident\")\n",
        "plt.title(\"Accidents by Location\")\n",
        "plt.xticks(rotation=90)\n",
        "plt.show()"
      ],
      "metadata": {
        "colab": {
          "base_uri": "https://localhost:8080/",
          "height": 618
        },
        "id": "SMcdSnt6PBd_",
        "outputId": "1c6a0044-e2db-45f3-ab88-b34372ec78a3"
      },
      "execution_count": 37,
      "outputs": [
        {
          "output_type": "display_data",
          "data": {
            "text/plain": [
              "<Figure size 1000x500 with 1 Axes>"
            ],
            "image/png": "[encoded data removed]"
          },
          "metadata": {}
        }
      ]
    },
    {
      "cell_type": "markdown",
      "source": [
        "Most accidents occurred near airports. However, there is a large percentage with unknown locations."
      ],
      "metadata": {
        "id": "oTL7siceQA96"
      }
    },
    {
      "cell_type": "markdown",
      "source": [
        "###How have accidents evolved since September 11?"
      ],
      "metadata": {
        "id": "A8unIw5Yy7fN"
      }
    },
    {
      "cell_type": "code",
      "source": [
        "dataset['anno'] = dataset['date'].dt.year"
      ],
      "metadata": {
        "id": "uvgCjalwBy_z"
      },
      "execution_count": 39,
      "outputs": []
    },
    {
      "cell_type": "code",
      "source": [
        "incidenti_prima_11_settembre = dataset[dataset['date'] < '2001-09-11']\n",
        "incidenti_dopo_11_settembre = dataset[dataset['date'] >= '2001-09-11']\n",
        "print(incidenti_prima_11_settembre.shape[0])\n",
        "print(incidenti_dopo_11_settembre.shape[0])"
      ],
      "metadata": {
        "colab": {
          "base_uri": "https://localhost:8080/"
        },
        "id": "nBLvGuXtxWWI",
        "outputId": "c07752f9-9ec7-4342-f6aa-04dcf21d02ff"
      },
      "execution_count": 40,
      "outputs": [
        {
          "output_type": "stream",
          "name": "stdout",
          "text": [
            "18898\n",
            "4510\n"
          ]
        }
      ]
    },
    {
      "cell_type": "code",
      "source": [
        "incidenti_prima = incidenti_prima_11_settembre.groupby('anno').size()\n",
        "incidenti_dopo = incidenti_dopo_11_settembre.groupby('anno').size()"
      ],
      "metadata": {
        "id": "O7fUUzQa_EJe"
      },
      "execution_count": 41,
      "outputs": []
    },
    {
      "cell_type": "code",
      "source": [
        "morti_prima_11_settembre = incidenti_prima_11_settembre['fatalities'].sum()\n",
        "morti_dopo_11_settembre = incidenti_dopo_11_settembre['fatalities'].sum()\n",
        "print(morti_prima_11_settembre)\n",
        "print(morti_dopo_11_settembre)"
      ],
      "metadata": {
        "colab": {
          "base_uri": "https://localhost:8080/"
        },
        "id": "vYsyLmkn1rh5",
        "outputId": "daa397e5-7c77-4685-920a-2e2117aed687"
      },
      "execution_count": 42,
      "outputs": [
        {
          "output_type": "stream",
          "name": "stdout",
          "text": [
            "105380.0\n",
            "15309.0\n"
          ]
        }
      ]
    },
    {
      "cell_type": "code",
      "source": [
        "morti_prima = incidenti_prima_11_settembre.groupby('anno')['fatalities'].sum()\n",
        "morti_dopo = incidenti_dopo_11_settembre.groupby('anno')['fatalities'].sum()"
      ],
      "metadata": {
        "id": "OTSjLmSI8_u5"
      },
      "execution_count": 43,
      "outputs": []
    },
    {
      "cell_type": "code",
      "source": [
        "plt.figure(figsize=(10,5))\n",
        "plt.plot(incidenti_prima.index, incidenti_prima.values, label=\"Accidents before September 11\")\n",
        "plt.plot(incidenti_dopo.index, incidenti_dopo.values, label=\"Accidents after September 11\")\n",
        "plt.plot(morti_prima.index, morti_prima.values, label=\"Fatalities before September 11\")\n",
        "plt.plot(morti_dopo.index, morti_dopo.values, label=\"Fatalities after September 11\")\n",
        "plt.xlabel(\"Years\")\n",
        "plt.ylabel(\"Accidents, Fatalities\")\n",
        "plt.title(\"Trend of accidents and fatalities before and after September 11\")\n",
        "plt.legend()\n",
        "plt.grid(True)\n",
        "plt.show()"
      ],
      "metadata": {
        "colab": {
          "base_uri": "https://localhost:8080/",
          "height": 487
        },
        "id": "M43iihGL2sMb",
        "outputId": "30e00909-20ee-4bf7-cabf-74876c7f5a5e"
      },
      "execution_count": 44,
      "outputs": [
        {
          "output_type": "display_data",
          "data": {
            "text/plain": [
              "<Figure size 1000x500 with 1 Axes>"
            ],
            "image/png": "[encoded data removed]"
          },
          "metadata": {}
        }
      ]
    },
    {
      "cell_type": "markdown",
      "source": [
        "Considering the two decades before and after September 11, 2001, a clearer difference can be observed."
      ],
      "metadata": {
        "id": "SDchgrxw3HFK"
      }
    },
    {
      "cell_type": "code",
      "source": [
        "plt.figure(figsize=(10,5))\n",
        "plt.plot(incidenti_prima[incidenti_prima.index >= 1980], label=\"Accidents before September 11\")\n",
        "plt.plot(incidenti_dopo[incidenti_dopo.index >= 1980], label=\"Accidents after September 11\")\n",
        "plt.plot(morti_prima[morti_prima.index >= 1980], label=\"Fatalities before September 11\")\n",
        "plt.plot(morti_dopo[morti_dopo.index >= 1980], label=\"Fatalities after September 11\")\n",
        "plt.xlabel(\"Year\")\n",
        "plt.ylabel(\"Accidents / Fatalities\")\n",
        "plt.title(\"Trend of accidents and fatalities since 1980\")\n",
        "plt.legend()\n",
        "plt.grid(True)\n",
        "plt.show()"
      ],
      "metadata": {
        "colab": {
          "base_uri": "https://localhost:8080/",
          "height": 487
        },
        "id": "dB7pcAVJ8Qn5",
        "outputId": "ef0995c8-120e-4e9c-b46c-fb96ebf5ace0"
      },
      "execution_count": 46,
      "outputs": [
        {
          "output_type": "display_data",
          "data": {
            "text/plain": [
              "<Figure size 1000x500 with 1 Axes>"
            ],
            "image/png": "[encoded data removed]"
          },
          "metadata": {}
        }
      ]
    },
    {
      "cell_type": "markdown",
      "source": [
        "The September 11 attacks led to an increase in security measures during flights, as can be seen in the graph. The first two decades of the 2000s were marked by fluctuations that eventually resulted in a gradual reduction in the number of fatalities. The number of accidents also slowly decreased, especially starting from 2020."
      ],
      "metadata": {
        "id": "IwZG6h7G2kIl"
      }
    },
    {
      "cell_type": "markdown",
      "source": [
        "###Relationship between countries and annual accidents"
      ],
      "metadata": {
        "id": "K6z6gadFROPY"
      }
    },
    {
      "cell_type": "code",
      "source": [
        "incidenti_per_anno = dataset['year'].value_counts().reset_index()\n",
        "incidenti_per_anno.columns = ['Anno', 'Incidenti']\n",
        "print(incidenti_per_anno.head(30))"
      ],
      "metadata": {
        "colab": {
          "base_uri": "https://localhost:8080/"
        },
        "id": "WZVGkrDIVW3R",
        "outputId": "8c2d4b3d-f44f-4ad7-a77a-78fe1ec6170e"
      },
      "execution_count": 47,
      "outputs": [
        {
          "output_type": "stream",
          "name": "stdout",
          "text": [
            "    Anno  Incidenti\n",
            "0   1944       1505\n",
            "1   1945       1445\n",
            "2   1943        769\n",
            "3   1969        393\n",
            "4   1942        389\n",
            "5   1946        379\n",
            "6   1970        351\n",
            "7   1972        339\n",
            "8   1940        318\n",
            "9   1968        307\n",
            "10  1948        300\n",
            "11  1951        295\n",
            "12  1973        293\n",
            "13  1947        292\n",
            "14  1977        291\n",
            "15  1993        288\n",
            "16  1971        284\n",
            "17  1967        280\n",
            "18  1989        268\n",
            "19  1995        267\n",
            "20  1979        267\n",
            "21  1975        266\n",
            "22  1992        264\n",
            "23  1965        262\n",
            "24  1950        262\n",
            "25  1978        259\n",
            "26  1994        258\n",
            "27  1974        254\n",
            "28  1980        254\n",
            "29  1996        253\n"
          ]
        }
      ]
    },
    {
      "cell_type": "code",
      "source": [
        "incidenti_anno_paese = dataset.groupby(['country', 'year']).size().reset_index()\n",
        "incidenti_anno_paese.columns = ['Paese', 'Anno', 'Incidenti']\n",
        "primi_20 = incidenti_anno_paese.sort_values(by='Incidenti', ascending=False).head(30)\n",
        "print(primi_20)"
      ],
      "metadata": {
        "colab": {
          "base_uri": "https://localhost:8080/"
        },
        "id": "hstPGNcBQqYv",
        "outputId": "ac236abe-d32a-4509-e762-846edacf0856"
      },
      "execution_count": 48,
      "outputs": [
        {
          "output_type": "stream",
          "name": "stdout",
          "text": [
            "                Paese  Anno  Incidenti\n",
            "6009  Unknown country  1945        276\n",
            "5842              USA  1944        180\n",
            "3810      Netherlands  1940        178\n",
            "5841              USA  1943        171\n",
            "1122            China  1945        163\n",
            "3707          Myanmar  1945        149\n",
            "2493            India  1944        144\n",
            "5843              USA  1945        125\n",
            "5723             U.K.  1944        123\n",
            "6008  Unknown country  1944        123\n",
            "1121            China  1944        109\n",
            "2494            India  1945        109\n",
            "2047          Germany  1945        104\n",
            "3706          Myanmar  1944        100\n",
            "1892           France  1944         91\n",
            "3812      Netherlands  1944         90\n",
            "5840              USA  1942         76\n",
            "4388      Philippines  1945         73\n",
            "6007  Unknown country  1943         70\n",
            "5917              USA  2019         69\n",
            "5844              USA  1946         69\n",
            "5845              USA  1947         68\n",
            "5849              USA  1951         67\n",
            "5876              USA  1978         62\n",
            "4084      P.N. Guinea  1944         61\n",
            "5919              USA  2021         60\n",
            "5885              USA  1987         58\n",
            "2835            Italy  1943         57\n",
            "5901              USA  2003         56\n",
            "5918              USA  2020         56\n"
          ]
        }
      ]
    },
    {
      "cell_type": "markdown",
      "source": [
        "Most accidents occurred in the 1940s; 1944 and 1945 together account for nearly 3,000 accidents.\n",
        "The United States is the country where the most accidents took place during those years and still holds this record today (e.g., 2019, 2020, 2021).\n",
        "Unfortunately, for many accidents that occurred in the early 1940s, the location is unknown."
      ],
      "metadata": {
        "id": "D_wbhN2zUl8r"
      }
    },
    {
      "cell_type": "markdown",
      "source": [
        "###Accidents by countries"
      ],
      "metadata": {
        "id": "x0MCSGvK6kRl"
      }
    },
    {
      "cell_type": "code",
      "source": [
        "pip install geopandas"
      ],
      "metadata": {
        "id": "4tZa40OhEU82",
        "colab": {
          "base_uri": "https://localhost:8080/"
        },
        "outputId": "72d42259-96db-47f0-f705-413fc877201d"
      },
      "execution_count": 49,
      "outputs": [
        {
          "output_type": "stream",
          "name": "stdout",
          "text": [
            "Requirement already satisfied: geopandas in /usr/local/lib/python3.11/dist-packages (1.0.1)\n",
            "Requirement already satisfied: numpy>=1.22 in /usr/local/lib/python3.11/dist-packages (from geopandas) (2.0.2)\n",
            "Requirement already satisfied: pyogrio>=0.7.2 in /usr/local/lib/python3.11/dist-packages (from geopandas) (0.11.0)\n",
            "Requirement already satisfied: packaging in /usr/local/lib/python3.11/dist-packages (from geopandas) (24.2)\n",
            "Requirement already satisfied: pandas>=1.4.0 in /usr/local/lib/python3.11/dist-packages (from geopandas) (2.2.2)\n",
            "Requirement already satisfied: pyproj>=3.3.0 in /usr/local/lib/python3.11/dist-packages (from geopandas) (3.7.1)\n",
            "Requirement already satisfied: shapely>=2.0.0 in /usr/local/lib/python3.11/dist-packages (from geopandas) (2.1.1)\n",
            "Requirement already satisfied: python-dateutil>=2.8.2 in /usr/local/lib/python3.11/dist-packages (from pandas>=1.4.0->geopandas) (2.9.0.post0)\n",
            "Requirement already satisfied: pytz>=2020.1 in /usr/local/lib/python3.11/dist-packages (from pandas>=1.4.0->geopandas) (2025.2)\n",
            "Requirement already satisfied: tzdata>=2022.7 in /usr/local/lib/python3.11/dist-packages (from pandas>=1.4.0->geopandas) (2025.2)\n",
            "Requirement already satisfied: certifi in /usr/local/lib/python3.11/dist-packages (from pyogrio>=0.7.2->geopandas) (2025.7.9)\n",
            "Requirement already satisfied: six>=1.5 in /usr/local/lib/python3.11/dist-packages (from python-dateutil>=2.8.2->pandas>=1.4.0->geopandas) (1.17.0)\n"
          ]
        }
      ]
    },
    {
      "cell_type": "code",
      "source": [
        "import geopandas as gpd"
      ],
      "metadata": {
        "id": "gUa11DXp-0O8"
      },
      "execution_count": 50,
      "outputs": []
    },
    {
      "cell_type": "code",
      "source": [
        "incidenti_per_nazione = dataset['country'].value_counts().reset_index()\n",
        "incidenti_per_nazione.columns = ['Paese', 'Incidenti']\n",
        "incidenti_per_nazione"
      ],
      "metadata": {
        "colab": {
          "base_uri": "https://localhost:8080/",
          "height": 423
        },
        "id": "LXcff9ae-5at",
        "outputId": "a94f155e-2250-41a4-9bca-94c2794dc89e"
      },
      "execution_count": 51,
      "outputs": [
        {
          "output_type": "execute_result",
          "data": {
            "text/plain": [
              "               Paese  Incidenti\n",
              "0                USA       4377\n",
              "1             Russia       1422\n",
              "2    Unknown country        838\n",
              "3               U.K.        837\n",
              "4             Canada        826\n",
              "..               ...        ...\n",
              "227        Cook Isl.          1\n",
              "228           Kosovo          1\n",
              "229          Burundi          1\n",
              "230         Eswatini          1\n",
              "231            Macau          1\n",
              "\n",
              "[232 rows x 2 columns]"
            ],
            "text/html": [
              "\n",
              "  <div id=\"df-4342b388-233b-4f05-869d-c3d02afe47de\" class=\"colab-df-container\">\n",
              "    <div>\n",
              "<style scoped>\n",
              "    .dataframe tbody tr th:only-of-type {\n",
              "        vertical-align: middle;\n",
              "    }\n",
              "\n",
              "    .dataframe tbody tr th {\n",
              "        vertical-align: top;\n",
              "    }\n",
              "\n",
              "    .dataframe thead th {\n",
              "        text-align: right;\n",
              "    }\n",
              "</style>\n",
              "<table border=\"1\" class=\"dataframe\">\n",
              "  <thead>\n",
              "    <tr style=\"text-align: right;\">\n",
              "      <th></th>\n",
              "      <th>Paese</th>\n",
              "      <th>Incidenti</th>\n",
              "    </tr>\n",
              "  </thead>\n",
              "  <tbody>\n",
              "    <tr>\n",
              "      <th>0</th>\n",
              "      <td>USA</td>\n",
              "      <td>4377</td>\n",
              "    </tr>\n",
              "    <tr>\n",
              "      <th>1</th>\n",
              "      <td>Russia</td>\n",
              "      <td>1422</td>\n",
              "    </tr>\n",
              "    <tr>\n",
              "      <th>2</th>\n",
              "      <td>Unknown country</td>\n",
              "      <td>838</td>\n",
              "    </tr>\n",
              "    <tr>\n",
              "      <th>3</th>\n",
              "      <td>U.K.</td>\n",
              "      <td>837</td>\n",
              "    </tr>\n",
              "    <tr>\n",
              "      <th>4</th>\n",
              "      <td>Canada</td>\n",
              "      <td>826</td>\n",
              "    </tr>\n",
              "    <tr>\n",
              "      <th>...</th>\n",
              "      <td>...</td>\n",
              "      <td>...</td>\n",
              "    </tr>\n",
              "    <tr>\n",
              "      <th>227</th>\n",
              "      <td>Cook Isl.</td>\n",
              "      <td>1</td>\n",
              "    </tr>\n",
              "    <tr>\n",
              "      <th>228</th>\n",
              "      <td>Kosovo</td>\n",
              "      <td>1</td>\n",
              "    </tr>\n",
              "    <tr>\n",
              "      <th>229</th>\n",
              "      <td>Burundi</td>\n",
              "      <td>1</td>\n",
              "    </tr>\n",
              "    <tr>\n",
              "      <th>230</th>\n",
              "      <td>Eswatini</td>\n",
              "      <td>1</td>\n",
              "    </tr>\n",
              "    <tr>\n",
              "      <th>231</th>\n",
              "      <td>Macau</td>\n",
              "      <td>1</td>\n",
              "    </tr>\n",
              "  </tbody>\n",
              "</table>\n",
              "<p>232 rows × 2 columns</p>\n",
              "</div>\n",
              "    <div class=\"colab-df-buttons\">\n",
              "\n",
              "  <div class=\"colab-df-container\">\n",
              "    <button class=\"colab-df-convert\" onclick=\"convertToInteractive('df-4342b388-233b-4f05-869d-c3d02afe47de')\"\n",
              "            title=\"Convert this dataframe to an interactive table.\"\n",
              "            style=\"display:none;\">\n",
              "\n",
              "  <svg xmlns=\"http://www.w3.org/2000/svg\" height=\"24px\" viewBox=\"0 -960 960 960\">\n",
              "    <path d=\"M120-120v-720h720v720H120Zm60-500h600v-160H180v160Zm220 220h160v-160H400v160Zm0 220h160v-160H400v160ZM180-400h160v-160H180v160Zm440 0h160v-160H620v160ZM180-180h160v-160H180v160Zm440 0h160v-160H620v160Z\"/>\n",
              "  </svg>\n",
              "    </button>\n",
              "\n",
              "  <style>\n",
              "    .colab-df-container {\n",
              "      display:flex;\n",
              "      gap: 12px;\n",
              "    }\n",
              "\n",
              "    .colab-df-convert {\n",
              "      background-color: #E8F0FE;\n",
              "      border: none;\n",
              "      border-radius: 50%;\n",
              "      cursor: pointer;\n",
              "      display: none;\n",
              "      fill: #1967D2;\n",
              "      height: 32px;\n",
              "      padding: 0 0 0 0;\n",
              "      width: 32px;\n",
              "    }\n",
              "\n",
              "    .colab-df-convert:hover {\n",
              "      background-color: #E2EBFA;\n",
              "      box-shadow: 0px 1px 2px rgba(60, 64, 67, 0.3), 0px 1px 3px 1px rgba(60, 64, 67, 0.15);\n",
              "      fill: #174EA6;\n",
              "    }\n",
              "\n",
              "    .colab-df-buttons div {\n",
              "      margin-bottom: 4px;\n",
              "    }\n",
              "\n",
              "    [theme=dark] .colab-df-convert {\n",
              "      background-color: #3B4455;\n",
              "      fill: #D2E3FC;\n",
              "    }\n",
              "\n",
              "    [theme=dark] .colab-df-convert:hover {\n",
              "      background-color: #434B5C;\n",
              "      box-shadow: 0px 1px 3px 1px rgba(0, 0, 0, 0.15);\n",
              "      filter: drop-shadow(0px 1px 2px rgba(0, 0, 0, 0.3));\n",
              "      fill: #FFFFFF;\n",
              "    }\n",
              "  </style>\n",
              "\n",
              "    <script>\n",
              "      const buttonEl =\n",
              "        document.querySelector('#df-4342b388-233b-4f05-869d-c3d02afe47de button.colab-df-convert');\n",
              "      buttonEl.style.display =\n",
              "        google.colab.kernel.accessAllowed ? 'block' : 'none';\n",
              "\n",
              "      async function convertToInteractive(key) {\n",
              "        const element = document.querySelector('#df-4342b388-233b-4f05-869d-c3d02afe47de');\n",
              "        const dataTable =\n",
              "          await google.colab.kernel.invokeFunction('convertToInteractive',\n",
              "                                                    [key], {});\n",
              "        if (!dataTable) return;\n",
              "\n",
              "        const docLinkHtml = 'Like what you see? Visit the ' +\n",
              "          '<a target=\"_blank\" href=https://colab.research.google.com/notebooks/data_table.ipynb>data table notebook</a>'\n",
              "          + ' to learn more about interactive tables.';\n",
              "        element.innerHTML = '';\n",
              "        dataTable['output_type'] = 'display_data';\n",
              "        await google.colab.output.renderOutput(dataTable, element);\n",
              "        const docLink = document.createElement('div');\n",
              "        docLink.innerHTML = docLinkHtml;\n",
              "        element.appendChild(docLink);\n",
              "      }\n",
              "    </script>\n",
              "  </div>\n",
              "\n",
              "\n",
              "    <div id=\"df-1d03c9a7-56fd-40e6-91bd-28c2de6423db\">\n",
              "      <button class=\"colab-df-quickchart\" onclick=\"quickchart('df-1d03c9a7-56fd-40e6-91bd-28c2de6423db')\"\n",
              "                title=\"Suggest charts\"\n",
              "                style=\"display:none;\">\n",
              "\n",
              "<svg xmlns=\"http://www.w3.org/2000/svg\" height=\"24px\"viewBox=\"0 0 24 24\"\n",
              "     width=\"24px\">\n",
              "    <g>\n",
              "        <path d=\"M19 3H5c-1.1 0-2 .9-2 2v14c0 1.1.9 2 2 2h14c1.1 0 2-.9 2-2V5c0-1.1-.9-2-2-2zM9 17H7v-7h2v7zm4 0h-2V7h2v10zm4 0h-2v-4h2v4z\"/>\n",
              "    </g>\n",
              "</svg>\n",
              "      </button>\n",
              "\n",
              "<style>\n",
              "  .colab-df-quickchart {\n",
              "      --bg-color: #E8F0FE;\n",
              "      --fill-color: #1967D2;\n",
              "      --hover-bg-color: #E2EBFA;\n",
              "      --hover-fill-color: #174EA6;\n",
              "      --disabled-fill-color: #AAA;\n",
              "      --disabled-bg-color: #DDD;\n",
              "  }\n",
              "\n",
              "  [theme=dark] .colab-df-quickchart {\n",
              "      --bg-color: #3B4455;\n",
              "      --fill-color: #D2E3FC;\n",
              "      --hover-bg-color: #434B5C;\n",
              "      --hover-fill-color: #FFFFFF;\n",
              "      --disabled-bg-color: #3B4455;\n",
              "      --disabled-fill-color: #666;\n",
              "  }\n",
              "\n",
              "  .colab-df-quickchart {\n",
              "    background-color: var(--bg-color);\n",
              "    border: none;\n",
              "    border-radius: 50%;\n",
              "    cursor: pointer;\n",
              "    display: none;\n",
              "    fill: var(--fill-color);\n",
              "    height: 32px;\n",
              "    padding: 0;\n",
              "    width: 32px;\n",
              "  }\n",
              "\n",
              "  .colab-df-quickchart:hover {\n",
              "    background-color: var(--hover-bg-color);\n",
              "    box-shadow: 0 1px 2px rgba(60, 64, 67, 0.3), 0 1px 3px 1px rgba(60, 64, 67, 0.15);\n",
              "    fill: var(--button-hover-fill-color);\n",
              "  }\n",
              "\n",
              "  .colab-df-quickchart-complete:disabled,\n",
              "  .colab-df-quickchart-complete:disabled:hover {\n",
              "    background-color: var(--disabled-bg-color);\n",
              "    fill: var(--disabled-fill-color);\n",
              "    box-shadow: none;\n",
              "  }\n",
              "\n",
              "  .colab-df-spinner {\n",
              "    border: 2px solid var(--fill-color);\n",
              "    border-color: transparent;\n",
              "    border-bottom-color: var(--fill-color);\n",
              "    animation:\n",
              "      spin 1s steps(1) infinite;\n",
              "  }\n",
              "\n",
              "  @keyframes spin {\n",
              "    0% {\n",
              "      border-color: transparent;\n",
              "      border-bottom-color: var(--fill-color);\n",
              "      border-left-color: var(--fill-color);\n",
              "    }\n",
              "    20% {\n",
              "      border-color: transparent;\n",
              "      border-left-color: var(--fill-color);\n",
              "      border-top-color: var(--fill-color);\n",
              "    }\n",
              "    30% {\n",
              "      border-color: transparent;\n",
              "      border-left-color: var(--fill-color);\n",
              "      border-top-color: var(--fill-color);\n",
              "      border-right-color: var(--fill-color);\n",
              "    }\n",
              "    40% {\n",
              "      border-color: transparent;\n",
              "      border-right-color: var(--fill-color);\n",
              "      border-top-color: var(--fill-color);\n",
              "    }\n",
              "    60% {\n",
              "      border-color: transparent;\n",
              "      border-right-color: var(--fill-color);\n",
              "    }\n",
              "    80% {\n",
              "      border-color: transparent;\n",
              "      border-right-color: var(--fill-color);\n",
              "      border-bottom-color: var(--fill-color);\n",
              "    }\n",
              "    90% {\n",
              "      border-color: transparent;\n",
              "      border-bottom-color: var(--fill-color);\n",
              "    }\n",
              "  }\n",
              "</style>\n",
              "\n",
              "      <script>\n",
              "        async function quickchart(key) {\n",
              "          const quickchartButtonEl =\n",
              "            document.querySelector('#' + key + ' button');\n",
              "          quickchartButtonEl.disabled = true;  // To prevent multiple clicks.\n",
              "          quickchartButtonEl.classList.add('colab-df-spinner');\n",
              "          try {\n",
              "            const charts = await google.colab.kernel.invokeFunction(\n",
              "                'suggestCharts', [key], {});\n",
              "          } catch (error) {\n",
              "            console.error('Error during call to suggestCharts:', error);\n",
              "          }\n",
              "          quickchartButtonEl.classList.remove('colab-df-spinner');\n",
              "          quickchartButtonEl.classList.add('colab-df-quickchart-complete');\n",
              "        }\n",
              "        (() => {\n",
              "          let quickchartButtonEl =\n",
              "            document.querySelector('#df-1d03c9a7-56fd-40e6-91bd-28c2de6423db button');\n",
              "          quickchartButtonEl.style.display =\n",
              "            google.colab.kernel.accessAllowed ? 'block' : 'none';\n",
              "        })();\n",
              "      </script>\n",
              "    </div>\n",
              "\n",
              "  <div id=\"id_a2defbc9-3956-4e4a-b98f-b4c162cf40bf\">\n",
              "    <style>\n",
              "      .colab-df-generate {\n",
              "        background-color: #E8F0FE;\n",
              "        border: none;\n",
              "        border-radius: 50%;\n",
              "        cursor: pointer;\n",
              "        display: none;\n",
              "        fill: #1967D2;\n",
              "        height: 32px;\n",
              "        padding: 0 0 0 0;\n",
              "        width: 32px;\n",
              "      }\n",
              "\n",
              "      .colab-df-generate:hover {\n",
              "        background-color: #E2EBFA;\n",
              "        box-shadow: 0px 1px 2px rgba(60, 64, 67, 0.3), 0px 1px 3px 1px rgba(60, 64, 67, 0.15);\n",
              "        fill: #174EA6;\n",
              "      }\n",
              "\n",
              "      [theme=dark] .colab-df-generate {\n",
              "        background-color: #3B4455;\n",
              "        fill: #D2E3FC;\n",
              "      }\n",
              "\n",
              "      [theme=dark] .colab-df-generate:hover {\n",
              "        background-color: #434B5C;\n",
              "        box-shadow: 0px 1px 3px 1px rgba(0, 0, 0, 0.15);\n",
              "        filter: drop-shadow(0px 1px 2px rgba(0, 0, 0, 0.3));\n",
              "        fill: #FFFFFF;\n",
              "      }\n",
              "    </style>\n",
              "    <button class=\"colab-df-generate\" onclick=\"generateWithVariable('incidenti_per_nazione')\"\n",
              "            title=\"Generate code using this dataframe.\"\n",
              "            style=\"display:none;\">\n",
              "\n",
              "  <svg xmlns=\"http://www.w3.org/2000/svg\" height=\"24px\"viewBox=\"0 0 24 24\"\n",
              "       width=\"24px\">\n",
              "    <path d=\"M7,19H8.4L18.45,9,17,7.55,7,17.6ZM5,21V16.75L18.45,3.32a2,2,0,0,1,2.83,0l1.4,1.43a1.91,1.91,0,0,1,.58,1.4,1.91,1.91,0,0,1-.58,1.4L9.25,21ZM18.45,9,17,7.55Zm-12,3A5.31,5.31,0,0,0,4.9,8.1,5.31,5.31,0,0,0,1,6.5,5.31,5.31,0,0,0,4.9,4.9,5.31,5.31,0,0,0,6.5,1,5.31,5.31,0,0,0,8.1,4.9,5.31,5.31,0,0,0,12,6.5,5.46,5.46,0,0,0,6.5,12Z\"/>\n",
              "  </svg>\n",
              "    </button>\n",
              "    <script>\n",
              "      (() => {\n",
              "      const buttonEl =\n",
              "        document.querySelector('#id_a2defbc9-3956-4e4a-b98f-b4c162cf40bf button.colab-df-generate');\n",
              "      buttonEl.style.display =\n",
              "        google.colab.kernel.accessAllowed ? 'block' : 'none';\n",
              "\n",
              "      buttonEl.onclick = () => {\n",
              "        google.colab.notebook.generateWithVariable('incidenti_per_nazione');\n",
              "      }\n",
              "      })();\n",
              "    </script>\n",
              "  </div>\n",
              "\n",
              "    </div>\n",
              "  </div>\n"
            ],
            "application/vnd.google.colaboratory.intrinsic+json": {
              "type": "dataframe",
              "variable_name": "incidenti_per_nazione",
              "summary": "{\n  \"name\": \"incidenti_per_nazione\",\n  \"rows\": 232,\n  \"fields\": [\n    {\n      \"column\": \"Paese\",\n      \"properties\": {\n        \"dtype\": \"string\",\n        \"num_unique_values\": 232,\n        \"samples\": [\n          \"Tuvalu\",\n          \"Nepal\",\n          \"China\"\n        ],\n        \"semantic_type\": \"\",\n        \"description\": \"\"\n      }\n    },\n    {\n      \"column\": \"Incidenti\",\n      \"properties\": {\n        \"dtype\": \"number\",\n        \"std\": 327,\n        \"min\": 1,\n        \"max\": 4377,\n        \"num_unique_values\": 111,\n        \"samples\": [\n          35,\n          457,\n          826\n        ],\n        \"semantic_type\": \"\",\n        \"description\": \"\"\n      }\n    }\n  ]\n}"
            }
          },
          "metadata": {},
          "execution_count": 51
        }
      ]
    },
    {
      "cell_type": "code",
      "source": [
        "from zipfile import ZipFile\n",
        "from google.colab import files\n",
        "uploaded = files.upload()"
      ],
      "metadata": {
        "colab": {
          "base_uri": "https://localhost:8080/",
          "height": 281
        },
        "id": "zyUAxijU-_Wt",
        "outputId": "39d64951-eb0b-4255-e29d-98f4fddf0fe4"
      },
      "execution_count": 52,
      "outputs": [
        {
          "output_type": "display_data",
          "data": {
            "text/plain": [
              "<IPython.core.display.HTML object>"
            ],
            "text/html": [
              "\n",
              "     <input type=\"file\" id=\"files-fc33a668-6a21-4e42-b14b-61db9e6e5ea3\" name=\"files[]\" multiple disabled\n",
              "        style=\"border:none\" />\n",
              "     <output id=\"result-fc33a668-6a21-4e42-b14b-61db9e6e5ea3\">\n",
              "      Upload widget is only available when the cell has been executed in the\n",
              "      current browser session. Please rerun this cell to enable.\n",
              "      </output>\n",
              "      <script>// Copyright 2017 Google LLC\n",
              "//\n",
              "// Licensed under the Apache License, Version 2.0 (the \"License\");\n",
              "// you may not use this file except in compliance with the License.\n",
              "// You may obtain a copy of the License at\n",
              "//\n",
              "//      http://www.apache.org/licenses/LICENSE-2.0\n",
              "//\n",
              "// Unless required by applicable law or agreed to in writing, software\n",
              "// distributed under the License is distributed on an \"AS IS\" BASIS,\n",
              "// WITHOUT WARRANTIES OR CONDITIONS OF ANY KIND, either express or implied.\n",
              "// See the License for the specific language governing permissions and\n",
              "// limitations under the License.\n",
              "\n",
              "/**\n",
              " * @fileoverview Helpers for google.colab Python module.\n",
              " */\n",
              "(function(scope) {\n",
              "function span(text, styleAttributes = {}) {\n",
              "  const element = document.createElement('span');\n",
              "  element.textContent = text;\n",
              "  for (const key of Object.keys(styleAttributes)) {\n",
              "    element.style[key] = styleAttributes[key];\n",
              "  }\n",
              "  return element;\n",
              "}\n",
              "\n",
              "// Max number of bytes which will be uploaded at a time.\n",
              "const MAX_PAYLOAD_SIZE = 100 * 1024;\n",
              "\n",
              "function _uploadFiles(inputId, outputId) {\n",
              "  const steps = uploadFilesStep(inputId, outputId);\n",
              "  const outputElement = document.getElementById(outputId);\n",
              "  // Cache steps on the outputElement to make it available for the next call\n",
              "  // to uploadFilesContinue from Python.\n",
              "  outputElement.steps = steps;\n",
              "\n",
              "  return _uploadFilesContinue(outputId);\n",
              "}\n",
              "\n",
              "// This is roughly an async generator (not supported in the browser yet),\n",
              "// where there are multiple asynchronous steps and the Python side is going\n",
              "// to poll for completion of each step.\n",
              "// This uses a Promise to block the python side on completion of each step,\n",
              "// then passes the result of the previous step as the input to the next step.\n",
              "function _uploadFilesContinue(outputId) {\n",
              "  const outputElement = document.getElementById(outputId);\n",
              "  const steps = outputElement.steps;\n",
              "\n",
              "  const next = steps.next(outputElement.lastPromiseValue);\n",
              "  return Promise.resolve(next.value.promise).then((value) => {\n",
              "    // Cache the last promise value to make it available to the next\n",
              "    // step of the generator.\n",
              "    outputElement.lastPromiseValue = value;\n",
              "    return next.value.response;\n",
              "  });\n",
              "}\n",
              "\n",
              "/**\n",
              " * Generator function which is called between each async step of the upload\n",
              " * process.\n",
              " * @param {string} inputId Element ID of the input file picker element.\n",
              " * @param {string} outputId Element ID of the output display.\n",
              " * @return {!Iterable<!Object>} Iterable of next steps.\n",
              " */\n",
              "function* uploadFilesStep(inputId, outputId) {\n",
              "  const inputElement = document.getElementById(inputId);\n",
              "  inputElement.disabled = false;\n",
              "\n",
              "  const outputElement = document.getElementById(outputId);\n",
              "  outputElement.innerHTML = '';\n",
              "\n",
              "  const pickedPromise = new Promise((resolve) => {\n",
              "    inputElement.addEventListener('change', (e) => {\n",
              "      resolve(e.target.files);\n",
              "    });\n",
              "  });\n",
              "\n",
              "  const cancel = document.createElement('button');\n",
              "  inputElement.parentElement.appendChild(cancel);\n",
              "  cancel.textContent = 'Cancel upload';\n",
              "  const cancelPromise = new Promise((resolve) => {\n",
              "    cancel.onclick = () => {\n",
              "      resolve(null);\n",
              "    };\n",
              "  });\n",
              "\n",
              "  // Wait for the user to pick the files.\n",
              "  const files = yield {\n",
              "    promise: Promise.race([pickedPromise, cancelPromise]),\n",
              "    response: {\n",
              "      action: 'starting',\n",
              "    }\n",
              "  };\n",
              "\n",
              "  cancel.remove();\n",
              "\n",
              "  // Disable the input element since further picks are not allowed.\n",
              "  inputElement.disabled = true;\n",
              "\n",
              "  if (!files) {\n",
              "    return {\n",
              "      response: {\n",
              "        action: 'complete',\n",
              "      }\n",
              "    };\n",
              "  }\n",
              "\n",
              "  for (const file of files) {\n",
              "    const li = document.createElement('li');\n",
              "    li.append(span(file.name, {fontWeight: 'bold'}));\n",
              "    li.append(span(\n",
              "        `(${file.type || 'n/a'}) - ${file.size} bytes, ` +\n",
              "        `last modified: ${\n",
              "            file.lastModifiedDate ? file.lastModifiedDate.toLocaleDateString() :\n",
              "                                    'n/a'} - `));\n",
              "    const percent = span('0% done');\n",
              "    li.appendChild(percent);\n",
              "\n",
              "    outputElement.appendChild(li);\n",
              "\n",
              "    const fileDataPromise = new Promise((resolve) => {\n",
              "      const reader = new FileReader();\n",
              "      reader.onload = (e) => {\n",
              "        resolve(e.target.result);\n",
              "      };\n",
              "      reader.readAsArrayBuffer(file);\n",
              "    });\n",
              "    // Wait for the data to be ready.\n",
              "    let fileData = yield {\n",
              "      promise: fileDataPromise,\n",
              "      response: {\n",
              "        action: 'continue',\n",
              "      }\n",
              "    };\n",
              "\n",
              "    // Use a chunked sending to avoid message size limits. See b/62115660.\n",
              "    let position = 0;\n",
              "    do {\n",
              "      const length = Math.min(fileData.byteLength - position, MAX_PAYLOAD_SIZE);\n",
              "      const chunk = new Uint8Array(fileData, position, length);\n",
              "      position += length;\n",
              "\n",
              "      const base64 = btoa(String.fromCharCode.apply(null, chunk));\n",
              "      yield {\n",
              "        response: {\n",
              "          action: 'append',\n",
              "          file: file.name,\n",
              "          data: base64,\n",
              "        },\n",
              "      };\n",
              "\n",
              "      let percentDone = fileData.byteLength === 0 ?\n",
              "          100 :\n",
              "          Math.round((position / fileData.byteLength) * 100);\n",
              "      percent.textContent = `${percentDone}% done`;\n",
              "\n",
              "    } while (position < fileData.byteLength);\n",
              "  }\n",
              "\n",
              "  // All done.\n",
              "  yield {\n",
              "    response: {\n",
              "      action: 'complete',\n",
              "    }\n",
              "  };\n",
              "}\n",
              "\n",
              "scope.google = scope.google || {};\n",
              "scope.google.colab = scope.google.colab || {};\n",
              "scope.google.colab._files = {\n",
              "  _uploadFiles,\n",
              "  _uploadFilesContinue,\n",
              "};\n",
              "})(self);\n",
              "</script> "
            ]
          },
          "metadata": {}
        },
        {
          "output_type": "stream",
          "name": "stdout",
          "text": [
            "Saving ne_110m_admin_0_countries.cpg to ne_110m_admin_0_countries.cpg\n",
            "Saving ne_110m_admin_0_countries.dbf to ne_110m_admin_0_countries.dbf\n",
            "Saving ne_110m_admin_0_countries.prj to ne_110m_admin_0_countries.prj\n",
            "Saving ne_110m_admin_0_countries.README.html to ne_110m_admin_0_countries.README.html\n",
            "Saving ne_110m_admin_0_countries.shp to ne_110m_admin_0_countries.shp\n",
            "Saving ne_110m_admin_0_countries.shx to ne_110m_admin_0_countries.shx\n",
            "Saving ne_110m_admin_0_countries.VERSION.txt to ne_110m_admin_0_countries.VERSION.txt\n"
          ]
        }
      ]
    },
    {
      "cell_type": "code",
      "source": [
        "world_map = gpd.read_file(\"ne_110m_admin_0_countries.shp\")\n",
        "world_map"
      ],
      "metadata": {
        "colab": {
          "base_uri": "https://localhost:8080/",
          "height": 1000
        },
        "id": "K-Szt1V4_qhD",
        "outputId": "39dfc0fa-eb87-4cec-95a9-09093e8cf4b1"
      },
      "execution_count": 53,
      "outputs": [
        {
          "output_type": "execute_result",
          "data": {
            "text/plain": [
              "          featurecla  scalerank  LABELRANK                   SOVEREIGNT  \\\n",
              "0    Admin-0 country          1          6                         Fiji   \n",
              "1    Admin-0 country          1          3  United Republic of Tanzania   \n",
              "2    Admin-0 country          1          7               Western Sahara   \n",
              "3    Admin-0 country          1          2                       Canada   \n",
              "4    Admin-0 country          1          2     United States of America   \n",
              "..               ...        ...        ...                          ...   \n",
              "172  Admin-0 country          1          5           Republic of Serbia   \n",
              "173  Admin-0 country          1          6                   Montenegro   \n",
              "174  Admin-0 country          1          6                       Kosovo   \n",
              "175  Admin-0 country          1          5          Trinidad and Tobago   \n",
              "176  Admin-0 country          1          3                  South Sudan   \n",
              "\n",
              "    SOV_A3  ADM0_DIF  LEVEL               TYPE TLC  \\\n",
              "0      FJI         0      2  Sovereign country   1   \n",
              "1      TZA         0      2  Sovereign country   1   \n",
              "2      SAH         0      2      Indeterminate   1   \n",
              "3      CAN         0      2  Sovereign country   1   \n",
              "4      US1         1      2            Country   1   \n",
              "..     ...       ...    ...                ...  ..   \n",
              "172    SRB         0      2  Sovereign country   1   \n",
              "173    MNE         0      2  Sovereign country   1   \n",
              "174    KOS         0      2           Disputed   1   \n",
              "175    TTO         0      2  Sovereign country   1   \n",
              "176    SDS         0      2  Sovereign country   1   \n",
              "\n",
              "                           ADMIN  ...        FCLASS_TR     FCLASS_ID  \\\n",
              "0                           Fiji  ...             None          None   \n",
              "1    United Republic of Tanzania  ...             None          None   \n",
              "2                 Western Sahara  ...     Unrecognized  Unrecognized   \n",
              "3                         Canada  ...             None          None   \n",
              "4       United States of America  ...             None          None   \n",
              "..                           ...  ...              ...           ...   \n",
              "172           Republic of Serbia  ...             None          None   \n",
              "173                   Montenegro  ...             None          None   \n",
              "174                       Kosovo  ...  Admin-0 country  Unrecognized   \n",
              "175          Trinidad and Tobago  ...             None          None   \n",
              "176                  South Sudan  ...             None          None   \n",
              "\n",
              "           FCLASS_PL     FCLASS_GR        FCLASS_IT        FCLASS_NL  \\\n",
              "0               None          None             None             None   \n",
              "1               None          None             None             None   \n",
              "2       Unrecognized          None             None     Unrecognized   \n",
              "3               None          None             None             None   \n",
              "4               None          None             None             None   \n",
              "..               ...           ...              ...              ...   \n",
              "172             None          None             None             None   \n",
              "173             None          None             None             None   \n",
              "174  Admin-0 country  Unrecognized  Admin-0 country  Admin-0 country   \n",
              "175             None          None             None             None   \n",
              "176             None          None             None             None   \n",
              "\n",
              "           FCLASS_SE        FCLASS_BD     FCLASS_UA  \\\n",
              "0               None             None          None   \n",
              "1               None             None          None   \n",
              "2               None             None          None   \n",
              "3               None             None          None   \n",
              "4               None             None          None   \n",
              "..               ...              ...           ...   \n",
              "172             None             None          None   \n",
              "173             None             None          None   \n",
              "174  Admin-0 country  Admin-0 country  Unrecognized   \n",
              "175             None             None          None   \n",
              "176             None             None          None   \n",
              "\n",
              "                                              geometry  \n",
              "0    MULTIPOLYGON (((180 -16.06713, 180 -16.55522, ...  \n",
              "1    POLYGON ((33.90371 -0.95, 34.07262 -1.05982, 3...  \n",
              "2    POLYGON ((-8.66559 27.65643, -8.66512 27.58948...  \n",
              "3    MULTIPOLYGON (((-122.84 49, -122.97421 49.0025...  \n",
              "4    MULTIPOLYGON (((-122.84 49, -120 49, -117.0312...  \n",
              "..                                                 ...  \n",
              "172  POLYGON ((18.82982 45.90887, 18.82984 45.90888...  \n",
              "173  POLYGON ((20.0707 42.58863, 19.80161 42.50009,...  \n",
              "174  POLYGON ((20.59025 41.85541, 20.52295 42.21787...  \n",
              "175  POLYGON ((-61.68 10.76, -61.105 10.89, -60.895...  \n",
              "176  POLYGON ((30.83385 3.50917, 29.9535 4.1737, 29...  \n",
              "\n",
              "[177 rows x 169 columns]"
            ],
            "text/html": [
              "\n",
              "  <div id=\"df-b7d6e312-e515-4b79-8315-0b3abcc013d8\" class=\"colab-df-container\">\n",
              "    <div>\n",
              "<style scoped>\n",
              "    .dataframe tbody tr th:only-of-type {\n",
              "        vertical-align: middle;\n",
              "    }\n",
              "\n",
              "    .dataframe tbody tr th {\n",
              "        vertical-align: top;\n",
              "    }\n",
              "\n",
              "    .dataframe thead th {\n",
              "        text-align: right;\n",
              "    }\n",
              "</style>\n",
              "<table border=\"1\" class=\"dataframe\">\n",
              "  <thead>\n",
              "    <tr style=\"text-align: right;\">\n",
              "      <th></th>\n",
              "      <th>featurecla</th>\n",
              "      <th>scalerank</th>\n",
              "      <th>LABELRANK</th>\n",
              "      <th>SOVEREIGNT</th>\n",
              "      <th>SOV_A3</th>\n",
              "      <th>ADM0_DIF</th>\n",
              "      <th>LEVEL</th>\n",
              "      <th>TYPE</th>\n",
              "      <th>TLC</th>\n",
              "      <th>ADMIN</th>\n",
              "      <th>...</th>\n",
              "      <th>FCLASS_TR</th>\n",
              "      <th>FCLASS_ID</th>\n",
              "      <th>FCLASS_PL</th>\n",
              "      <th>FCLASS_GR</th>\n",
              "      <th>FCLASS_IT</th>\n",
              "      <th>FCLASS_NL</th>\n",
              "      <th>FCLASS_SE</th>\n",
              "      <th>FCLASS_BD</th>\n",
              "      <th>FCLASS_UA</th>\n",
              "      <th>geometry</th>\n",
              "    </tr>\n",
              "  </thead>\n",
              "  <tbody>\n",
              "    <tr>\n",
              "      <th>0</th>\n",
              "      <td>Admin-0 country</td>\n",
              "      <td>1</td>\n",
              "      <td>6</td>\n",
              "      <td>Fiji</td>\n",
              "      <td>FJI</td>\n",
              "      <td>0</td>\n",
              "      <td>2</td>\n",
              "      <td>Sovereign country</td>\n",
              "      <td>1</td>\n",
              "      <td>Fiji</td>\n",
              "      <td>...</td>\n",
              "      <td>None</td>\n",
              "      <td>None</td>\n",
              "      <td>None</td>\n",
              "      <td>None</td>\n",
              "      <td>None</td>\n",
              "      <td>None</td>\n",
              "      <td>None</td>\n",
              "      <td>None</td>\n",
              "      <td>None</td>\n",
              "      <td>MULTIPOLYGON (((180 -16.06713, 180 -16.55522, ...</td>\n",
              "    </tr>\n",
              "    <tr>\n",
              "      <th>1</th>\n",
              "      <td>Admin-0 country</td>\n",
              "      <td>1</td>\n",
              "      <td>3</td>\n",
              "      <td>United Republic of Tanzania</td>\n",
              "      <td>TZA</td>\n",
              "      <td>0</td>\n",
              "      <td>2</td>\n",
              "      <td>Sovereign country</td>\n",
              "      <td>1</td>\n",
              "      <td>United Republic of Tanzania</td>\n",
              "      <td>...</td>\n",
              "      <td>None</td>\n",
              "      <td>None</td>\n",
              "      <td>None</td>\n",
              "      <td>None</td>\n",
              "      <td>None</td>\n",
              "      <td>None</td>\n",
              "      <td>None</td>\n",
              "      <td>None</td>\n",
              "      <td>None</td>\n",
              "      <td>POLYGON ((33.90371 -0.95, 34.07262 -1.05982, 3...</td>\n",
              "    </tr>\n",
              "    <tr>\n",
              "      <th>2</th>\n",
              "      <td>Admin-0 country</td>\n",
              "      <td>1</td>\n",
              "      <td>7</td>\n",
              "      <td>Western Sahara</td>\n",
              "      <td>SAH</td>\n",
              "      <td>0</td>\n",
              "      <td>2</td>\n",
              "      <td>Indeterminate</td>\n",
              "      <td>1</td>\n",
              "      <td>Western Sahara</td>\n",
              "      <td>...</td>\n",
              "      <td>Unrecognized</td>\n",
              "      <td>Unrecognized</td>\n",
              "      <td>Unrecognized</td>\n",
              "      <td>None</td>\n",
              "      <td>None</td>\n",
              "      <td>Unrecognized</td>\n",
              "      <td>None</td>\n",
              "      <td>None</td>\n",
              "      <td>None</td>\n",
              "      <td>POLYGON ((-8.66559 27.65643, -8.66512 27.58948...</td>\n",
              "    </tr>\n",
              "    <tr>\n",
              "      <th>3</th>\n",
              "      <td>Admin-0 country</td>\n",
              "      <td>1</td>\n",
              "      <td>2</td>\n",
              "      <td>Canada</td>\n",
              "      <td>CAN</td>\n",
              "      <td>0</td>\n",
              "      <td>2</td>\n",
              "      <td>Sovereign country</td>\n",
              "      <td>1</td>\n",
              "      <td>Canada</td>\n",
              "      <td>...</td>\n",
              "      <td>None</td>\n",
              "      <td>None</td>\n",
              "      <td>None</td>\n",
              "      <td>None</td>\n",
              "      <td>None</td>\n",
              "      <td>None</td>\n",
              "      <td>None</td>\n",
              "      <td>None</td>\n",
              "      <td>None</td>\n",
              "      <td>MULTIPOLYGON (((-122.84 49, -122.97421 49.0025...</td>\n",
              "    </tr>\n",
              "    <tr>\n",
              "      <th>4</th>\n",
              "      <td>Admin-0 country</td>\n",
              "      <td>1</td>\n",
              "      <td>2</td>\n",
              "      <td>United States of America</td>\n",
              "      <td>US1</td>\n",
              "      <td>1</td>\n",
              "      <td>2</td>\n",
              "      <td>Country</td>\n",
              "      <td>1</td>\n",
              "      <td>United States of America</td>\n",
              "      <td>...</td>\n",
              "      <td>None</td>\n",
              "      <td>None</td>\n",
              "      <td>None</td>\n",
              "      <td>None</td>\n",
              "      <td>None</td>\n",
              "      <td>None</td>\n",
              "      <td>None</td>\n",
              "      <td>None</td>\n",
              "      <td>None</td>\n",
              "      <td>MULTIPOLYGON (((-122.84 49, -120 49, -117.0312...</td>\n",
              "    </tr>\n",
              "    <tr>\n",
              "      <th>...</th>\n",
              "      <td>...</td>\n",
              "      <td>...</td>\n",
              "      <td>...</td>\n",
              "      <td>...</td>\n",
              "      <td>...</td>\n",
              "      <td>...</td>\n",
              "      <td>...</td>\n",
              "      <td>...</td>\n",
              "      <td>...</td>\n",
              "      <td>...</td>\n",
              "      <td>...</td>\n",
              "      <td>...</td>\n",
              "      <td>...</td>\n",
              "      <td>...</td>\n",
              "      <td>...</td>\n",
              "      <td>...</td>\n",
              "      <td>...</td>\n",
              "      <td>...</td>\n",
              "      <td>...</td>\n",
              "      <td>...</td>\n",
              "      <td>...</td>\n",
              "    </tr>\n",
              "    <tr>\n",
              "      <th>172</th>\n",
              "      <td>Admin-0 country</td>\n",
              "      <td>1</td>\n",
              "      <td>5</td>\n",
              "      <td>Republic of Serbia</td>\n",
              "      <td>SRB</td>\n",
              "      <td>0</td>\n",
              "      <td>2</td>\n",
              "      <td>Sovereign country</td>\n",
              "      <td>1</td>\n",
              "      <td>Republic of Serbia</td>\n",
              "      <td>...</td>\n",
              "      <td>None</td>\n",
              "      <td>None</td>\n",
              "      <td>None</td>\n",
              "      <td>None</td>\n",
              "      <td>None</td>\n",
              "      <td>None</td>\n",
              "      <td>None</td>\n",
              "      <td>None</td>\n",
              "      <td>None</td>\n",
              "      <td>POLYGON ((18.82982 45.90887, 18.82984 45.90888...</td>\n",
              "    </tr>\n",
              "    <tr>\n",
              "      <th>173</th>\n",
              "      <td>Admin-0 country</td>\n",
              "      <td>1</td>\n",
              "      <td>6</td>\n",
              "      <td>Montenegro</td>\n",
              "      <td>MNE</td>\n",
              "      <td>0</td>\n",
              "      <td>2</td>\n",
              "      <td>Sovereign country</td>\n",
              "      <td>1</td>\n",
              "      <td>Montenegro</td>\n",
              "      <td>...</td>\n",
              "      <td>None</td>\n",
              "      <td>None</td>\n",
              "      <td>None</td>\n",
              "      <td>None</td>\n",
              "      <td>None</td>\n",
              "      <td>None</td>\n",
              "      <td>None</td>\n",
              "      <td>None</td>\n",
              "      <td>None</td>\n",
              "      <td>POLYGON ((20.0707 42.58863, 19.80161 42.50009,...</td>\n",
              "    </tr>\n",
              "    <tr>\n",
              "      <th>174</th>\n",
              "      <td>Admin-0 country</td>\n",
              "      <td>1</td>\n",
              "      <td>6</td>\n",
              "      <td>Kosovo</td>\n",
              "      <td>KOS</td>\n",
              "      <td>0</td>\n",
              "      <td>2</td>\n",
              "      <td>Disputed</td>\n",
              "      <td>1</td>\n",
              "      <td>Kosovo</td>\n",
              "      <td>...</td>\n",
              "      <td>Admin-0 country</td>\n",
              "      <td>Unrecognized</td>\n",
              "      <td>Admin-0 country</td>\n",
              "      <td>Unrecognized</td>\n",
              "      <td>Admin-0 country</td>\n",
              "      <td>Admin-0 country</td>\n",
              "      <td>Admin-0 country</td>\n",
              "      <td>Admin-0 country</td>\n",
              "      <td>Unrecognized</td>\n",
              "      <td>POLYGON ((20.59025 41.85541, 20.52295 42.21787...</td>\n",
              "    </tr>\n",
              "    <tr>\n",
              "      <th>175</th>\n",
              "      <td>Admin-0 country</td>\n",
              "      <td>1</td>\n",
              "      <td>5</td>\n",
              "      <td>Trinidad and Tobago</td>\n",
              "      <td>TTO</td>\n",
              "      <td>0</td>\n",
              "      <td>2</td>\n",
              "      <td>Sovereign country</td>\n",
              "      <td>1</td>\n",
              "      <td>Trinidad and Tobago</td>\n",
              "      <td>...</td>\n",
              "      <td>None</td>\n",
              "      <td>None</td>\n",
              "      <td>None</td>\n",
              "      <td>None</td>\n",
              "      <td>None</td>\n",
              "      <td>None</td>\n",
              "      <td>None</td>\n",
              "      <td>None</td>\n",
              "      <td>None</td>\n",
              "      <td>POLYGON ((-61.68 10.76, -61.105 10.89, -60.895...</td>\n",
              "    </tr>\n",
              "    <tr>\n",
              "      <th>176</th>\n",
              "      <td>Admin-0 country</td>\n",
              "      <td>1</td>\n",
              "      <td>3</td>\n",
              "      <td>South Sudan</td>\n",
              "      <td>SDS</td>\n",
              "      <td>0</td>\n",
              "      <td>2</td>\n",
              "      <td>Sovereign country</td>\n",
              "      <td>1</td>\n",
              "      <td>South Sudan</td>\n",
              "      <td>...</td>\n",
              "      <td>None</td>\n",
              "      <td>None</td>\n",
              "      <td>None</td>\n",
              "      <td>None</td>\n",
              "      <td>None</td>\n",
              "      <td>None</td>\n",
              "      <td>None</td>\n",
              "      <td>None</td>\n",
              "      <td>None</td>\n",
              "      <td>POLYGON ((30.83385 3.50917, 29.9535 4.1737, 29...</td>\n",
              "    </tr>\n",
              "  </tbody>\n",
              "</table>\n",
              "<p>177 rows × 169 columns</p>\n",
              "</div>\n",
              "    <div class=\"colab-df-buttons\">\n",
              "\n",
              "  <div class=\"colab-df-container\">\n",
              "    <button class=\"colab-df-convert\" onclick=\"convertToInteractive('df-b7d6e312-e515-4b79-8315-0b3abcc013d8')\"\n",
              "            title=\"Convert this dataframe to an interactive table.\"\n",
              "            style=\"display:none;\">\n",
              "\n",
              "  <svg xmlns=\"http://www.w3.org/2000/svg\" height=\"24px\" viewBox=\"0 -960 960 960\">\n",
              "    <path d=\"M120-120v-720h720v720H120Zm60-500h600v-160H180v160Zm220 220h160v-160H400v160Zm0 220h160v-160H400v160ZM180-400h160v-160H180v160Zm440 0h160v-160H620v160ZM180-180h160v-160H180v160Zm440 0h160v-160H620v160Z\"/>\n",
              "  </svg>\n",
              "    </button>\n",
              "\n",
              "  <style>\n",
              "    .colab-df-container {\n",
              "      display:flex;\n",
              "      gap: 12px;\n",
              "    }\n",
              "\n",
              "    .colab-df-convert {\n",
              "      background-color: #E8F0FE;\n",
              "      border: none;\n",
              "      border-radius: 50%;\n",
              "      cursor: pointer;\n",
              "      display: none;\n",
              "      fill: #1967D2;\n",
              "      height: 32px;\n",
              "      padding: 0 0 0 0;\n",
              "      width: 32px;\n",
              "    }\n",
              "\n",
              "    .colab-df-convert:hover {\n",
              "      background-color: #E2EBFA;\n",
              "      box-shadow: 0px 1px 2px rgba(60, 64, 67, 0.3), 0px 1px 3px 1px rgba(60, 64, 67, 0.15);\n",
              "      fill: #174EA6;\n",
              "    }\n",
              "\n",
              "    .colab-df-buttons div {\n",
              "      margin-bottom: 4px;\n",
              "    }\n",
              "\n",
              "    [theme=dark] .colab-df-convert {\n",
              "      background-color: #3B4455;\n",
              "      fill: #D2E3FC;\n",
              "    }\n",
              "\n",
              "    [theme=dark] .colab-df-convert:hover {\n",
              "      background-color: #434B5C;\n",
              "      box-shadow: 0px 1px 3px 1px rgba(0, 0, 0, 0.15);\n",
              "      filter: drop-shadow(0px 1px 2px rgba(0, 0, 0, 0.3));\n",
              "      fill: #FFFFFF;\n",
              "    }\n",
              "  </style>\n",
              "\n",
              "    <script>\n",
              "      const buttonEl =\n",
              "        document.querySelector('#df-b7d6e312-e515-4b79-8315-0b3abcc013d8 button.colab-df-convert');\n",
              "      buttonEl.style.display =\n",
              "        google.colab.kernel.accessAllowed ? 'block' : 'none';\n",
              "\n",
              "      async function convertToInteractive(key) {\n",
              "        const element = document.querySelector('#df-b7d6e312-e515-4b79-8315-0b3abcc013d8');\n",
              "        const dataTable =\n",
              "          await google.colab.kernel.invokeFunction('convertToInteractive',\n",
              "                                                    [key], {});\n",
              "        if (!dataTable) return;\n",
              "\n",
              "        const docLinkHtml = 'Like what you see? Visit the ' +\n",
              "          '<a target=\"_blank\" href=https://colab.research.google.com/notebooks/data_table.ipynb>data table notebook</a>'\n",
              "          + ' to learn more about interactive tables.';\n",
              "        element.innerHTML = '';\n",
              "        dataTable['output_type'] = 'display_data';\n",
              "        await google.colab.output.renderOutput(dataTable, element);\n",
              "        const docLink = document.createElement('div');\n",
              "        docLink.innerHTML = docLinkHtml;\n",
              "        element.appendChild(docLink);\n",
              "      }\n",
              "    </script>\n",
              "  </div>\n",
              "\n",
              "\n",
              "    <div id=\"df-f6a2c9a4-ecaa-40bb-983c-8a796a3acc4f\">\n",
              "      <button class=\"colab-df-quickchart\" onclick=\"quickchart('df-f6a2c9a4-ecaa-40bb-983c-8a796a3acc4f')\"\n",
              "                title=\"Suggest charts\"\n",
              "                style=\"display:none;\">\n",
              "\n",
              "<svg xmlns=\"http://www.w3.org/2000/svg\" height=\"24px\"viewBox=\"0 0 24 24\"\n",
              "     width=\"24px\">\n",
              "    <g>\n",
              "        <path d=\"M19 3H5c-1.1 0-2 .9-2 2v14c0 1.1.9 2 2 2h14c1.1 0 2-.9 2-2V5c0-1.1-.9-2-2-2zM9 17H7v-7h2v7zm4 0h-2V7h2v10zm4 0h-2v-4h2v4z\"/>\n",
              "    </g>\n",
              "</svg>\n",
              "      </button>\n",
              "\n",
              "<style>\n",
              "  .colab-df-quickchart {\n",
              "      --bg-color: #E8F0FE;\n",
              "      --fill-color: #1967D2;\n",
              "      --hover-bg-color: #E2EBFA;\n",
              "      --hover-fill-color: #174EA6;\n",
              "      --disabled-fill-color: #AAA;\n",
              "      --disabled-bg-color: #DDD;\n",
              "  }\n",
              "\n",
              "  [theme=dark] .colab-df-quickchart {\n",
              "      --bg-color: #3B4455;\n",
              "      --fill-color: #D2E3FC;\n",
              "      --hover-bg-color: #434B5C;\n",
              "      --hover-fill-color: #FFFFFF;\n",
              "      --disabled-bg-color: #3B4455;\n",
              "      --disabled-fill-color: #666;\n",
              "  }\n",
              "\n",
              "  .colab-df-quickchart {\n",
              "    background-color: var(--bg-color);\n",
              "    border: none;\n",
              "    border-radius: 50%;\n",
              "    cursor: pointer;\n",
              "    display: none;\n",
              "    fill: var(--fill-color);\n",
              "    height: 32px;\n",
              "    padding: 0;\n",
              "    width: 32px;\n",
              "  }\n",
              "\n",
              "  .colab-df-quickchart:hover {\n",
              "    background-color: var(--hover-bg-color);\n",
              "    box-shadow: 0 1px 2px rgba(60, 64, 67, 0.3), 0 1px 3px 1px rgba(60, 64, 67, 0.15);\n",
              "    fill: var(--button-hover-fill-color);\n",
              "  }\n",
              "\n",
              "  .colab-df-quickchart-complete:disabled,\n",
              "  .colab-df-quickchart-complete:disabled:hover {\n",
              "    background-color: var(--disabled-bg-color);\n",
              "    fill: var(--disabled-fill-color);\n",
              "    box-shadow: none;\n",
              "  }\n",
              "\n",
              "  .colab-df-spinner {\n",
              "    border: 2px solid var(--fill-color);\n",
              "    border-color: transparent;\n",
              "    border-bottom-color: var(--fill-color);\n",
              "    animation:\n",
              "      spin 1s steps(1) infinite;\n",
              "  }\n",
              "\n",
              "  @keyframes spin {\n",
              "    0% {\n",
              "      border-color: transparent;\n",
              "      border-bottom-color: var(--fill-color);\n",
              "      border-left-color: var(--fill-color);\n",
              "    }\n",
              "    20% {\n",
              "      border-color: transparent;\n",
              "      border-left-color: var(--fill-color);\n",
              "      border-top-color: var(--fill-color);\n",
              "    }\n",
              "    30% {\n",
              "      border-color: transparent;\n",
              "      border-left-color: var(--fill-color);\n",
              "      border-top-color: var(--fill-color);\n",
              "      border-right-color: var(--fill-color);\n",
              "    }\n",
              "    40% {\n",
              "      border-color: transparent;\n",
              "      border-right-color: var(--fill-color);\n",
              "      border-top-color: var(--fill-color);\n",
              "    }\n",
              "    60% {\n",
              "      border-color: transparent;\n",
              "      border-right-color: var(--fill-color);\n",
              "    }\n",
              "    80% {\n",
              "      border-color: transparent;\n",
              "      border-right-color: var(--fill-color);\n",
              "      border-bottom-color: var(--fill-color);\n",
              "    }\n",
              "    90% {\n",
              "      border-color: transparent;\n",
              "      border-bottom-color: var(--fill-color);\n",
              "    }\n",
              "  }\n",
              "</style>\n",
              "\n",
              "      <script>\n",
              "        async function quickchart(key) {\n",
              "          const quickchartButtonEl =\n",
              "            document.querySelector('#' + key + ' button');\n",
              "          quickchartButtonEl.disabled = true;  // To prevent multiple clicks.\n",
              "          quickchartButtonEl.classList.add('colab-df-spinner');\n",
              "          try {\n",
              "            const charts = await google.colab.kernel.invokeFunction(\n",
              "                'suggestCharts', [key], {});\n",
              "          } catch (error) {\n",
              "            console.error('Error during call to suggestCharts:', error);\n",
              "          }\n",
              "          quickchartButtonEl.classList.remove('colab-df-spinner');\n",
              "          quickchartButtonEl.classList.add('colab-df-quickchart-complete');\n",
              "        }\n",
              "        (() => {\n",
              "          let quickchartButtonEl =\n",
              "            document.querySelector('#df-f6a2c9a4-ecaa-40bb-983c-8a796a3acc4f button');\n",
              "          quickchartButtonEl.style.display =\n",
              "            google.colab.kernel.accessAllowed ? 'block' : 'none';\n",
              "        })();\n",
              "      </script>\n",
              "    </div>\n",
              "\n",
              "  <div id=\"id_9719a288-003a-4c10-a099-0aa0c2fadeea\">\n",
              "    <style>\n",
              "      .colab-df-generate {\n",
              "        background-color: #E8F0FE;\n",
              "        border: none;\n",
              "        border-radius: 50%;\n",
              "        cursor: pointer;\n",
              "        display: none;\n",
              "        fill: #1967D2;\n",
              "        height: 32px;\n",
              "        padding: 0 0 0 0;\n",
              "        width: 32px;\n",
              "      }\n",
              "\n",
              "      .colab-df-generate:hover {\n",
              "        background-color: #E2EBFA;\n",
              "        box-shadow: 0px 1px 2px rgba(60, 64, 67, 0.3), 0px 1px 3px 1px rgba(60, 64, 67, 0.15);\n",
              "        fill: #174EA6;\n",
              "      }\n",
              "\n",
              "      [theme=dark] .colab-df-generate {\n",
              "        background-color: #3B4455;\n",
              "        fill: #D2E3FC;\n",
              "      }\n",
              "\n",
              "      [theme=dark] .colab-df-generate:hover {\n",
              "        background-color: #434B5C;\n",
              "        box-shadow: 0px 1px 3px 1px rgba(0, 0, 0, 0.15);\n",
              "        filter: drop-shadow(0px 1px 2px rgba(0, 0, 0, 0.3));\n",
              "        fill: #FFFFFF;\n",
              "      }\n",
              "    </style>\n",
              "    <button class=\"colab-df-generate\" onclick=\"generateWithVariable('world_map')\"\n",
              "            title=\"Generate code using this dataframe.\"\n",
              "            style=\"display:none;\">\n",
              "\n",
              "  <svg xmlns=\"http://www.w3.org/2000/svg\" height=\"24px\"viewBox=\"0 0 24 24\"\n",
              "       width=\"24px\">\n",
              "    <path d=\"M7,19H8.4L18.45,9,17,7.55,7,17.6ZM5,21V16.75L18.45,3.32a2,2,0,0,1,2.83,0l1.4,1.43a1.91,1.91,0,0,1,.58,1.4,1.91,1.91,0,0,1-.58,1.4L9.25,21ZM18.45,9,17,7.55Zm-12,3A5.31,5.31,0,0,0,4.9,8.1,5.31,5.31,0,0,0,1,6.5,5.31,5.31,0,0,0,4.9,4.9,5.31,5.31,0,0,0,6.5,1,5.31,5.31,0,0,0,8.1,4.9,5.31,5.31,0,0,0,12,6.5,5.46,5.46,0,0,0,6.5,12Z\"/>\n",
              "  </svg>\n",
              "    </button>\n",
              "    <script>\n",
              "      (() => {\n",
              "      const buttonEl =\n",
              "        document.querySelector('#id_9719a288-003a-4c10-a099-0aa0c2fadeea button.colab-df-generate');\n",
              "      buttonEl.style.display =\n",
              "        google.colab.kernel.accessAllowed ? 'block' : 'none';\n",
              "\n",
              "      buttonEl.onclick = () => {\n",
              "        google.colab.notebook.generateWithVariable('world_map');\n",
              "      }\n",
              "      })();\n",
              "    </script>\n",
              "  </div>\n",
              "\n",
              "    </div>\n",
              "  </div>\n"
            ],
            "application/vnd.google.colaboratory.intrinsic+json": {
              "type": "dataframe",
              "variable_name": "world_map"
            }
          },
          "metadata": {},
          "execution_count": 53
        }
      ]
    },
    {
      "cell_type": "code",
      "source": [
        "paesi_mappa = set(world_map['ADMIN'])\n",
        "paesi_incidenti = set(incidenti_per_nazione['Paese'])\n",
        "\n",
        "differenza_mappa = paesi_incidenti - paesi_mappa\n",
        "print(differenza_mappa)"
      ],
      "metadata": {
        "colab": {
          "base_uri": "https://localhost:8080/"
        },
        "id": "-MDd_-fQ__Q9",
        "outputId": "11a55078-03d9-4643-f334-c45be6708a80"
      },
      "execution_count": 54,
      "outputs": [
        {
          "output_type": "stream",
          "name": "stdout",
          "text": [
            "{'Indian Ocean', 'Bosnia', 'Samoa', 'CuraÃ§ao', 'Saint Lucia', 'Kiribati', 'Arctic Ocean', 'Micronesia', 'Christmas Isl.', 'C.A.R.', 'French Guiana', 'U.A.E.', 'Reunion', 'Comoros', 'Cook Isl.', 'U.K.', 'Malta', 'D.R. Congo', 'Saint BarthÃ©lemy', 'U.S. Virgin Isl.', 'Czech Rep.', 'Aruba', 'Dominican Rep.', 'Palau', 'Anguilla', 'USA', 'Tanzania', 'Maldives', 'Solomon Isl.', \"Cote d'Ivoire\", 'Tuvalu', 'B.V.I.', 'Turks & Caicos', 'St. Vincent', 'French Polynesia', 'Northern Mariana Isl', 'Guadeloupe', 'Gibraltar', 'Cape Verde', 'Singapore', 'Trinidad & Tobago', 'U.S. M.O. Islands', 'Macau', 'Antigua', 'P.N. Guinea', 'Timor', 'Falkland Isl.', 'Mauritius', 'Seychelles', 'Unknown country', 'St.Pierre & Miquelon', 'Tonga', 'American Samoa', 'Atlantic Ocean', 'Bahrain', 'Barbados', 'St. Helena', 'Cayman Isl.', 'Bermuda', 'Eswatini', 'Sint Maarten', 'Pacific Ocean', 'Eq. Guinea', 'Serbia', 'Hong Kong', 'Monaco', 'Bahamas', 'Dominica', 'Montserrat', 'Guam', 'Sao Tome', \"Caribbean Neth'lands\", '?', 'Norfolk Island', 'Martinique', 'Marshall Isl.', 'Mediterranean Sea', 'Cocos Isl.', 'St. Kitts & Nevis', 'Congo'}\n"
          ]
        }
      ]
    },
    {
      "cell_type": "code",
      "source": [
        "differenza_incidenti = paesi_mappa - paesi_incidenti\n",
        "print(differenza_incidenti)"
      ],
      "metadata": {
        "colab": {
          "base_uri": "https://localhost:8080/"
        },
        "id": "9fcF6_GKBBlx",
        "outputId": "5164b78b-1597-4a46-c21e-4955d48f690b"
      },
      "execution_count": 55,
      "outputs": [
        {
          "output_type": "stream",
          "name": "stdout",
          "text": [
            "{'United Republic of Tanzania', 'Equatorial Guinea', 'United Kingdom', 'Papua New Guinea', 'Central African Republic', 'Republic of Serbia', 'Solomon Islands', 'United States of America', 'Trinidad and Tobago', 'Northern Cyprus', 'The Bahamas', 'eSwatini', 'Ivory Coast', 'East Timor', 'Democratic Republic of the Congo', 'Falkland Islands', 'French Southern and Antarctic Lands', 'Bosnia and Herzegovina', 'Dominican Republic', 'Republic of the Congo', 'Czechia', 'Brunei', 'Somaliland', 'Palestine', 'United Arab Emirates'}\n"
          ]
        }
      ]
    },
    {
      "cell_type": "code",
      "source": [
        "rename_countries = {\n",
        "    'P.N. Guinea' : 'Papua New Guinea',\n",
        "    'Eq. Guinea' : 'Equatorial Guinea',\n",
        "    'D.R. Congo' : 'Democratic Republic of the Congo',\n",
        "    'Solomon Isl.' : 'Solomon Islands',\n",
        "    'U.S. M.O. Islands' : 'United States of America',\n",
        "    'Congo' : 'Republic of the Congo',\n",
        "    'Eswatini' : 'eSwatini',\n",
        "    'Bosnia' : 'Bosnia and Herzegovina',\n",
        "    \"Cote d'Ivoire\" : \"Ivory Coast\",\n",
        "    'U.S. Virgi Isl.' : 'United States of America',\n",
        "    'USA' : 'United States of America',\n",
        "    'Tanzania' : 'United Republic of Tanzania',\n",
        "    'Bahamas' : 'The Bahamas',\n",
        "    'U.A.E.' : 'United Arab Emirates',\n",
        "    'Serbia' : 'Republic of Serbia',\n",
        "    'U.K.' : 'United Kingdom',\n",
        "    'Czech Rep.' : 'Czechia',\n",
        "    'Dominica' : 'Dominican Republic',\n",
        "    'Dominican Rep.' : 'Dominican Republic',\n",
        "    'Timor' : 'East Timor',\n",
        "}\n",
        "\n",
        "incidenti_per_nazione['Paese'] = incidenti_per_nazione['Paese'].replace(rename_countries)\n",
        "incidenti_per_nazione = incidenti_per_nazione.groupby('Paese', as_index=False).sum()"
      ],
      "metadata": {
        "id": "kyjx9GJ2CJKd"
      },
      "execution_count": 56,
      "outputs": []
    },
    {
      "cell_type": "code",
      "source": [
        "paesi_mappa = set(world_map['ADMIN'])\n",
        "paesi_incidenti = set(incidenti_per_nazione['Paese'])\n",
        "\n",
        "differenza_mappa = paesi_incidenti - paesi_mappa\n",
        "print(differenza_mappa)"
      ],
      "metadata": {
        "colab": {
          "base_uri": "https://localhost:8080/"
        },
        "id": "UudrIQASGtQA",
        "outputId": "24b034b3-46a5-46ca-cb2e-6d75b40dabb0"
      },
      "execution_count": 57,
      "outputs": [
        {
          "output_type": "stream",
          "name": "stdout",
          "text": [
            "{'Aruba', 'Indian Ocean', 'Antigua', 'Hong Kong', 'Samoa', 'Monaco', 'CuraÃ§ao', 'Saint Lucia', 'Falkland Isl.', 'Mauritius', 'Kiribati', 'Palau', 'Arctic Ocean', 'Seychelles', 'Anguilla', 'Unknown country', 'Montserrat', 'Guam', 'St.Pierre & Miquelon', 'Micronesia', 'Christmas Isl.', 'Maldives', 'Tonga', 'Sao Tome', 'American Samoa', \"Caribbean Neth'lands\", 'Atlantic Ocean', '?', 'C.A.R.', 'Bahrain', 'Barbados', 'Norfolk Island', 'French Guiana', 'Reunion', 'St. Helena', 'Tuvalu', 'B.V.I.', 'Turks & Caicos', 'St. Vincent', 'Cayman Isl.', 'French Polynesia', 'Martinique', 'Comoros', 'Bermuda', 'Northern Mariana Isl', 'Cook Isl.', 'Marshall Isl.', 'Malta', 'Mediterranean Sea', 'Saint BarthÃ©lemy', 'Cocos Isl.', 'Guadeloupe', 'Gibraltar', 'Cape Verde', 'Singapore', 'Trinidad & Tobago', 'Sint Maarten', 'U.S. Virgin Isl.', 'Pacific Ocean', 'Macau', 'St. Kitts & Nevis'}\n"
          ]
        }
      ]
    },
    {
      "cell_type": "code",
      "source": [
        "differenza_incidenti = paesi_mappa - paesi_incidenti\n",
        "print(differenza_incidenti)"
      ],
      "metadata": {
        "colab": {
          "base_uri": "https://localhost:8080/"
        },
        "id": "ZZARhrPxG623",
        "outputId": "3a228ecd-7aea-4076-b7fb-33144c915d94"
      },
      "execution_count": 58,
      "outputs": [
        {
          "output_type": "stream",
          "name": "stdout",
          "text": [
            "{'Somaliland', 'Palestine', 'Falkland Islands', 'Trinidad and Tobago', 'French Southern and Antarctic Lands', 'Northern Cyprus', 'Central African Republic', 'Brunei'}\n"
          ]
        }
      ]
    },
    {
      "cell_type": "code",
      "source": [
        "mappa_incidenti = world_map.merge(incidenti_per_nazione, left_on='ADMIN', right_on='Paese')\n",
        "mappa_incidenti"
      ],
      "metadata": {
        "colab": {
          "base_uri": "https://localhost:8080/",
          "height": 1000
        },
        "id": "XS_BZhHFIKjB",
        "outputId": "7fdf9e5d-b209-458a-87a0-0379269c11e4"
      },
      "execution_count": 59,
      "outputs": [
        {
          "output_type": "execute_result",
          "data": {
            "text/plain": [
              "          featurecla  scalerank  LABELRANK                   SOVEREIGNT  \\\n",
              "0    Admin-0 country          1          6                         Fiji   \n",
              "1    Admin-0 country          1          3  United Republic of Tanzania   \n",
              "2    Admin-0 country          1          7               Western Sahara   \n",
              "3    Admin-0 country          1          2                       Canada   \n",
              "4    Admin-0 country          1          2     United States of America   \n",
              "..               ...        ...        ...                          ...   \n",
              "164  Admin-0 country          1          6              North Macedonia   \n",
              "165  Admin-0 country          1          5           Republic of Serbia   \n",
              "166  Admin-0 country          1          6                   Montenegro   \n",
              "167  Admin-0 country          1          6                       Kosovo   \n",
              "168  Admin-0 country          1          3                  South Sudan   \n",
              "\n",
              "    SOV_A3  ADM0_DIF  LEVEL               TYPE TLC  \\\n",
              "0      FJI         0      2  Sovereign country   1   \n",
              "1      TZA         0      2  Sovereign country   1   \n",
              "2      SAH         0      2      Indeterminate   1   \n",
              "3      CAN         0      2  Sovereign country   1   \n",
              "4      US1         1      2            Country   1   \n",
              "..     ...       ...    ...                ...  ..   \n",
              "164    MKD         0      2  Sovereign country   1   \n",
              "165    SRB         0      2  Sovereign country   1   \n",
              "166    MNE         0      2  Sovereign country   1   \n",
              "167    KOS         0      2           Disputed   1   \n",
              "168    SDS         0      2  Sovereign country   1   \n",
              "\n",
              "                           ADMIN  ...        FCLASS_PL     FCLASS_GR  \\\n",
              "0                           Fiji  ...             None          None   \n",
              "1    United Republic of Tanzania  ...             None          None   \n",
              "2                 Western Sahara  ...     Unrecognized          None   \n",
              "3                         Canada  ...             None          None   \n",
              "4       United States of America  ...             None          None   \n",
              "..                           ...  ...              ...           ...   \n",
              "164              North Macedonia  ...             None          None   \n",
              "165           Republic of Serbia  ...             None          None   \n",
              "166                   Montenegro  ...             None          None   \n",
              "167                       Kosovo  ...  Admin-0 country  Unrecognized   \n",
              "168                  South Sudan  ...             None          None   \n",
              "\n",
              "           FCLASS_IT        FCLASS_NL        FCLASS_SE        FCLASS_BD  \\\n",
              "0               None             None             None             None   \n",
              "1               None             None             None             None   \n",
              "2               None     Unrecognized             None             None   \n",
              "3               None             None             None             None   \n",
              "4               None             None             None             None   \n",
              "..               ...              ...              ...              ...   \n",
              "164             None             None             None             None   \n",
              "165             None             None             None             None   \n",
              "166             None             None             None             None   \n",
              "167  Admin-0 country  Admin-0 country  Admin-0 country  Admin-0 country   \n",
              "168             None             None             None             None   \n",
              "\n",
              "        FCLASS_UA                                           geometry  \\\n",
              "0            None  MULTIPOLYGON (((180 -16.06713, 180 -16.55522, ...   \n",
              "1            None  POLYGON ((33.90371 -0.95, 34.07262 -1.05982, 3...   \n",
              "2            None  POLYGON ((-8.66559 27.65643, -8.66512 27.58948...   \n",
              "3            None  MULTIPOLYGON (((-122.84 49, -122.97421 49.0025...   \n",
              "4            None  MULTIPOLYGON (((-122.84 49, -120 49, -117.0312...   \n",
              "..            ...                                                ...   \n",
              "164          None  POLYGON ((22.38053 42.32026, 22.88137 41.9993,...   \n",
              "165          None  POLYGON ((18.82982 45.90887, 18.82984 45.90888...   \n",
              "166          None  POLYGON ((20.0707 42.58863, 19.80161 42.50009,...   \n",
              "167  Unrecognized  POLYGON ((20.59025 41.85541, 20.52295 42.21787...   \n",
              "168          None  POLYGON ((30.83385 3.50917, 29.9535 4.1737, 29...   \n",
              "\n",
              "                           Paese Incidenti  \n",
              "0                           Fiji        19  \n",
              "1    United Republic of Tanzania        52  \n",
              "2                 Western Sahara         6  \n",
              "3                         Canada       826  \n",
              "4       United States of America      4389  \n",
              "..                           ...       ...  \n",
              "164              North Macedonia        10  \n",
              "165           Republic of Serbia        25  \n",
              "166                   Montenegro         5  \n",
              "167                       Kosovo         1  \n",
              "168                  South Sudan        92  \n",
              "\n",
              "[169 rows x 171 columns]"
            ],
            "text/html": [
              "\n",
              "  <div id=\"df-0c3ca180-698a-46fc-9d34-01cb3fdece58\" class=\"colab-df-container\">\n",
              "    <div>\n",
              "<style scoped>\n",
              "    .dataframe tbody tr th:only-of-type {\n",
              "        vertical-align: middle;\n",
              "    }\n",
              "\n",
              "    .dataframe tbody tr th {\n",
              "        vertical-align: top;\n",
              "    }\n",
              "\n",
              "    .dataframe thead th {\n",
              "        text-align: right;\n",
              "    }\n",
              "</style>\n",
              "<table border=\"1\" class=\"dataframe\">\n",
              "  <thead>\n",
              "    <tr style=\"text-align: right;\">\n",
              "      <th></th>\n",
              "      <th>featurecla</th>\n",
              "      <th>scalerank</th>\n",
              "      <th>LABELRANK</th>\n",
              "      <th>SOVEREIGNT</th>\n",
              "      <th>SOV_A3</th>\n",
              "      <th>ADM0_DIF</th>\n",
              "      <th>LEVEL</th>\n",
              "      <th>TYPE</th>\n",
              "      <th>TLC</th>\n",
              "      <th>ADMIN</th>\n",
              "      <th>...</th>\n",
              "      <th>FCLASS_PL</th>\n",
              "      <th>FCLASS_GR</th>\n",
              "      <th>FCLASS_IT</th>\n",
              "      <th>FCLASS_NL</th>\n",
              "      <th>FCLASS_SE</th>\n",
              "      <th>FCLASS_BD</th>\n",
              "      <th>FCLASS_UA</th>\n",
              "      <th>geometry</th>\n",
              "      <th>Paese</th>\n",
              "      <th>Incidenti</th>\n",
              "    </tr>\n",
              "  </thead>\n",
              "  <tbody>\n",
              "    <tr>\n",
              "      <th>0</th>\n",
              "      <td>Admin-0 country</td>\n",
              "      <td>1</td>\n",
              "      <td>6</td>\n",
              "      <td>Fiji</td>\n",
              "      <td>FJI</td>\n",
              "      <td>0</td>\n",
              "      <td>2</td>\n",
              "      <td>Sovereign country</td>\n",
              "      <td>1</td>\n",
              "      <td>Fiji</td>\n",
              "      <td>...</td>\n",
              "      <td>None</td>\n",
              "      <td>None</td>\n",
              "      <td>None</td>\n",
              "      <td>None</td>\n",
              "      <td>None</td>\n",
              "      <td>None</td>\n",
              "      <td>None</td>\n",
              "      <td>MULTIPOLYGON (((180 -16.06713, 180 -16.55522, ...</td>\n",
              "      <td>Fiji</td>\n",
              "      <td>19</td>\n",
              "    </tr>\n",
              "    <tr>\n",
              "      <th>1</th>\n",
              "      <td>Admin-0 country</td>\n",
              "      <td>1</td>\n",
              "      <td>3</td>\n",
              "      <td>United Republic of Tanzania</td>\n",
              "      <td>TZA</td>\n",
              "      <td>0</td>\n",
              "      <td>2</td>\n",
              "      <td>Sovereign country</td>\n",
              "      <td>1</td>\n",
              "      <td>United Republic of Tanzania</td>\n",
              "      <td>...</td>\n",
              "      <td>None</td>\n",
              "      <td>None</td>\n",
              "      <td>None</td>\n",
              "      <td>None</td>\n",
              "      <td>None</td>\n",
              "      <td>None</td>\n",
              "      <td>None</td>\n",
              "      <td>POLYGON ((33.90371 -0.95, 34.07262 -1.05982, 3...</td>\n",
              "      <td>United Republic of Tanzania</td>\n",
              "      <td>52</td>\n",
              "    </tr>\n",
              "    <tr>\n",
              "      <th>2</th>\n",
              "      <td>Admin-0 country</td>\n",
              "      <td>1</td>\n",
              "      <td>7</td>\n",
              "      <td>Western Sahara</td>\n",
              "      <td>SAH</td>\n",
              "      <td>0</td>\n",
              "      <td>2</td>\n",
              "      <td>Indeterminate</td>\n",
              "      <td>1</td>\n",
              "      <td>Western Sahara</td>\n",
              "      <td>...</td>\n",
              "      <td>Unrecognized</td>\n",
              "      <td>None</td>\n",
              "      <td>None</td>\n",
              "      <td>Unrecognized</td>\n",
              "      <td>None</td>\n",
              "      <td>None</td>\n",
              "      <td>None</td>\n",
              "      <td>POLYGON ((-8.66559 27.65643, -8.66512 27.58948...</td>\n",
              "      <td>Western Sahara</td>\n",
              "      <td>6</td>\n",
              "    </tr>\n",
              "    <tr>\n",
              "      <th>3</th>\n",
              "      <td>Admin-0 country</td>\n",
              "      <td>1</td>\n",
              "      <td>2</td>\n",
              "      <td>Canada</td>\n",
              "      <td>CAN</td>\n",
              "      <td>0</td>\n",
              "      <td>2</td>\n",
              "      <td>Sovereign country</td>\n",
              "      <td>1</td>\n",
              "      <td>Canada</td>\n",
              "      <td>...</td>\n",
              "      <td>None</td>\n",
              "      <td>None</td>\n",
              "      <td>None</td>\n",
              "      <td>None</td>\n",
              "      <td>None</td>\n",
              "      <td>None</td>\n",
              "      <td>None</td>\n",
              "      <td>MULTIPOLYGON (((-122.84 49, -122.97421 49.0025...</td>\n",
              "      <td>Canada</td>\n",
              "      <td>826</td>\n",
              "    </tr>\n",
              "    <tr>\n",
              "      <th>4</th>\n",
              "      <td>Admin-0 country</td>\n",
              "      <td>1</td>\n",
              "      <td>2</td>\n",
              "      <td>United States of America</td>\n",
              "      <td>US1</td>\n",
              "      <td>1</td>\n",
              "      <td>2</td>\n",
              "      <td>Country</td>\n",
              "      <td>1</td>\n",
              "      <td>United States of America</td>\n",
              "      <td>...</td>\n",
              "      <td>None</td>\n",
              "      <td>None</td>\n",
              "      <td>None</td>\n",
              "      <td>None</td>\n",
              "      <td>None</td>\n",
              "      <td>None</td>\n",
              "      <td>None</td>\n",
              "      <td>MULTIPOLYGON (((-122.84 49, -120 49, -117.0312...</td>\n",
              "      <td>United States of America</td>\n",
              "      <td>4389</td>\n",
              "    </tr>\n",
              "    <tr>\n",
              "      <th>...</th>\n",
              "      <td>...</td>\n",
              "      <td>...</td>\n",
              "      <td>...</td>\n",
              "      <td>...</td>\n",
              "      <td>...</td>\n",
              "      <td>...</td>\n",
              "      <td>...</td>\n",
              "      <td>...</td>\n",
              "      <td>...</td>\n",
              "      <td>...</td>\n",
              "      <td>...</td>\n",
              "      <td>...</td>\n",
              "      <td>...</td>\n",
              "      <td>...</td>\n",
              "      <td>...</td>\n",
              "      <td>...</td>\n",
              "      <td>...</td>\n",
              "      <td>...</td>\n",
              "      <td>...</td>\n",
              "      <td>...</td>\n",
              "      <td>...</td>\n",
              "    </tr>\n",
              "    <tr>\n",
              "      <th>164</th>\n",
              "      <td>Admin-0 country</td>\n",
              "      <td>1</td>\n",
              "      <td>6</td>\n",
              "      <td>North Macedonia</td>\n",
              "      <td>MKD</td>\n",
              "      <td>0</td>\n",
              "      <td>2</td>\n",
              "      <td>Sovereign country</td>\n",
              "      <td>1</td>\n",
              "      <td>North Macedonia</td>\n",
              "      <td>...</td>\n",
              "      <td>None</td>\n",
              "      <td>None</td>\n",
              "      <td>None</td>\n",
              "      <td>None</td>\n",
              "      <td>None</td>\n",
              "      <td>None</td>\n",
              "      <td>None</td>\n",
              "      <td>POLYGON ((22.38053 42.32026, 22.88137 41.9993,...</td>\n",
              "      <td>North Macedonia</td>\n",
              "      <td>10</td>\n",
              "    </tr>\n",
              "    <tr>\n",
              "      <th>165</th>\n",
              "      <td>Admin-0 country</td>\n",
              "      <td>1</td>\n",
              "      <td>5</td>\n",
              "      <td>Republic of Serbia</td>\n",
              "      <td>SRB</td>\n",
              "      <td>0</td>\n",
              "      <td>2</td>\n",
              "      <td>Sovereign country</td>\n",
              "      <td>1</td>\n",
              "      <td>Republic of Serbia</td>\n",
              "      <td>...</td>\n",
              "      <td>None</td>\n",
              "      <td>None</td>\n",
              "      <td>None</td>\n",
              "      <td>None</td>\n",
              "      <td>None</td>\n",
              "      <td>None</td>\n",
              "      <td>None</td>\n",
              "      <td>POLYGON ((18.82982 45.90887, 18.82984 45.90888...</td>\n",
              "      <td>Republic of Serbia</td>\n",
              "      <td>25</td>\n",
              "    </tr>\n",
              "    <tr>\n",
              "      <th>166</th>\n",
              "      <td>Admin-0 country</td>\n",
              "      <td>1</td>\n",
              "      <td>6</td>\n",
              "      <td>Montenegro</td>\n",
              "      <td>MNE</td>\n",
              "      <td>0</td>\n",
              "      <td>2</td>\n",
              "      <td>Sovereign country</td>\n",
              "      <td>1</td>\n",
              "      <td>Montenegro</td>\n",
              "      <td>...</td>\n",
              "      <td>None</td>\n",
              "      <td>None</td>\n",
              "      <td>None</td>\n",
              "      <td>None</td>\n",
              "      <td>None</td>\n",
              "      <td>None</td>\n",
              "      <td>None</td>\n",
              "      <td>POLYGON ((20.0707 42.58863, 19.80161 42.50009,...</td>\n",
              "      <td>Montenegro</td>\n",
              "      <td>5</td>\n",
              "    </tr>\n",
              "    <tr>\n",
              "      <th>167</th>\n",
              "      <td>Admin-0 country</td>\n",
              "      <td>1</td>\n",
              "      <td>6</td>\n",
              "      <td>Kosovo</td>\n",
              "      <td>KOS</td>\n",
              "      <td>0</td>\n",
              "      <td>2</td>\n",
              "      <td>Disputed</td>\n",
              "      <td>1</td>\n",
              "      <td>Kosovo</td>\n",
              "      <td>...</td>\n",
              "      <td>Admin-0 country</td>\n",
              "      <td>Unrecognized</td>\n",
              "      <td>Admin-0 country</td>\n",
              "      <td>Admin-0 country</td>\n",
              "      <td>Admin-0 country</td>\n",
              "      <td>Admin-0 country</td>\n",
              "      <td>Unrecognized</td>\n",
              "      <td>POLYGON ((20.59025 41.85541, 20.52295 42.21787...</td>\n",
              "      <td>Kosovo</td>\n",
              "      <td>1</td>\n",
              "    </tr>\n",
              "    <tr>\n",
              "      <th>168</th>\n",
              "      <td>Admin-0 country</td>\n",
              "      <td>1</td>\n",
              "      <td>3</td>\n",
              "      <td>South Sudan</td>\n",
              "      <td>SDS</td>\n",
              "      <td>0</td>\n",
              "      <td>2</td>\n",
              "      <td>Sovereign country</td>\n",
              "      <td>1</td>\n",
              "      <td>South Sudan</td>\n",
              "      <td>...</td>\n",
              "      <td>None</td>\n",
              "      <td>None</td>\n",
              "      <td>None</td>\n",
              "      <td>None</td>\n",
              "      <td>None</td>\n",
              "      <td>None</td>\n",
              "      <td>None</td>\n",
              "      <td>POLYGON ((30.83385 3.50917, 29.9535 4.1737, 29...</td>\n",
              "      <td>South Sudan</td>\n",
              "      <td>92</td>\n",
              "    </tr>\n",
              "  </tbody>\n",
              "</table>\n",
              "<p>169 rows × 171 columns</p>\n",
              "</div>\n",
              "    <div class=\"colab-df-buttons\">\n",
              "\n",
              "  <div class=\"colab-df-container\">\n",
              "    <button class=\"colab-df-convert\" onclick=\"convertToInteractive('df-0c3ca180-698a-46fc-9d34-01cb3fdece58')\"\n",
              "            title=\"Convert this dataframe to an interactive table.\"\n",
              "            style=\"display:none;\">\n",
              "\n",
              "  <svg xmlns=\"http://www.w3.org/2000/svg\" height=\"24px\" viewBox=\"0 -960 960 960\">\n",
              "    <path d=\"M120-120v-720h720v720H120Zm60-500h600v-160H180v160Zm220 220h160v-160H400v160Zm0 220h160v-160H400v160ZM180-400h160v-160H180v160Zm440 0h160v-160H620v160ZM180-180h160v-160H180v160Zm440 0h160v-160H620v160Z\"/>\n",
              "  </svg>\n",
              "    </button>\n",
              "\n",
              "  <style>\n",
              "    .colab-df-container {\n",
              "      display:flex;\n",
              "      gap: 12px;\n",
              "    }\n",
              "\n",
              "    .colab-df-convert {\n",
              "      background-color: #E8F0FE;\n",
              "      border: none;\n",
              "      border-radius: 50%;\n",
              "      cursor: pointer;\n",
              "      display: none;\n",
              "      fill: #1967D2;\n",
              "      height: 32px;\n",
              "      padding: 0 0 0 0;\n",
              "      width: 32px;\n",
              "    }\n",
              "\n",
              "    .colab-df-convert:hover {\n",
              "      background-color: #E2EBFA;\n",
              "      box-shadow: 0px 1px 2px rgba(60, 64, 67, 0.3), 0px 1px 3px 1px rgba(60, 64, 67, 0.15);\n",
              "      fill: #174EA6;\n",
              "    }\n",
              "\n",
              "    .colab-df-buttons div {\n",
              "      margin-bottom: 4px;\n",
              "    }\n",
              "\n",
              "    [theme=dark] .colab-df-convert {\n",
              "      background-color: #3B4455;\n",
              "      fill: #D2E3FC;\n",
              "    }\n",
              "\n",
              "    [theme=dark] .colab-df-convert:hover {\n",
              "      background-color: #434B5C;\n",
              "      box-shadow: 0px 1px 3px 1px rgba(0, 0, 0, 0.15);\n",
              "      filter: drop-shadow(0px 1px 2px rgba(0, 0, 0, 0.3));\n",
              "      fill: #FFFFFF;\n",
              "    }\n",
              "  </style>\n",
              "\n",
              "    <script>\n",
              "      const buttonEl =\n",
              "        document.querySelector('#df-0c3ca180-698a-46fc-9d34-01cb3fdece58 button.colab-df-convert');\n",
              "      buttonEl.style.display =\n",
              "        google.colab.kernel.accessAllowed ? 'block' : 'none';\n",
              "\n",
              "      async function convertToInteractive(key) {\n",
              "        const element = document.querySelector('#df-0c3ca180-698a-46fc-9d34-01cb3fdece58');\n",
              "        const dataTable =\n",
              "          await google.colab.kernel.invokeFunction('convertToInteractive',\n",
              "                                                    [key], {});\n",
              "        if (!dataTable) return;\n",
              "\n",
              "        const docLinkHtml = 'Like what you see? Visit the ' +\n",
              "          '<a target=\"_blank\" href=https://colab.research.google.com/notebooks/data_table.ipynb>data table notebook</a>'\n",
              "          + ' to learn more about interactive tables.';\n",
              "        element.innerHTML = '';\n",
              "        dataTable['output_type'] = 'display_data';\n",
              "        await google.colab.output.renderOutput(dataTable, element);\n",
              "        const docLink = document.createElement('div');\n",
              "        docLink.innerHTML = docLinkHtml;\n",
              "        element.appendChild(docLink);\n",
              "      }\n",
              "    </script>\n",
              "  </div>\n",
              "\n",
              "\n",
              "    <div id=\"df-5fefc42e-f407-46d0-8fa7-085493f72795\">\n",
              "      <button class=\"colab-df-quickchart\" onclick=\"quickchart('df-5fefc42e-f407-46d0-8fa7-085493f72795')\"\n",
              "                title=\"Suggest charts\"\n",
              "                style=\"display:none;\">\n",
              "\n",
              "<svg xmlns=\"http://www.w3.org/2000/svg\" height=\"24px\"viewBox=\"0 0 24 24\"\n",
              "     width=\"24px\">\n",
              "    <g>\n",
              "        <path d=\"M19 3H5c-1.1 0-2 .9-2 2v14c0 1.1.9 2 2 2h14c1.1 0 2-.9 2-2V5c0-1.1-.9-2-2-2zM9 17H7v-7h2v7zm4 0h-2V7h2v10zm4 0h-2v-4h2v4z\"/>\n",
              "    </g>\n",
              "</svg>\n",
              "      </button>\n",
              "\n",
              "<style>\n",
              "  .colab-df-quickchart {\n",
              "      --bg-color: #E8F0FE;\n",
              "      --fill-color: #1967D2;\n",
              "      --hover-bg-color: #E2EBFA;\n",
              "      --hover-fill-color: #174EA6;\n",
              "      --disabled-fill-color: #AAA;\n",
              "      --disabled-bg-color: #DDD;\n",
              "  }\n",
              "\n",
              "  [theme=dark] .colab-df-quickchart {\n",
              "      --bg-color: #3B4455;\n",
              "      --fill-color: #D2E3FC;\n",
              "      --hover-bg-color: #434B5C;\n",
              "      --hover-fill-color: #FFFFFF;\n",
              "      --disabled-bg-color: #3B4455;\n",
              "      --disabled-fill-color: #666;\n",
              "  }\n",
              "\n",
              "  .colab-df-quickchart {\n",
              "    background-color: var(--bg-color);\n",
              "    border: none;\n",
              "    border-radius: 50%;\n",
              "    cursor: pointer;\n",
              "    display: none;\n",
              "    fill: var(--fill-color);\n",
              "    height: 32px;\n",
              "    padding: 0;\n",
              "    width: 32px;\n",
              "  }\n",
              "\n",
              "  .colab-df-quickchart:hover {\n",
              "    background-color: var(--hover-bg-color);\n",
              "    box-shadow: 0 1px 2px rgba(60, 64, 67, 0.3), 0 1px 3px 1px rgba(60, 64, 67, 0.15);\n",
              "    fill: var(--button-hover-fill-color);\n",
              "  }\n",
              "\n",
              "  .colab-df-quickchart-complete:disabled,\n",
              "  .colab-df-quickchart-complete:disabled:hover {\n",
              "    background-color: var(--disabled-bg-color);\n",
              "    fill: var(--disabled-fill-color);\n",
              "    box-shadow: none;\n",
              "  }\n",
              "\n",
              "  .colab-df-spinner {\n",
              "    border: 2px solid var(--fill-color);\n",
              "    border-color: transparent;\n",
              "    border-bottom-color: var(--fill-color);\n",
              "    animation:\n",
              "      spin 1s steps(1) infinite;\n",
              "  }\n",
              "\n",
              "  @keyframes spin {\n",
              "    0% {\n",
              "      border-color: transparent;\n",
              "      border-bottom-color: var(--fill-color);\n",
              "      border-left-color: var(--fill-color);\n",
              "    }\n",
              "    20% {\n",
              "      border-color: transparent;\n",
              "      border-left-color: var(--fill-color);\n",
              "      border-top-color: var(--fill-color);\n",
              "    }\n",
              "    30% {\n",
              "      border-color: transparent;\n",
              "      border-left-color: var(--fill-color);\n",
              "      border-top-color: var(--fill-color);\n",
              "      border-right-color: var(--fill-color);\n",
              "    }\n",
              "    40% {\n",
              "      border-color: transparent;\n",
              "      border-right-color: var(--fill-color);\n",
              "      border-top-color: var(--fill-color);\n",
              "    }\n",
              "    60% {\n",
              "      border-color: transparent;\n",
              "      border-right-color: var(--fill-color);\n",
              "    }\n",
              "    80% {\n",
              "      border-color: transparent;\n",
              "      border-right-color: var(--fill-color);\n",
              "      border-bottom-color: var(--fill-color);\n",
              "    }\n",
              "    90% {\n",
              "      border-color: transparent;\n",
              "      border-bottom-color: var(--fill-color);\n",
              "    }\n",
              "  }\n",
              "</style>\n",
              "\n",
              "      <script>\n",
              "        async function quickchart(key) {\n",
              "          const quickchartButtonEl =\n",
              "            document.querySelector('#' + key + ' button');\n",
              "          quickchartButtonEl.disabled = true;  // To prevent multiple clicks.\n",
              "          quickchartButtonEl.classList.add('colab-df-spinner');\n",
              "          try {\n",
              "            const charts = await google.colab.kernel.invokeFunction(\n",
              "                'suggestCharts', [key], {});\n",
              "          } catch (error) {\n",
              "            console.error('Error during call to suggestCharts:', error);\n",
              "          }\n",
              "          quickchartButtonEl.classList.remove('colab-df-spinner');\n",
              "          quickchartButtonEl.classList.add('colab-df-quickchart-complete');\n",
              "        }\n",
              "        (() => {\n",
              "          let quickchartButtonEl =\n",
              "            document.querySelector('#df-5fefc42e-f407-46d0-8fa7-085493f72795 button');\n",
              "          quickchartButtonEl.style.display =\n",
              "            google.colab.kernel.accessAllowed ? 'block' : 'none';\n",
              "        })();\n",
              "      </script>\n",
              "    </div>\n",
              "\n",
              "  <div id=\"id_2284ab93-3e5b-4ac5-ab2c-ffd17f0f8390\">\n",
              "    <style>\n",
              "      .colab-df-generate {\n",
              "        background-color: #E8F0FE;\n",
              "        border: none;\n",
              "        border-radius: 50%;\n",
              "        cursor: pointer;\n",
              "        display: none;\n",
              "        fill: #1967D2;\n",
              "        height: 32px;\n",
              "        padding: 0 0 0 0;\n",
              "        width: 32px;\n",
              "      }\n",
              "\n",
              "      .colab-df-generate:hover {\n",
              "        background-color: #E2EBFA;\n",
              "        box-shadow: 0px 1px 2px rgba(60, 64, 67, 0.3), 0px 1px 3px 1px rgba(60, 64, 67, 0.15);\n",
              "        fill: #174EA6;\n",
              "      }\n",
              "\n",
              "      [theme=dark] .colab-df-generate {\n",
              "        background-color: #3B4455;\n",
              "        fill: #D2E3FC;\n",
              "      }\n",
              "\n",
              "      [theme=dark] .colab-df-generate:hover {\n",
              "        background-color: #434B5C;\n",
              "        box-shadow: 0px 1px 3px 1px rgba(0, 0, 0, 0.15);\n",
              "        filter: drop-shadow(0px 1px 2px rgba(0, 0, 0, 0.3));\n",
              "        fill: #FFFFFF;\n",
              "      }\n",
              "    </style>\n",
              "    <button class=\"colab-df-generate\" onclick=\"generateWithVariable('mappa_incidenti')\"\n",
              "            title=\"Generate code using this dataframe.\"\n",
              "            style=\"display:none;\">\n",
              "\n",
              "  <svg xmlns=\"http://www.w3.org/2000/svg\" height=\"24px\"viewBox=\"0 0 24 24\"\n",
              "       width=\"24px\">\n",
              "    <path d=\"M7,19H8.4L18.45,9,17,7.55,7,17.6ZM5,21V16.75L18.45,3.32a2,2,0,0,1,2.83,0l1.4,1.43a1.91,1.91,0,0,1,.58,1.4,1.91,1.91,0,0,1-.58,1.4L9.25,21ZM18.45,9,17,7.55Zm-12,3A5.31,5.31,0,0,0,4.9,8.1,5.31,5.31,0,0,0,1,6.5,5.31,5.31,0,0,0,4.9,4.9,5.31,5.31,0,0,0,6.5,1,5.31,5.31,0,0,0,8.1,4.9,5.31,5.31,0,0,0,12,6.5,5.46,5.46,0,0,0,6.5,12Z\"/>\n",
              "  </svg>\n",
              "    </button>\n",
              "    <script>\n",
              "      (() => {\n",
              "      const buttonEl =\n",
              "        document.querySelector('#id_2284ab93-3e5b-4ac5-ab2c-ffd17f0f8390 button.colab-df-generate');\n",
              "      buttonEl.style.display =\n",
              "        google.colab.kernel.accessAllowed ? 'block' : 'none';\n",
              "\n",
              "      buttonEl.onclick = () => {\n",
              "        google.colab.notebook.generateWithVariable('mappa_incidenti');\n",
              "      }\n",
              "      })();\n",
              "    </script>\n",
              "  </div>\n",
              "\n",
              "    </div>\n",
              "  </div>\n"
            ],
            "application/vnd.google.colaboratory.intrinsic+json": {
              "type": "dataframe",
              "variable_name": "mappa_incidenti"
            }
          },
          "metadata": {},
          "execution_count": 59
        }
      ]
    },
    {
      "cell_type": "code",
      "source": [
        "fig, ax = plt.subplots(figsize=(14,7))\n",
        "mappa_incidenti.plot(column='Incidenti', cmap='Reds', legend=True, ax=ax)\n",
        "plt.title('Accidents by countries')\n",
        "plt.axis('off')\n",
        "plt.show()"
      ],
      "metadata": {
        "colab": {
          "base_uri": "https://localhost:8080/",
          "height": 576
        },
        "id": "_Aheml6e7cTG",
        "outputId": "53dccebe-e709-443e-cdfc-043d2fed45c4"
      },
      "execution_count": 60,
      "outputs": [
        {
          "output_type": "display_data",
          "data": {
            "text/plain": [
              "<Figure size 1400x700 with 2 Axes>"
            ],
            "image/png": "[encoded data removed]"
          },
          "metadata": {}
        }
      ]
    },
    {
      "cell_type": "code",
      "source": [],
      "metadata": {
        "id": "60mtC0INmnQe"
      },
      "execution_count": null,
      "outputs": []
    }
  ]
}